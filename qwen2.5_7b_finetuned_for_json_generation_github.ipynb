{
  "cells": [
    {
      "cell_type": "markdown",
      "id": "d8f7929e-a342-494e-9362-bbc706cec115",
      "metadata": {
        "id": "d8f7929e-a342-494e-9362-bbc706cec115"
      },
      "source": [
        "### **Loading Required Libraries**"
      ]
    },
    {
      "cell_type": "code",
      "execution_count": null,
      "id": "bd3c3872-f616-42b8-8926-40b1115cf3ef",
      "metadata": {
        "id": "bd3c3872-f616-42b8-8926-40b1115cf3ef"
      },
      "outputs": [],
      "source": [
        "import torch\n",
        "from datasets import load_dataset\n",
        "from peft import PeftModel\n",
        "from transformers import (\n",
        "    AutoModelForCausalLM,\n",
        "    AutoTokenizer,\n",
        ")"
      ]
    },
    {
      "cell_type": "code",
      "execution_count": null,
      "id": "d4e51aeb-3a46-4756-8053-843190da6d94",
      "metadata": {
        "colab": {
          "referenced_widgets": [
            "dd2d4270140d476cba908bcf82ab8724"
          ]
        },
        "id": "d4e51aeb-3a46-4756-8053-843190da6d94",
        "outputId": "8758914e-e763-4cf6-d0da-e645a91fd848"
      },
      "outputs": [
        {
          "data": {
            "application/vnd.jupyter.widget-view+json": {
              "model_id": "dd2d4270140d476cba908bcf82ab8724",
              "version_major": 2,
              "version_minor": 0
            },
            "text/plain": [
              "VBox(children=(HTML(value='<center> <img\\nsrc=https://huggingface.co/front/assets/huggingface_logo-noborder.sv…"
            ]
          },
          "metadata": {},
          "output_type": "display_data"
        },
        {
          "name": "stderr",
          "output_type": "stream",
          "text": [
            "Token has not been saved to git credential helper.\n"
          ]
        }
      ],
      "source": [
        "from huggingface_hub import notebook_login\n",
        "notebook_login()"
      ]
    },
    {
      "cell_type": "code",
      "execution_count": null,
      "id": "17a67205-53e5-4fc3-9130-eb33b95fbc3e",
      "metadata": {
        "id": "17a67205-53e5-4fc3-9130-eb33b95fbc3e",
        "outputId": "07d98e4d-a04d-4e19-fb2a-b4419d778f17"
      },
      "outputs": [
        {
          "name": "stdout",
          "output_type": "stream",
          "text": [
            "4.42.2\n"
          ]
        }
      ],
      "source": [
        "from transformers import __version__ as transformers_version\n",
        "print(transformers_version)"
      ]
    },
    {
      "cell_type": "markdown",
      "id": "ad26396c-a7d9-48d3-8f4c-4197a7a60b11",
      "metadata": {
        "id": "ad26396c-a7d9-48d3-8f4c-4197a7a60b11"
      },
      "source": [
        "# **Finetuning Qwen2.5-7B Model on Salesforce/Xlam-function-calling Dataset**"
      ]
    },
    {
      "cell_type": "markdown",
      "id": "d8039082-a353-4a4d-9c01-3f20ffd18d48",
      "metadata": {
        "id": "d8039082-a353-4a4d-9c01-3f20ffd18d48"
      },
      "source": [
        "### **Loading the Base Model**"
      ]
    },
    {
      "cell_type": "code",
      "execution_count": null,
      "id": "4ae2f7b2-ca66-4cc4-9356-93acc060db1b",
      "metadata": {
        "id": "4ae2f7b2-ca66-4cc4-9356-93acc060db1b",
        "outputId": "7d9c8af5-8493-4820-a872-37b0172a05d6"
      },
      "outputs": [
        {
          "name": "stderr",
          "output_type": "stream",
          "text": [
            "Special tokens have been added in the vocabulary, make sure the associated word embeddings are fine-tuned or trained.\n"
          ]
        }
      ],
      "source": [
        "model_name = \"Qwen/Qwen2.5-7B-Instruct\"\n",
        "\n",
        "model = AutoModelForCausalLM.from_pretrained(\n",
        "    model_name,\n",
        "    load_in_8bit=True,        # Enable 8-bit loading\n",
        "    torch_dtype=\"auto\",\n",
        "    device_map=\"auto\"\n",
        ")\n",
        "tokenizer = AutoTokenizer.from_pretrained(model_name)\n",
        "tokenizer.pad_token = tokenizer.eos_token"
      ]
    },
    {
      "cell_type": "markdown",
      "id": "15349989-3a33-49c7-981e-22c92d1e4bb9",
      "metadata": {
        "id": "15349989-3a33-49c7-981e-22c92d1e4bb9"
      },
      "source": [
        "### **Base Model Inference for JSON Generation**"
      ]
    },
    {
      "cell_type": "code",
      "execution_count": null,
      "id": "af32f804-0f65-4148-a8bc-c2e972cd8f52",
      "metadata": {
        "colab": {
          "referenced_widgets": [
            "0222e44eed4b478c974524e7e872cd2b"
          ]
        },
        "id": "af32f804-0f65-4148-a8bc-c2e972cd8f52",
        "outputId": "f4e958ea-fd26-49bc-cfa9-c975a18bac9b"
      },
      "outputs": [
        {
          "data": {
            "application/vnd.jupyter.widget-view+json": {
              "model_id": "0222e44eed4b478c974524e7e872cd2b",
              "version_major": 2,
              "version_minor": 0
            },
            "text/plain": [
              "Loading checkpoint shards:   0%|          | 0/4 [00:00<?, ?it/s]"
            ]
          },
          "metadata": {},
          "output_type": "display_data"
        },
        {
          "name": "stderr",
          "output_type": "stream",
          "text": [
            "Special tokens have been added in the vocabulary, make sure the associated word embeddings are fine-tuned or trained.\n"
          ]
        },
        {
          "data": {
            "text/plain": [
              "'{\"employee\": {\"name\": \"Jane Smith\", \"designation\": \"Software Engineer\"}}'"
            ]
          },
          "execution_count": 4,
          "metadata": {},
          "output_type": "execute_result"
        }
      ],
      "source": [
        "model_name = \"Qwen/Qwen2.5-7B-Instruct\"\n",
        "\n",
        "model = AutoModelForCausalLM.from_pretrained(\n",
        "    model_name,\n",
        "    torch_dtype=\"auto\",\n",
        "    device_map=\"auto\"\n",
        ")\n",
        "tokenizer = AutoTokenizer.from_pretrained(model_name)\n",
        "\n",
        "prompt = 'Convert the following invalid json into valid json in single line: {\"employee\": \"name\": \"Jane Smith\", \"designation\": \"Software Engineer\"}'\n",
        "messages = [\n",
        "    {\"role\": \"system\", \"content\": \"You are Qwen, a helpful assistant. Your task is to convert any input into valid json\"},\n",
        "    {\"role\": \"user\", \"content\": prompt}\n",
        "]\n",
        "\n",
        "text = tokenizer.apply_chat_template(\n",
        "    messages,\n",
        "    tokenize=False,\n",
        "    add_generation_prompt=True\n",
        ")\n",
        "model_inputs = tokenizer([text], return_tensors=\"pt\").to(model.device)\n",
        "\n",
        "generated_ids = model.generate(\n",
        "    **model_inputs,\n",
        "    max_new_tokens=512\n",
        ")\n",
        "generated_ids = [\n",
        "    output_ids[len(input_ids):] for input_ids, output_ids in zip(model_inputs.input_ids, generated_ids)\n",
        "]\n",
        "\n",
        "response = tokenizer.batch_decode(generated_ids, skip_special_tokens=True)[0]\n",
        "response"
      ]
    },
    {
      "cell_type": "code",
      "execution_count": null,
      "id": "781ba910-69bd-4eba-8eab-c72462101df5",
      "metadata": {
        "id": "781ba910-69bd-4eba-8eab-c72462101df5",
        "outputId": "7e5b3204-5223-4a3c-bbb5-f327a2b0be6d"
      },
      "outputs": [
        {
          "name": "stdout",
          "output_type": "stream",
          "text": [
            "{%- if tools %}\n",
            "    {{- '<|im_start|>system\\n' }}\n",
            "    {%- if messages[0]['role'] == 'system' %}\n",
            "        {{- messages[0]['content'] }}\n",
            "    {%- else %}\n",
            "        {{- 'You are Qwen, created by Alibaba Cloud. You are a helpful assistant.' }}\n",
            "    {%- endif %}\n",
            "    {{- \"\\n\\n# Tools\\n\\nYou may call one or more functions to assist with the user query.\\n\\nYou are provided with function signatures within <tools></tools> XML tags:\\n<tools>\" }}\n",
            "    {%- for tool in tools %}\n",
            "        {{- \"\\n\" }}\n",
            "        {{- tool | tojson }}\n",
            "    {%- endfor %}\n",
            "    {{- \"\\n</tools>\\n\\nFor each function call, return a json object with function name and arguments within <tool_call></tool_call> XML tags:\\n<tool_call>\\n{\\\"name\\\": <function-name>, \\\"arguments\\\": <args-json-object>}\\n</tool_call><|im_end|>\\n\" }}\n",
            "{%- else %}\n",
            "    {%- if messages[0]['role'] == 'system' %}\n",
            "        {{- '<|im_start|>system\\n' + messages[0]['content'] + '<|im_end|>\\n' }}\n",
            "    {%- else %}\n",
            "        {{- '<|im_start|>system\\nYou are Qwen, created by Alibaba Cloud. You are a helpful assistant.<|im_end|>\\n' }}\n",
            "    {%- endif %}\n",
            "{%- endif %}\n",
            "{%- for message in messages %}\n",
            "    {%- if (message.role == \"user\") or (message.role == \"system\" and not loop.first) or (message.role == \"assistant\" and not message.tool_calls) %}\n",
            "        {{- '<|im_start|>' + message.role + '\\n' + message.content + '<|im_end|>' + '\\n' }}\n",
            "    {%- elif message.role == \"assistant\" %}\n",
            "        {{- '<|im_start|>' + message.role }}\n",
            "        {%- if message.content %}\n",
            "            {{- '\\n' + message.content }}\n",
            "        {%- endif %}\n",
            "        {%- for tool_call in message.tool_calls %}\n",
            "            {%- if tool_call.function is defined %}\n",
            "                {%- set tool_call = tool_call.function %}\n",
            "            {%- endif %}\n",
            "            {{- '\\n<tool_call>\\n{\"name\": \"' }}\n",
            "            {{- tool_call.name }}\n",
            "            {{- '\", \"arguments\": ' }}\n",
            "            {{- tool_call.arguments | tojson }}\n",
            "            {{- '}\\n</tool_call>' }}\n",
            "        {%- endfor %}\n",
            "        {{- '<|im_end|>\\n' }}\n",
            "    {%- elif message.role == \"tool\" %}\n",
            "        {%- if (loop.index0 == 0) or (messages[loop.index0 - 1].role != \"tool\") %}\n",
            "            {{- '<|im_start|>user' }}\n",
            "        {%- endif %}\n",
            "        {{- '\\n<tool_response>\\n' }}\n",
            "        {{- message.content }}\n",
            "        {{- '\\n</tool_response>' }}\n",
            "        {%- if loop.last or (messages[loop.index0 + 1].role != \"tool\") %}\n",
            "            {{- '<|im_end|>\\n' }}\n",
            "        {%- endif %}\n",
            "    {%- endif %}\n",
            "{%- endfor %}\n",
            "{%- if add_generation_prompt %}\n",
            "    {{- '<|im_start|>assistant\\n' }}\n",
            "{%- endif %}\n",
            "\n"
          ]
        }
      ],
      "source": [
        "print(tokenizer.chat_template)"
      ]
    },
    {
      "cell_type": "markdown",
      "id": "d3af5389-ca63-4683-a55c-668100c6b0a7",
      "metadata": {
        "id": "d3af5389-ca63-4683-a55c-668100c6b0a7"
      },
      "source": [
        "### **Loading the Dataset**"
      ]
    },
    {
      "cell_type": "code",
      "execution_count": null,
      "id": "43e98d12-3d4c-4c87-bb47-fd92eab2f9a9",
      "metadata": {
        "id": "43e98d12-3d4c-4c87-bb47-fd92eab2f9a9",
        "outputId": "aae210b5-3c18-4aac-e751-bf2c8f92999f"
      },
      "outputs": [
        {
          "data": {
            "text/plain": [
              "Dataset({\n",
              "    features: ['answers', 'query', 'tools', 'id'],\n",
              "    num_rows: 60000\n",
              "})"
            ]
          },
          "execution_count": 5,
          "metadata": {},
          "output_type": "execute_result"
        }
      ],
      "source": [
        "dataset = load_dataset(\"Salesforce/xlam-function-calling-60k\",split=\"train\")\n",
        "dataset"
      ]
    },
    {
      "cell_type": "code",
      "execution_count": null,
      "id": "f02cd400-a339-4f91-908f-b4cc20fd66f5",
      "metadata": {
        "id": "f02cd400-a339-4f91-908f-b4cc20fd66f5",
        "outputId": "47fdeb09-a576-4823-a175-1f2f2e2eaa0a"
      },
      "outputs": [
        {
          "data": {
            "text/plain": [
              "'Where can I find live giveaways for beta access and games?'"
            ]
          },
          "execution_count": 6,
          "metadata": {},
          "output_type": "execute_result"
        }
      ],
      "source": [
        "dataset[\"query\"][0]"
      ]
    },
    {
      "cell_type": "code",
      "execution_count": null,
      "id": "062249cd-2d3a-47d6-b2f6-f3f7d8f89bba",
      "metadata": {
        "id": "062249cd-2d3a-47d6-b2f6-f3f7d8f89bba",
        "outputId": "4417f922-bca3-4be5-bbbb-6428ba594f8b"
      },
      "outputs": [
        {
          "data": {
            "text/plain": [
              "'[{\"name\": \"live_giveaways_by_type\", \"arguments\": {\"type\": \"beta\"}}, {\"name\": \"live_giveaways_by_type\", \"arguments\": {\"type\": \"game\"}}]'"
            ]
          },
          "execution_count": 7,
          "metadata": {},
          "output_type": "execute_result"
        }
      ],
      "source": [
        "dataset[\"answers\"][0]"
      ]
    },
    {
      "cell_type": "markdown",
      "id": "ba0b6aca-2c30-4bea-9bfc-64205b1e46c9",
      "metadata": {
        "id": "ba0b6aca-2c30-4bea-9bfc-64205b1e46c9"
      },
      "source": [
        "### **Formatting the Dataset**"
      ]
    },
    {
      "cell_type": "code",
      "execution_count": null,
      "id": "e1ff1452-20a3-4b6a-b28c-6ecd0b475de2",
      "metadata": {
        "id": "e1ff1452-20a3-4b6a-b28c-6ecd0b475de2"
      },
      "outputs": [],
      "source": [
        "def generate_query_answer_prompt(data_point):\n",
        "    \"\"\"Generate a prompt for fine-tuning based on the query and answers from the dataset.\"\"\"\n",
        "\n",
        "    messages = []\n",
        "\n",
        "    # Add the system prompt with the specific instruction\n",
        "    messages.append({\n",
        "        'role': 'system',\n",
        "        'content': 'You are a helpful assistant. Your task is to convert every input query into a valid JSON.'\n",
        "    })\n",
        "\n",
        "    # Add the user's query\n",
        "    messages.append({\n",
        "        'role': 'user',\n",
        "        'content': data_point['query']\n",
        "    })\n",
        "\n",
        "    # Add the assistant's response\n",
        "    messages.append({\n",
        "        'role': 'assistant',\n",
        "        'content': data_point['answers']\n",
        "    })\n",
        "\n",
        "    prompt = ''\n",
        "\n",
        "    # Since we are not using tools, we follow the 'else' branch of the template\n",
        "    # Handle the system message\n",
        "    if messages[0]['role'] == 'system':\n",
        "        prompt += '<|im_start|>system\\n' + messages[0]['content'] + '<|im_end|>\\n'\n",
        "    else:\n",
        "        prompt += '<|im_start|>system\\nYou are a helpful assistant. Your task is to convert every input query into a valid JSON.<|im_end|>\\n'\n",
        "\n",
        "    # Process the rest of the messages\n",
        "    for message in messages[1:]:\n",
        "        role = message['role']\n",
        "        content = message['content']\n",
        "\n",
        "        # Since we're not using tool_calls or tools, we can format messages directly\n",
        "        prompt += f'<|im_start|>{role}\\n{content}<|im_end|>\\n'\n",
        "\n",
        "    return prompt\n",
        "\n",
        "# Apply the function to the dataset to create the 'prompt' column\n",
        "text_column = [generate_query_answer_prompt(data_point) for data_point in dataset]\n",
        "dataset = dataset.add_column(\"prompt\", text_column)"
      ]
    },
    {
      "cell_type": "code",
      "execution_count": null,
      "id": "88439d63-0f08-4fca-8cd4-f823bc24fc6c",
      "metadata": {
        "id": "88439d63-0f08-4fca-8cd4-f823bc24fc6c",
        "outputId": "cd4969ca-10fb-492d-d9dc-ab697350515e"
      },
      "outputs": [
        {
          "data": {
            "text/plain": [
              "Dataset({\n",
              "    features: ['answers', 'query', 'tools', 'id', 'prompt'],\n",
              "    num_rows: 60000\n",
              "})"
            ]
          },
          "execution_count": 9,
          "metadata": {},
          "output_type": "execute_result"
        }
      ],
      "source": [
        "dataset"
      ]
    },
    {
      "cell_type": "markdown",
      "id": "8703ade0-315d-4770-b5a3-35198e10cf05",
      "metadata": {
        "id": "8703ade0-315d-4770-b5a3-35198e10cf05"
      },
      "source": [
        "### **Tokenization of Dataset**"
      ]
    },
    {
      "cell_type": "code",
      "execution_count": null,
      "id": "f67b88e9-b4f9-402e-bb3c-9ebaaa474ebd",
      "metadata": {
        "id": "f67b88e9-b4f9-402e-bb3c-9ebaaa474ebd",
        "outputId": "20cb46eb-ad12-4091-ae00-350d2da0f409"
      },
      "outputs": [
        {
          "data": {
            "text/plain": [
              "Dataset({\n",
              "    features: ['answers', 'query', 'tools', 'id', 'prompt', 'input_ids', 'attention_mask'],\n",
              "    num_rows: 60000\n",
              "})"
            ]
          },
          "execution_count": 10,
          "metadata": {},
          "output_type": "execute_result"
        }
      ],
      "source": [
        "dataset = dataset.shuffle(seed=1234)\n",
        "dataset = dataset.map(lambda samples: tokenizer(samples[\"prompt\"]), batched=True)\n",
        "dataset"
      ]
    },
    {
      "cell_type": "code",
      "execution_count": null,
      "id": "305208ff-1729-4afa-8582-32105efc9bca",
      "metadata": {
        "id": "305208ff-1729-4afa-8582-32105efc9bca",
        "outputId": "cd9662b9-ef8f-444b-cdd3-6d1269dd060e"
      },
      "outputs": [
        {
          "data": {
            "text/plain": [
              "DatasetDict({\n",
              "    train: Dataset({\n",
              "        features: ['answers', 'query', 'tools', 'id', 'prompt', 'input_ids', 'attention_mask'],\n",
              "        num_rows: 48000\n",
              "    })\n",
              "    test: Dataset({\n",
              "        features: ['answers', 'query', 'tools', 'id', 'prompt', 'input_ids', 'attention_mask'],\n",
              "        num_rows: 12000\n",
              "    })\n",
              "})"
            ]
          },
          "execution_count": 11,
          "metadata": {},
          "output_type": "execute_result"
        }
      ],
      "source": [
        "dataset = dataset.train_test_split(test_size=0.2)\n",
        "train_data = dataset[\"train\"]\n",
        "test_data = dataset[\"test\"]\n",
        "dataset"
      ]
    },
    {
      "cell_type": "code",
      "execution_count": null,
      "id": "5d815c42-d971-42db-ab3e-a569f60690e5",
      "metadata": {
        "id": "5d815c42-d971-42db-ab3e-a569f60690e5",
        "outputId": "65956bdf-3b07-4003-f4bb-0fb18a712b47"
      },
      "outputs": [
        {
          "data": {
            "text/plain": [
              "'<|im_start|>system\\nYou are a helpful assistant. Your task is to convert every input query into a valid JSON.<|im_end|>\\n<|im_start|>user\\nCan you fetch the options prices for a Call option on AAPL with a strike price of 130 and an expiration date of 2023-12-31?<|im_end|>\\n<|im_start|>assistant\\n[{\"name\": \"options_prices\", \"arguments\": {\"type\": \"Call\", \"symbol\": \"AAPL\", \"strike\": 130, \"expiration\": \"2023-12-31\"}}]<|im_end|>\\n'"
            ]
          },
          "execution_count": 12,
          "metadata": {},
          "output_type": "execute_result"
        }
      ],
      "source": [
        "train_data['prompt'][0]"
      ]
    },
    {
      "cell_type": "markdown",
      "id": "3c2ad2e8-ec99-4631-b4bc-f978801345b9",
      "metadata": {
        "id": "3c2ad2e8-ec99-4631-b4bc-f978801345b9"
      },
      "source": [
        "### **Apply Lora**"
      ]
    },
    {
      "cell_type": "code",
      "execution_count": null,
      "id": "d39e6481-b204-46cf-bdd9-e9c030a7fe27",
      "metadata": {
        "id": "d39e6481-b204-46cf-bdd9-e9c030a7fe27"
      },
      "outputs": [],
      "source": [
        "from peft import LoraConfig, get_peft_model\n",
        "lora_config = LoraConfig(\n",
        "    r=64,\n",
        "    lora_alpha=32,\n",
        "    target_modules=['o_proj', 'q_proj', 'up_proj', 'v_proj', 'k_proj', 'down_proj', 'gate_proj'],  # Target LoRA modules\n",
        "    lora_dropout=0.05,\n",
        "    bias=\"none\",\n",
        "    task_type=\"CAUSAL_LM\" \n",
        ")\n",
        "\n",
        "model = get_peft_model(model, lora_config)"
      ]
    },
    {
      "cell_type": "code",
      "execution_count": null,
      "id": "958b83db-048d-40e3-93c3-07cf0aae25fc",
      "metadata": {
        "id": "958b83db-048d-40e3-93c3-07cf0aae25fc",
        "outputId": "23ba524f-2851-4016-a815-10944fa997af"
      },
      "outputs": [
        {
          "name": "stdout",
          "output_type": "stream",
          "text": [
            "Trainable: 161480704 | Total: 7777097216 | Percentage: 2.0764%\n"
          ]
        }
      ],
      "source": [
        "trainable, total = model.get_nb_trainable_parameters()\n",
        "print(f\"Trainable: {trainable} | Total: {total} | Percentage: {trainable/total*100:.4f}%\")"
      ]
    },
    {
      "cell_type": "markdown",
      "id": "859da30c-827a-464c-9b48-9eb8fb85a171",
      "metadata": {
        "id": "859da30c-827a-464c-9b48-9eb8fb85a171"
      },
      "source": [
        "### **Setting Up Training Arguments and Training for SFTTrainer**"
      ]
    },
    {
      "cell_type": "code",
      "execution_count": null,
      "id": "d00522ef-b7aa-4c24-8380-2ed8de1ab8bc",
      "metadata": {
        "colab": {
          "referenced_widgets": [
            "0dadbd06bc574d5e8bf72fe0de3a611b"
          ]
        },
        "id": "d00522ef-b7aa-4c24-8380-2ed8de1ab8bc",
        "outputId": "b132d3e2-5d70-42b5-914b-7dde218b59f8"
      },
      "outputs": [
        {
          "name": "stderr",
          "output_type": "stream",
          "text": [
            "/home/geek/anaconda3/envs/gemma2/lib/python3.10/site-packages/huggingface_hub/utils/_deprecation.py:100: FutureWarning: Deprecated argument(s) used in '__init__': dataset_text_field. Will not be supported from version '1.0.0'.\n",
            "\n",
            "Deprecated positional argument(s) used in SFTTrainer, please use the SFTConfig to set these arguments instead.\n",
            "  warnings.warn(message, FutureWarning)\n",
            "Special tokens have been added in the vocabulary, make sure the associated word embeddings are fine-tuned or trained.\n",
            "/home/geek/anaconda3/envs/gemma2/lib/python3.10/site-packages/trl/trainer/sft_trainer.py:292: UserWarning: You didn't pass a `max_seq_length` argument to the SFTTrainer, this will default to 1024\n",
            "  warnings.warn(\n",
            "/home/geek/anaconda3/envs/gemma2/lib/python3.10/site-packages/trl/trainer/sft_trainer.py:321: UserWarning: You passed a `dataset_text_field` argument to the SFTTrainer, the value you passed will override the one in the `SFTConfig`.\n",
            "  warnings.warn(\n",
            "max_steps is given, it will override any value given in num_train_epochs\n"
          ]
        },
        {
          "name": "stdout",
          "output_type": "stream",
          "text": [
            "[2024-10-28 14:18:34,440] [INFO] [real_accelerator.py:203:get_accelerator] Setting ds_accelerator to cuda (auto detect)\n"
          ]
        },
        {
          "name": "stderr",
          "output_type": "stream",
          "text": [
            "/home/geek/anaconda3/envs/gemma2/lib/python3.10/site-packages/transformers/optimization.py:591: FutureWarning: This implementation of AdamW is deprecated and will be removed in a future version. Use the PyTorch implementation torch.optim.AdamW instead, or set `no_deprecation_warning=True` to disable this warning\n",
            "  warnings.warn(\n",
            "/home/geek/anaconda3/envs/gemma2/compiler_compat/ld: cannot find -laio: No such file or directory\n",
            "collect2: error: ld returned 1 exit status\n",
            "/home/geek/anaconda3/envs/gemma2/compiler_compat/ld: cannot find -lcufile: No such file or directory\n",
            "collect2: error: ld returned 1 exit status\n"
          ]
        },
        {
          "data": {
            "application/vnd.jupyter.widget-view+json": {
              "model_id": "0dadbd06bc574d5e8bf72fe0de3a611b",
              "version_major": 2,
              "version_minor": 0
            },
            "text/plain": [
              "  0%|          | 0/1500 [00:00<?, ?it/s]"
            ]
          },
          "metadata": {},
          "output_type": "display_data"
        },
        {
          "name": "stderr",
          "output_type": "stream",
          "text": [
            "We detected that you are passing `past_key_values` as a tuple and this is deprecated and will be removed in v4.43. Please use an appropriate `Cache` class (https://huggingface.co/docs/transformers/v4.41.3/en/internal/generation_utils#transformers.Cache)\n",
            "/home/geek/anaconda3/envs/gemma2/lib/python3.10/site-packages/bitsandbytes/autograd/_functions.py:322: UserWarning: MatMul8bitLt: inputs will be cast from torch.bfloat16 to float16 during quantization\n",
            "  warnings.warn(f\"MatMul8bitLt: inputs will be cast from {A.dtype} to float16 during quantization\")\n"
          ]
        },
        {
          "name": "stdout",
          "output_type": "stream",
          "text": [
            "{'loss': 2.8936, 'grad_norm': 1.321012020111084, 'learning_rate': 0.0001, 'epoch': 0.0}\n",
            "{'loss': 1.7582, 'grad_norm': 1.2027846574783325, 'learning_rate': 0.0002, 'epoch': 0.0}\n",
            "{'loss': 1.042, 'grad_norm': 0.619357705116272, 'learning_rate': 0.00019932885906040267, 'epoch': 0.0}\n",
            "{'loss': 0.726, 'grad_norm': 0.3536224067211151, 'learning_rate': 0.0001986577181208054, 'epoch': 0.0}\n",
            "{'loss': 0.718, 'grad_norm': 0.4736764430999756, 'learning_rate': 0.00019798657718120806, 'epoch': 0.0}\n",
            "{'loss': 0.7451, 'grad_norm': 0.3898603916168213, 'learning_rate': 0.00019731543624161075, 'epoch': 0.0}\n",
            "{'loss': 0.7024, 'grad_norm': 0.4720907509326935, 'learning_rate': 0.00019664429530201342, 'epoch': 0.0}\n",
            "{'loss': 0.7805, 'grad_norm': 0.3852503001689911, 'learning_rate': 0.00019597315436241613, 'epoch': 0.0}\n",
            "{'loss': 0.7006, 'grad_norm': 0.3920633792877197, 'learning_rate': 0.0001953020134228188, 'epoch': 0.0}\n",
            "{'loss': 0.7133, 'grad_norm': 0.31026753783226013, 'learning_rate': 0.0001946308724832215, 'epoch': 0.0}\n",
            "{'loss': 0.7479, 'grad_norm': 0.3288682997226715, 'learning_rate': 0.00019395973154362416, 'epoch': 0.0}\n",
            "{'loss': 0.709, 'grad_norm': 0.2564425468444824, 'learning_rate': 0.00019328859060402688, 'epoch': 0.01}\n",
            "{'loss': 0.6569, 'grad_norm': 0.27630966901779175, 'learning_rate': 0.00019261744966442954, 'epoch': 0.01}\n",
            "{'loss': 0.661, 'grad_norm': 0.322257936000824, 'learning_rate': 0.0001919463087248322, 'epoch': 0.01}\n",
            "{'loss': 0.6405, 'grad_norm': 0.3095681965351105, 'learning_rate': 0.0001912751677852349, 'epoch': 0.01}\n",
            "{'loss': 0.7635, 'grad_norm': 0.2770104706287384, 'learning_rate': 0.0001906040268456376, 'epoch': 0.01}\n",
            "{'loss': 0.8119, 'grad_norm': 0.3027842342853546, 'learning_rate': 0.00018993288590604028, 'epoch': 0.01}\n",
            "{'loss': 0.7235, 'grad_norm': 0.3159724175930023, 'learning_rate': 0.00018926174496644295, 'epoch': 0.01}\n",
            "{'loss': 0.7392, 'grad_norm': 0.3408673405647278, 'learning_rate': 0.00018859060402684564, 'epoch': 0.01}\n",
            "{'loss': 0.5979, 'grad_norm': 0.23332947492599487, 'learning_rate': 0.00018791946308724833, 'epoch': 0.01}\n",
            "{'loss': 0.5802, 'grad_norm': 0.3127962052822113, 'learning_rate': 0.00018724832214765102, 'epoch': 0.01}\n",
            "{'loss': 0.5773, 'grad_norm': 0.31208866834640503, 'learning_rate': 0.0001865771812080537, 'epoch': 0.01}\n",
            "{'loss': 0.6811, 'grad_norm': 0.37410521507263184, 'learning_rate': 0.00018590604026845638, 'epoch': 0.01}\n",
            "{'loss': 0.6951, 'grad_norm': 0.3089597821235657, 'learning_rate': 0.00018523489932885907, 'epoch': 0.01}\n",
            "{'loss': 0.6816, 'grad_norm': 0.28387507796287537, 'learning_rate': 0.00018456375838926174, 'epoch': 0.01}\n",
            "{'loss': 0.5672, 'grad_norm': 0.35275185108184814, 'learning_rate': 0.00018389261744966443, 'epoch': 0.01}\n",
            "{'loss': 0.6002, 'grad_norm': 0.35652098059654236, 'learning_rate': 0.00018322147651006712, 'epoch': 0.01}\n",
            "{'loss': 0.6318, 'grad_norm': 0.6044877171516418, 'learning_rate': 0.00018255033557046981, 'epoch': 0.01}\n",
            "{'loss': 0.7463, 'grad_norm': 0.38618358969688416, 'learning_rate': 0.00018187919463087248, 'epoch': 0.01}\n",
            "{'loss': 0.684, 'grad_norm': 0.31382855772972107, 'learning_rate': 0.00018120805369127517, 'epoch': 0.01}\n",
            "{'loss': 0.5936, 'grad_norm': 0.2695350646972656, 'learning_rate': 0.00018053691275167786, 'epoch': 0.01}\n",
            "{'loss': 0.6588, 'grad_norm': 0.3624812364578247, 'learning_rate': 0.00017986577181208056, 'epoch': 0.01}\n",
            "{'loss': 0.5727, 'grad_norm': 0.2346924990415573, 'learning_rate': 0.00017919463087248322, 'epoch': 0.01}\n",
            "{'loss': 0.6726, 'grad_norm': 0.32426169514656067, 'learning_rate': 0.0001785234899328859, 'epoch': 0.01}\n",
            "{'loss': 0.6989, 'grad_norm': 0.27248504757881165, 'learning_rate': 0.0001778523489932886, 'epoch': 0.01}\n",
            "{'loss': 0.6167, 'grad_norm': 0.28097113966941833, 'learning_rate': 0.0001771812080536913, 'epoch': 0.01}\n",
            "{'loss': 0.6253, 'grad_norm': 0.30349090695381165, 'learning_rate': 0.00017651006711409396, 'epoch': 0.02}\n",
            "{'loss': 0.6861, 'grad_norm': 0.32873520255088806, 'learning_rate': 0.00017583892617449665, 'epoch': 0.02}\n",
            "{'loss': 0.6156, 'grad_norm': 0.38794854283332825, 'learning_rate': 0.00017516778523489935, 'epoch': 0.02}\n",
            "{'loss': 0.5734, 'grad_norm': 0.226979598402977, 'learning_rate': 0.000174496644295302, 'epoch': 0.02}\n",
            "{'loss': 0.5775, 'grad_norm': 0.23558396100997925, 'learning_rate': 0.0001738255033557047, 'epoch': 0.02}\n",
            "{'loss': 0.7396, 'grad_norm': 0.3969160318374634, 'learning_rate': 0.0001731543624161074, 'epoch': 0.02}\n",
            "{'loss': 0.6072, 'grad_norm': 0.2943388521671295, 'learning_rate': 0.0001724832214765101, 'epoch': 0.02}\n",
            "{'loss': 0.6672, 'grad_norm': 0.35969650745391846, 'learning_rate': 0.00017181208053691275, 'epoch': 0.02}\n",
            "{'loss': 0.8481, 'grad_norm': 0.3577955365180969, 'learning_rate': 0.00017114093959731544, 'epoch': 0.02}\n",
            "{'loss': 0.6687, 'grad_norm': 0.28341546654701233, 'learning_rate': 0.00017046979865771814, 'epoch': 0.02}\n",
            "{'loss': 0.6195, 'grad_norm': 0.3804703652858734, 'learning_rate': 0.00016979865771812083, 'epoch': 0.02}\n",
            "{'loss': 0.6313, 'grad_norm': 0.31101495027542114, 'learning_rate': 0.0001691275167785235, 'epoch': 0.02}\n",
            "{'loss': 0.6125, 'grad_norm': 0.3893974721431732, 'learning_rate': 0.00016845637583892619, 'epoch': 0.02}\n",
            "{'loss': 0.585, 'grad_norm': 0.37781158089637756, 'learning_rate': 0.00016778523489932888, 'epoch': 0.02}\n",
            "{'loss': 0.7891, 'grad_norm': 0.4132479429244995, 'learning_rate': 0.00016711409395973154, 'epoch': 0.02}\n",
            "{'loss': 0.672, 'grad_norm': 0.31957414746284485, 'learning_rate': 0.00016644295302013423, 'epoch': 0.02}\n",
            "{'loss': 0.6926, 'grad_norm': 0.3519010841846466, 'learning_rate': 0.00016577181208053693, 'epoch': 0.02}\n",
            "{'loss': 0.5766, 'grad_norm': 0.33546701073646545, 'learning_rate': 0.00016510067114093962, 'epoch': 0.02}\n",
            "{'loss': 0.6464, 'grad_norm': 0.269253134727478, 'learning_rate': 0.00016442953020134228, 'epoch': 0.02}\n",
            "{'loss': 0.5942, 'grad_norm': 0.4368710517883301, 'learning_rate': 0.00016375838926174498, 'epoch': 0.02}\n",
            "{'loss': 0.5376, 'grad_norm': 0.30232760310173035, 'learning_rate': 0.00016308724832214767, 'epoch': 0.02}\n",
            "{'loss': 0.6092, 'grad_norm': 0.3217957615852356, 'learning_rate': 0.00016241610738255036, 'epoch': 0.02}\n",
            "{'loss': 0.6676, 'grad_norm': 0.33571845293045044, 'learning_rate': 0.00016174496644295302, 'epoch': 0.02}\n",
            "{'loss': 0.6532, 'grad_norm': 0.38338953256607056, 'learning_rate': 0.0001610738255033557, 'epoch': 0.03}\n",
            "{'loss': 0.6503, 'grad_norm': 0.3571111857891083, 'learning_rate': 0.0001604026845637584, 'epoch': 0.03}\n",
            "{'loss': 0.5433, 'grad_norm': 0.4828258156776428, 'learning_rate': 0.00015973154362416107, 'epoch': 0.03}\n",
            "{'loss': 0.5967, 'grad_norm': 0.3318142294883728, 'learning_rate': 0.00015906040268456377, 'epoch': 0.03}\n",
            "{'loss': 0.6449, 'grad_norm': 0.37836432456970215, 'learning_rate': 0.00015838926174496643, 'epoch': 0.03}\n",
            "{'loss': 0.5583, 'grad_norm': 0.3838956356048584, 'learning_rate': 0.00015771812080536915, 'epoch': 0.03}\n",
            "{'loss': 0.5029, 'grad_norm': 0.3155035972595215, 'learning_rate': 0.00015704697986577181, 'epoch': 0.03}\n",
            "{'loss': 0.6627, 'grad_norm': 0.35647788643836975, 'learning_rate': 0.0001563758389261745, 'epoch': 0.03}\n",
            "{'loss': 0.5019, 'grad_norm': 0.3466436564922333, 'learning_rate': 0.0001557046979865772, 'epoch': 0.03}\n",
            "{'loss': 0.6412, 'grad_norm': 0.37808331847190857, 'learning_rate': 0.0001550335570469799, 'epoch': 0.03}\n",
            "{'loss': 0.5714, 'grad_norm': 0.22561833262443542, 'learning_rate': 0.00015436241610738256, 'epoch': 0.03}\n",
            "{'loss': 0.5156, 'grad_norm': 0.2667444944381714, 'learning_rate': 0.00015369127516778522, 'epoch': 0.03}\n",
            "{'loss': 0.6453, 'grad_norm': 0.4142588675022125, 'learning_rate': 0.00015302013422818794, 'epoch': 0.03}\n",
            "{'loss': 0.5514, 'grad_norm': 0.3437817096710205, 'learning_rate': 0.0001523489932885906, 'epoch': 0.03}\n",
            "{'loss': 0.6405, 'grad_norm': 0.3435855209827423, 'learning_rate': 0.0001516778523489933, 'epoch': 0.03}\n",
            "{'loss': 0.575, 'grad_norm': 0.41202884912490845, 'learning_rate': 0.00015100671140939596, 'epoch': 0.03}\n",
            "{'loss': 0.5669, 'grad_norm': 0.30116674304008484, 'learning_rate': 0.00015033557046979868, 'epoch': 0.03}\n",
            "{'loss': 0.5225, 'grad_norm': 0.27056846022605896, 'learning_rate': 0.00014966442953020135, 'epoch': 0.03}\n",
            "{'loss': 0.4626, 'grad_norm': 0.3386252522468567, 'learning_rate': 0.00014899328859060404, 'epoch': 0.03}\n",
            "{'loss': 0.6278, 'grad_norm': 0.30474498867988586, 'learning_rate': 0.0001483221476510067, 'epoch': 0.03}\n",
            "{'loss': 0.5932, 'grad_norm': 0.3823380172252655, 'learning_rate': 0.00014765100671140942, 'epoch': 0.03}\n",
            "{'loss': 0.5861, 'grad_norm': 0.404340535402298, 'learning_rate': 0.0001469798657718121, 'epoch': 0.03}\n",
            "{'loss': 0.6313, 'grad_norm': 0.25480687618255615, 'learning_rate': 0.00014630872483221478, 'epoch': 0.03}\n",
            "{'loss': 0.5514, 'grad_norm': 0.3775899410247803, 'learning_rate': 0.00014563758389261744, 'epoch': 0.03}\n",
            "{'loss': 0.7366, 'grad_norm': 0.2881285846233368, 'learning_rate': 0.00014496644295302014, 'epoch': 0.04}\n",
            "{'loss': 0.6253, 'grad_norm': 0.21517620980739594, 'learning_rate': 0.00014429530201342283, 'epoch': 0.04}\n",
            "{'loss': 0.6042, 'grad_norm': 0.35708656907081604, 'learning_rate': 0.0001436241610738255, 'epoch': 0.04}\n",
            "{'loss': 0.4712, 'grad_norm': 0.69501793384552, 'learning_rate': 0.00014295302013422819, 'epoch': 0.04}\n",
            "{'loss': 0.544, 'grad_norm': 0.475638210773468, 'learning_rate': 0.00014228187919463088, 'epoch': 0.04}\n",
            "{'loss': 0.5243, 'grad_norm': 0.3327457010746002, 'learning_rate': 0.00014161073825503357, 'epoch': 0.04}\n",
            "{'loss': 0.5226, 'grad_norm': 0.3110737204551697, 'learning_rate': 0.00014093959731543624, 'epoch': 0.04}\n",
            "{'loss': 0.5752, 'grad_norm': 0.32067185640335083, 'learning_rate': 0.00014026845637583895, 'epoch': 0.04}\n",
            "{'loss': 0.6329, 'grad_norm': 0.43612146377563477, 'learning_rate': 0.00013959731543624162, 'epoch': 0.04}\n",
            "{'loss': 0.5219, 'grad_norm': 0.3686608672142029, 'learning_rate': 0.0001389261744966443, 'epoch': 0.04}\n",
            "{'loss': 0.632, 'grad_norm': 0.3754260540008545, 'learning_rate': 0.00013825503355704698, 'epoch': 0.04}\n",
            "{'loss': 0.6004, 'grad_norm': 0.342627614736557, 'learning_rate': 0.00013758389261744967, 'epoch': 0.04}\n",
            "{'loss': 0.5576, 'grad_norm': 0.28392747044563293, 'learning_rate': 0.00013691275167785236, 'epoch': 0.04}\n",
            "{'loss': 0.654, 'grad_norm': 0.3199175000190735, 'learning_rate': 0.00013624161073825503, 'epoch': 0.04}\n",
            "{'loss': 0.5482, 'grad_norm': 0.24620899558067322, 'learning_rate': 0.00013557046979865772, 'epoch': 0.04}\n",
            "{'loss': 0.6123, 'grad_norm': 0.3420810401439667, 'learning_rate': 0.0001348993288590604, 'epoch': 0.04}\n",
            "{'loss': 0.5786, 'grad_norm': 0.35092461109161377, 'learning_rate': 0.0001342281879194631, 'epoch': 0.04}\n",
            "{'loss': 0.6183, 'grad_norm': 0.3824903070926666, 'learning_rate': 0.00013355704697986577, 'epoch': 0.04}\n",
            "{'loss': 0.5731, 'grad_norm': 0.33347225189208984, 'learning_rate': 0.00013288590604026846, 'epoch': 0.04}\n",
            "{'loss': 0.7073, 'grad_norm': 0.39942246675491333, 'learning_rate': 0.00013221476510067115, 'epoch': 0.04}\n",
            "{'loss': 0.486, 'grad_norm': 0.26373305916786194, 'learning_rate': 0.00013154362416107384, 'epoch': 0.04}\n",
            "{'loss': 0.5566, 'grad_norm': 0.2759457230567932, 'learning_rate': 0.0001308724832214765, 'epoch': 0.04}\n",
            "{'loss': 0.6302, 'grad_norm': 0.40089014172554016, 'learning_rate': 0.0001302013422818792, 'epoch': 0.04}\n",
            "{'loss': 0.5663, 'grad_norm': 0.39065155386924744, 'learning_rate': 0.0001295302013422819, 'epoch': 0.04}\n",
            "{'loss': 0.6853, 'grad_norm': 0.4068041741847992, 'learning_rate': 0.00012885906040268456, 'epoch': 0.04}\n",
            "{'loss': 0.6291, 'grad_norm': 0.40476059913635254, 'learning_rate': 0.00012818791946308725, 'epoch': 0.05}\n",
            "{'loss': 0.56, 'grad_norm': 0.293648898601532, 'learning_rate': 0.00012751677852348994, 'epoch': 0.05}\n",
            "{'loss': 0.58, 'grad_norm': 0.2928416132926941, 'learning_rate': 0.00012684563758389263, 'epoch': 0.05}\n",
            "{'loss': 0.5531, 'grad_norm': 0.5387043952941895, 'learning_rate': 0.0001261744966442953, 'epoch': 0.05}\n",
            "{'loss': 0.5281, 'grad_norm': 0.4173261821269989, 'learning_rate': 0.000125503355704698, 'epoch': 0.05}\n",
            "{'loss': 0.4477, 'grad_norm': 0.2717777490615845, 'learning_rate': 0.00012483221476510068, 'epoch': 0.05}\n",
            "{'loss': 0.5749, 'grad_norm': 0.27173250913619995, 'learning_rate': 0.00012416107382550337, 'epoch': 0.05}\n",
            "{'loss': 0.5476, 'grad_norm': 0.38549622893333435, 'learning_rate': 0.00012348993288590604, 'epoch': 0.05}\n",
            "{'loss': 0.7033, 'grad_norm': 0.2808822691440582, 'learning_rate': 0.00012281879194630873, 'epoch': 0.05}\n",
            "{'loss': 0.6081, 'grad_norm': 0.3162103593349457, 'learning_rate': 0.00012214765100671142, 'epoch': 0.05}\n",
            "{'loss': 0.5114, 'grad_norm': 0.3017699420452118, 'learning_rate': 0.00012147651006711409, 'epoch': 0.05}\n",
            "{'loss': 0.5387, 'grad_norm': 0.34072989225387573, 'learning_rate': 0.0001208053691275168, 'epoch': 0.05}\n",
            "{'loss': 0.5463, 'grad_norm': 0.4162345230579376, 'learning_rate': 0.00012013422818791946, 'epoch': 0.05}\n",
            "{'loss': 0.5505, 'grad_norm': 0.3973589539527893, 'learning_rate': 0.00011946308724832216, 'epoch': 0.05}\n",
            "{'loss': 0.5433, 'grad_norm': 0.3208774924278259, 'learning_rate': 0.00011879194630872483, 'epoch': 0.05}\n",
            "{'loss': 0.5889, 'grad_norm': 0.31779608130455017, 'learning_rate': 0.00011812080536912754, 'epoch': 0.05}\n",
            "{'loss': 0.4875, 'grad_norm': 0.3547314405441284, 'learning_rate': 0.0001174496644295302, 'epoch': 0.05}\n",
            "{'loss': 0.4794, 'grad_norm': 0.5171663761138916, 'learning_rate': 0.0001167785234899329, 'epoch': 0.05}\n",
            "{'loss': 0.5025, 'grad_norm': 0.30324721336364746, 'learning_rate': 0.00011610738255033557, 'epoch': 0.05}\n",
            "{'loss': 0.6825, 'grad_norm': 0.3968508243560791, 'learning_rate': 0.00011543624161073828, 'epoch': 0.05}\n",
            "{'loss': 0.6758, 'grad_norm': 0.3422803282737732, 'learning_rate': 0.00011476510067114094, 'epoch': 0.05}\n",
            "{'loss': 0.5665, 'grad_norm': 0.27515822649002075, 'learning_rate': 0.00011409395973154362, 'epoch': 0.05}\n",
            "{'loss': 0.4778, 'grad_norm': 0.3023245334625244, 'learning_rate': 0.00011342281879194631, 'epoch': 0.05}\n",
            "{'loss': 0.5543, 'grad_norm': 0.3468867242336273, 'learning_rate': 0.00011275167785234899, 'epoch': 0.06}\n",
            "{'loss': 0.4454, 'grad_norm': 0.36471137404441833, 'learning_rate': 0.00011208053691275168, 'epoch': 0.06}\n",
            "{'loss': 0.6785, 'grad_norm': 0.44949331879615784, 'learning_rate': 0.00011140939597315436, 'epoch': 0.06}\n",
            "{'loss': 0.6001, 'grad_norm': 0.5096777677536011, 'learning_rate': 0.00011073825503355705, 'epoch': 0.06}\n",
            "{'loss': 0.5969, 'grad_norm': 0.4250260889530182, 'learning_rate': 0.00011006711409395973, 'epoch': 0.06}\n",
            "{'loss': 0.5664, 'grad_norm': 0.278607577085495, 'learning_rate': 0.00010939597315436242, 'epoch': 0.06}\n",
            "{'loss': 0.5979, 'grad_norm': 0.3356674015522003, 'learning_rate': 0.0001087248322147651, 'epoch': 0.06}\n",
            "{'loss': 0.554, 'grad_norm': 0.4508928656578064, 'learning_rate': 0.0001080536912751678, 'epoch': 0.06}\n",
            "{'loss': 0.5234, 'grad_norm': 0.37675604224205017, 'learning_rate': 0.00010738255033557047, 'epoch': 0.06}\n",
            "{'loss': 0.5375, 'grad_norm': 0.2775547206401825, 'learning_rate': 0.00010671140939597315, 'epoch': 0.06}\n",
            "{'loss': 0.704, 'grad_norm': 0.3225381076335907, 'learning_rate': 0.00010604026845637584, 'epoch': 0.06}\n",
            "{'loss': 0.4988, 'grad_norm': 0.2798004150390625, 'learning_rate': 0.00010536912751677852, 'epoch': 0.06}\n",
            "{'loss': 0.5348, 'grad_norm': 0.36963433027267456, 'learning_rate': 0.00010469798657718121, 'epoch': 0.06}\n",
            "{'loss': 0.6879, 'grad_norm': 0.37817567586898804, 'learning_rate': 0.00010402684563758389, 'epoch': 0.06}\n",
            "{'loss': 0.6572, 'grad_norm': 0.4076486825942993, 'learning_rate': 0.00010335570469798659, 'epoch': 0.06}\n",
            "{'loss': 0.5002, 'grad_norm': 0.28623509407043457, 'learning_rate': 0.00010268456375838926, 'epoch': 0.06}\n",
            "{'loss': 0.553, 'grad_norm': 0.3674829304218292, 'learning_rate': 0.00010201342281879196, 'epoch': 0.06}\n",
            "{'loss': 0.3903, 'grad_norm': 0.3384321331977844, 'learning_rate': 0.00010134228187919463, 'epoch': 0.06}\n",
            "{'loss': 0.6528, 'grad_norm': 0.3154667019844055, 'learning_rate': 0.00010067114093959733, 'epoch': 0.06}\n",
            "{'loss': 0.5351, 'grad_norm': 0.4675488770008087, 'learning_rate': 0.0001, 'epoch': 0.06}\n",
            "{'loss': 0.593, 'grad_norm': 0.4942464530467987, 'learning_rate': 9.93288590604027e-05, 'epoch': 0.06}\n",
            "{'loss': 0.5827, 'grad_norm': 0.2657260298728943, 'learning_rate': 9.865771812080538e-05, 'epoch': 0.06}\n",
            "{'loss': 0.5433, 'grad_norm': 0.36301693320274353, 'learning_rate': 9.798657718120807e-05, 'epoch': 0.06}\n",
            "{'loss': 0.511, 'grad_norm': 0.24923792481422424, 'learning_rate': 9.731543624161075e-05, 'epoch': 0.06}\n",
            "{'loss': 0.585, 'grad_norm': 0.3233596086502075, 'learning_rate': 9.664429530201344e-05, 'epoch': 0.07}\n",
            "{'loss': 0.5646, 'grad_norm': 0.426085889339447, 'learning_rate': 9.59731543624161e-05, 'epoch': 0.07}\n",
            "{'loss': 0.5685, 'grad_norm': 0.4777577817440033, 'learning_rate': 9.53020134228188e-05, 'epoch': 0.07}\n",
            "{'loss': 0.5833, 'grad_norm': 0.3480432629585266, 'learning_rate': 9.463087248322147e-05, 'epoch': 0.07}\n",
            "{'loss': 0.6071, 'grad_norm': 0.28381821513175964, 'learning_rate': 9.395973154362417e-05, 'epoch': 0.07}\n",
            "{'loss': 0.4788, 'grad_norm': 0.3339056968688965, 'learning_rate': 9.328859060402684e-05, 'epoch': 0.07}\n",
            "{'loss': 0.5346, 'grad_norm': 0.35816311836242676, 'learning_rate': 9.261744966442954e-05, 'epoch': 0.07}\n",
            "{'loss': 0.4482, 'grad_norm': 0.34976521134376526, 'learning_rate': 9.194630872483221e-05, 'epoch': 0.07}\n",
            "{'loss': 0.4736, 'grad_norm': 0.29256993532180786, 'learning_rate': 9.127516778523491e-05, 'epoch': 0.07}\n",
            "{'loss': 0.5851, 'grad_norm': 0.337489515542984, 'learning_rate': 9.060402684563759e-05, 'epoch': 0.07}\n",
            "{'loss': 0.5702, 'grad_norm': 0.2595500946044922, 'learning_rate': 8.993288590604028e-05, 'epoch': 0.07}\n",
            "{'loss': 0.6509, 'grad_norm': 0.3325366973876953, 'learning_rate': 8.926174496644296e-05, 'epoch': 0.07}\n",
            "{'loss': 0.5767, 'grad_norm': 0.28018754720687866, 'learning_rate': 8.859060402684565e-05, 'epoch': 0.07}\n",
            "{'loss': 0.4996, 'grad_norm': 0.34792160987854004, 'learning_rate': 8.791946308724833e-05, 'epoch': 0.07}\n",
            "{'loss': 0.6064, 'grad_norm': 0.38063880801200867, 'learning_rate': 8.7248322147651e-05, 'epoch': 0.07}\n",
            "{'loss': 0.5635, 'grad_norm': 0.4089818000793457, 'learning_rate': 8.65771812080537e-05, 'epoch': 0.07}\n",
            "{'loss': 0.5486, 'grad_norm': 0.3092348277568817, 'learning_rate': 8.590604026845638e-05, 'epoch': 0.07}\n",
            "{'loss': 0.7017, 'grad_norm': 0.35430875420570374, 'learning_rate': 8.523489932885907e-05, 'epoch': 0.07}\n",
            "{'loss': 0.5768, 'grad_norm': 0.36837321519851685, 'learning_rate': 8.456375838926175e-05, 'epoch': 0.07}\n",
            "{'loss': 0.7153, 'grad_norm': 0.3762948215007782, 'learning_rate': 8.389261744966444e-05, 'epoch': 0.07}\n",
            "{'loss': 0.6039, 'grad_norm': 0.3926398754119873, 'learning_rate': 8.322147651006712e-05, 'epoch': 0.07}\n",
            "{'loss': 0.4953, 'grad_norm': 0.2697322964668274, 'learning_rate': 8.255033557046981e-05, 'epoch': 0.07}\n",
            "{'loss': 0.6161, 'grad_norm': 0.34550192952156067, 'learning_rate': 8.187919463087249e-05, 'epoch': 0.07}\n",
            "{'loss': 0.5974, 'grad_norm': 0.4006950855255127, 'learning_rate': 8.120805369127518e-05, 'epoch': 0.07}\n",
            "{'loss': 0.4477, 'grad_norm': 0.2712002098560333, 'learning_rate': 8.053691275167784e-05, 'epoch': 0.07}\n",
            "{'loss': 0.5371, 'grad_norm': 0.35213690996170044, 'learning_rate': 7.986577181208054e-05, 'epoch': 0.08}\n",
            "{'loss': 0.5947, 'grad_norm': 0.2879420220851898, 'learning_rate': 7.919463087248322e-05, 'epoch': 0.08}\n",
            "{'loss': 0.4547, 'grad_norm': 0.3673238158226013, 'learning_rate': 7.852348993288591e-05, 'epoch': 0.08}\n",
            "{'loss': 0.6602, 'grad_norm': 0.30631861090660095, 'learning_rate': 7.78523489932886e-05, 'epoch': 0.08}\n",
            "{'loss': 0.5871, 'grad_norm': 0.352481871843338, 'learning_rate': 7.718120805369128e-05, 'epoch': 0.08}\n",
            "{'loss': 0.5605, 'grad_norm': 0.36067983508110046, 'learning_rate': 7.651006711409397e-05, 'epoch': 0.08}\n",
            "{'loss': 0.554, 'grad_norm': 0.33187246322631836, 'learning_rate': 7.583892617449665e-05, 'epoch': 0.08}\n",
            "{'loss': 0.4634, 'grad_norm': 0.25410428643226624, 'learning_rate': 7.516778523489934e-05, 'epoch': 0.08}\n",
            "{'loss': 0.5169, 'grad_norm': 0.33310142159461975, 'learning_rate': 7.449664429530202e-05, 'epoch': 0.08}\n",
            "{'loss': 0.6679, 'grad_norm': 0.39162477850914, 'learning_rate': 7.382550335570471e-05, 'epoch': 0.08}\n",
            "{'loss': 0.4915, 'grad_norm': 0.24930618703365326, 'learning_rate': 7.315436241610739e-05, 'epoch': 0.08}\n",
            "{'loss': 0.6271, 'grad_norm': 0.3922668993473053, 'learning_rate': 7.248322147651007e-05, 'epoch': 0.08}\n",
            "{'loss': 0.4967, 'grad_norm': 0.3827766180038452, 'learning_rate': 7.181208053691275e-05, 'epoch': 0.08}\n",
            "{'loss': 0.6281, 'grad_norm': 0.4296548366546631, 'learning_rate': 7.114093959731544e-05, 'epoch': 0.08}\n",
            "{'loss': 0.6058, 'grad_norm': 0.5213266015052795, 'learning_rate': 7.046979865771812e-05, 'epoch': 0.08}\n",
            "{'loss': 0.5055, 'grad_norm': 0.2890239655971527, 'learning_rate': 6.979865771812081e-05, 'epoch': 0.08}\n",
            "{'loss': 0.4978, 'grad_norm': 0.39188265800476074, 'learning_rate': 6.912751677852349e-05, 'epoch': 0.08}\n",
            "{'loss': 0.482, 'grad_norm': 0.39561566710472107, 'learning_rate': 6.845637583892618e-05, 'epoch': 0.08}\n",
            "{'loss': 0.5422, 'grad_norm': 0.3907294273376465, 'learning_rate': 6.778523489932886e-05, 'epoch': 0.08}\n",
            "{'loss': 0.4681, 'grad_norm': 0.3285132348537445, 'learning_rate': 6.711409395973155e-05, 'epoch': 0.08}\n",
            "{'loss': 0.565, 'grad_norm': 0.3697749674320221, 'learning_rate': 6.644295302013423e-05, 'epoch': 0.08}\n",
            "{'loss': 0.5467, 'grad_norm': 0.41220808029174805, 'learning_rate': 6.577181208053692e-05, 'epoch': 0.08}\n",
            "{'loss': 0.5957, 'grad_norm': 0.44231829047203064, 'learning_rate': 6.51006711409396e-05, 'epoch': 0.08}\n",
            "{'loss': 0.4912, 'grad_norm': 0.49707579612731934, 'learning_rate': 6.442953020134228e-05, 'epoch': 0.09}\n",
            "{'loss': 0.5519, 'grad_norm': 0.36728334426879883, 'learning_rate': 6.375838926174497e-05, 'epoch': 0.09}\n",
            "{'loss': 0.6461, 'grad_norm': 0.3214331865310669, 'learning_rate': 6.308724832214765e-05, 'epoch': 0.09}\n",
            "{'loss': 0.5457, 'grad_norm': 0.4391406774520874, 'learning_rate': 6.241610738255034e-05, 'epoch': 0.09}\n",
            "{'loss': 0.5141, 'grad_norm': 0.3688916862010956, 'learning_rate': 6.174496644295302e-05, 'epoch': 0.09}\n",
            "{'loss': 0.4161, 'grad_norm': 0.3105493485927582, 'learning_rate': 6.107382550335571e-05, 'epoch': 0.09}\n",
            "{'loss': 0.437, 'grad_norm': 0.25529494881629944, 'learning_rate': 6.04026845637584e-05, 'epoch': 0.09}\n",
            "{'loss': 0.476, 'grad_norm': 0.3196927011013031, 'learning_rate': 5.973154362416108e-05, 'epoch': 0.09}\n",
            "{'loss': 0.4678, 'grad_norm': 0.36142292618751526, 'learning_rate': 5.906040268456377e-05, 'epoch': 0.09}\n",
            "{'loss': 0.508, 'grad_norm': 0.33364951610565186, 'learning_rate': 5.838926174496645e-05, 'epoch': 0.09}\n",
            "{'loss': 0.4963, 'grad_norm': 0.5327391028404236, 'learning_rate': 5.771812080536914e-05, 'epoch': 0.09}\n",
            "{'loss': 0.5828, 'grad_norm': 0.26654937863349915, 'learning_rate': 5.704697986577181e-05, 'epoch': 0.09}\n",
            "{'loss': 0.4338, 'grad_norm': 0.3519477844238281, 'learning_rate': 5.6375838926174495e-05, 'epoch': 0.09}\n",
            "{'loss': 0.5288, 'grad_norm': 0.37600502371788025, 'learning_rate': 5.570469798657718e-05, 'epoch': 0.09}\n",
            "{'loss': 0.4139, 'grad_norm': 0.3380204141139984, 'learning_rate': 5.5033557046979866e-05, 'epoch': 0.09}\n",
            "{'loss': 0.4783, 'grad_norm': 0.3007613718509674, 'learning_rate': 5.436241610738255e-05, 'epoch': 0.09}\n",
            "{'loss': 0.5216, 'grad_norm': 0.42686691880226135, 'learning_rate': 5.3691275167785237e-05, 'epoch': 0.09}\n",
            "{'loss': 0.5373, 'grad_norm': 0.3797430396080017, 'learning_rate': 5.302013422818792e-05, 'epoch': 0.09}\n",
            "{'loss': 0.4158, 'grad_norm': 0.2973158657550812, 'learning_rate': 5.234899328859061e-05, 'epoch': 0.09}\n",
            "{'loss': 0.425, 'grad_norm': 0.285343736410141, 'learning_rate': 5.167785234899329e-05, 'epoch': 0.09}\n",
            "{'loss': 0.4215, 'grad_norm': 0.42564308643341064, 'learning_rate': 5.100671140939598e-05, 'epoch': 0.09}\n",
            "{'loss': 0.5332, 'grad_norm': 0.5046493411064148, 'learning_rate': 5.033557046979866e-05, 'epoch': 0.09}\n",
            "{'loss': 0.5256, 'grad_norm': 0.3641314208507538, 'learning_rate': 4.966442953020135e-05, 'epoch': 0.09}\n",
            "{'loss': 0.5183, 'grad_norm': 0.4472959041595459, 'learning_rate': 4.8993288590604034e-05, 'epoch': 0.09}\n",
            "{'loss': 0.5762, 'grad_norm': 0.3833770453929901, 'learning_rate': 4.832214765100672e-05, 'epoch': 0.1}\n",
            "{'loss': 0.4777, 'grad_norm': 0.3910704553127289, 'learning_rate': 4.76510067114094e-05, 'epoch': 0.1}\n",
            "{'loss': 0.5116, 'grad_norm': 0.6153048276901245, 'learning_rate': 4.697986577181208e-05, 'epoch': 0.1}\n",
            "{'loss': 0.3843, 'grad_norm': 0.4603528082370758, 'learning_rate': 4.630872483221477e-05, 'epoch': 0.1}\n",
            "{'loss': 0.4446, 'grad_norm': 0.2923552989959717, 'learning_rate': 4.5637583892617453e-05, 'epoch': 0.1}\n",
            "{'loss': 0.4897, 'grad_norm': 0.39852339029312134, 'learning_rate': 4.496644295302014e-05, 'epoch': 0.1}\n",
            "{'loss': 0.5627, 'grad_norm': 0.5410888195037842, 'learning_rate': 4.4295302013422824e-05, 'epoch': 0.1}\n",
            "{'loss': 0.5158, 'grad_norm': 0.313305526971817, 'learning_rate': 4.36241610738255e-05, 'epoch': 0.1}\n",
            "{'loss': 0.5399, 'grad_norm': 0.3026096224784851, 'learning_rate': 4.295302013422819e-05, 'epoch': 0.1}\n",
            "{'loss': 0.6365, 'grad_norm': 0.43094179034233093, 'learning_rate': 4.228187919463087e-05, 'epoch': 0.1}\n",
            "{'loss': 0.5346, 'grad_norm': 0.4197160303592682, 'learning_rate': 4.161073825503356e-05, 'epoch': 0.1}\n",
            "{'loss': 0.5409, 'grad_norm': 0.45131412148475647, 'learning_rate': 4.0939597315436244e-05, 'epoch': 0.1}\n",
            "{'loss': 0.4811, 'grad_norm': 0.3382985591888428, 'learning_rate': 4.026845637583892e-05, 'epoch': 0.1}\n",
            "{'loss': 0.6141, 'grad_norm': 0.4245985150337219, 'learning_rate': 3.959731543624161e-05, 'epoch': 0.1}\n",
            "{'loss': 0.4625, 'grad_norm': 0.35225710272789, 'learning_rate': 3.89261744966443e-05, 'epoch': 0.1}\n",
            "{'loss': 0.5391, 'grad_norm': 0.45981818437576294, 'learning_rate': 3.8255033557046985e-05, 'epoch': 0.1}\n",
            "{'loss': 0.5283, 'grad_norm': 0.4215841293334961, 'learning_rate': 3.758389261744967e-05, 'epoch': 0.1}\n",
            "{'loss': 0.4944, 'grad_norm': 0.3679507374763489, 'learning_rate': 3.6912751677852356e-05, 'epoch': 0.1}\n",
            "{'loss': 0.4476, 'grad_norm': 0.4326217770576477, 'learning_rate': 3.6241610738255034e-05, 'epoch': 0.1}\n",
            "{'loss': 0.5374, 'grad_norm': 0.46361657977104187, 'learning_rate': 3.557046979865772e-05, 'epoch': 0.1}\n",
            "{'loss': 0.4255, 'grad_norm': 0.3259001076221466, 'learning_rate': 3.4899328859060405e-05, 'epoch': 0.1}\n",
            "{'loss': 0.5272, 'grad_norm': 0.39215466380119324, 'learning_rate': 3.422818791946309e-05, 'epoch': 0.1}\n",
            "{'loss': 0.6062, 'grad_norm': 0.43830499053001404, 'learning_rate': 3.3557046979865775e-05, 'epoch': 0.1}\n",
            "{'loss': 0.4825, 'grad_norm': 0.3855876624584198, 'learning_rate': 3.288590604026846e-05, 'epoch': 0.1}\n",
            "{'loss': 0.4219, 'grad_norm': 0.39250648021698, 'learning_rate': 3.221476510067114e-05, 'epoch': 0.1}\n",
            "{'loss': 0.5528, 'grad_norm': 0.4386986196041107, 'learning_rate': 3.1543624161073825e-05, 'epoch': 0.11}\n",
            "{'loss': 0.4955, 'grad_norm': 0.45478224754333496, 'learning_rate': 3.087248322147651e-05, 'epoch': 0.11}\n",
            "{'loss': 0.5507, 'grad_norm': 0.41369569301605225, 'learning_rate': 3.02013422818792e-05, 'epoch': 0.11}\n",
            "{'loss': 0.5552, 'grad_norm': 0.4452119767665863, 'learning_rate': 2.9530201342281884e-05, 'epoch': 0.11}\n",
            "{'loss': 0.5812, 'grad_norm': 0.3130066692829132, 'learning_rate': 2.885906040268457e-05, 'epoch': 0.11}\n",
            "{'loss': 0.4918, 'grad_norm': 0.35242560505867004, 'learning_rate': 2.8187919463087248e-05, 'epoch': 0.11}\n",
            "{'loss': 0.5816, 'grad_norm': 0.3231271207332611, 'learning_rate': 2.7516778523489933e-05, 'epoch': 0.11}\n",
            "{'loss': 0.4309, 'grad_norm': 0.2922852039337158, 'learning_rate': 2.6845637583892618e-05, 'epoch': 0.11}\n",
            "{'loss': 0.5223, 'grad_norm': 0.37426891922950745, 'learning_rate': 2.6174496644295304e-05, 'epoch': 0.11}\n",
            "{'loss': 0.532, 'grad_norm': 0.3839161992073059, 'learning_rate': 2.550335570469799e-05, 'epoch': 0.11}\n",
            "{'loss': 0.5406, 'grad_norm': 0.5163497924804688, 'learning_rate': 2.4832214765100674e-05, 'epoch': 0.11}\n",
            "{'loss': 0.6267, 'grad_norm': 0.7317667603492737, 'learning_rate': 2.416107382550336e-05, 'epoch': 0.11}\n",
            "{'loss': 0.6238, 'grad_norm': 0.5515601634979248, 'learning_rate': 2.348993288590604e-05, 'epoch': 0.11}\n",
            "{'loss': 0.6412, 'grad_norm': 0.4174618124961853, 'learning_rate': 2.2818791946308727e-05, 'epoch': 0.11}\n",
            "{'loss': 0.4798, 'grad_norm': 0.3505077660083771, 'learning_rate': 2.2147651006711412e-05, 'epoch': 0.11}\n",
            "{'loss': 0.46, 'grad_norm': 0.3366088271141052, 'learning_rate': 2.1476510067114094e-05, 'epoch': 0.11}\n",
            "{'loss': 0.4396, 'grad_norm': 0.3635156750679016, 'learning_rate': 2.080536912751678e-05, 'epoch': 0.11}\n",
            "{'loss': 0.5956, 'grad_norm': 0.2608880400657654, 'learning_rate': 2.013422818791946e-05, 'epoch': 0.11}\n",
            "{'loss': 0.4615, 'grad_norm': 0.37958112359046936, 'learning_rate': 1.946308724832215e-05, 'epoch': 0.11}\n",
            "{'loss': 0.5881, 'grad_norm': 0.4139206111431122, 'learning_rate': 1.8791946308724835e-05, 'epoch': 0.11}\n",
            "{'loss': 0.522, 'grad_norm': 0.3527480959892273, 'learning_rate': 1.8120805369127517e-05, 'epoch': 0.11}\n",
            "{'loss': 0.5048, 'grad_norm': 0.43636244535446167, 'learning_rate': 1.7449664429530202e-05, 'epoch': 0.11}\n",
            "{'loss': 0.4436, 'grad_norm': 0.3453139364719391, 'learning_rate': 1.6778523489932888e-05, 'epoch': 0.11}\n",
            "{'loss': 0.5895, 'grad_norm': 0.4957062005996704, 'learning_rate': 1.610738255033557e-05, 'epoch': 0.12}\n",
            "{'loss': 0.5261, 'grad_norm': 0.37454184889793396, 'learning_rate': 1.5436241610738255e-05, 'epoch': 0.12}\n",
            "{'loss': 0.576, 'grad_norm': 0.4075351059436798, 'learning_rate': 1.4765100671140942e-05, 'epoch': 0.12}\n",
            "{'loss': 0.4527, 'grad_norm': 0.3391973376274109, 'learning_rate': 1.4093959731543624e-05, 'epoch': 0.12}\n",
            "{'loss': 0.5846, 'grad_norm': 0.36682984232902527, 'learning_rate': 1.3422818791946309e-05, 'epoch': 0.12}\n",
            "{'loss': 0.4273, 'grad_norm': 0.38690707087516785, 'learning_rate': 1.2751677852348994e-05, 'epoch': 0.12}\n",
            "{'loss': 0.6098, 'grad_norm': 0.37143728137016296, 'learning_rate': 1.208053691275168e-05, 'epoch': 0.12}\n",
            "{'loss': 0.518, 'grad_norm': 0.4541144073009491, 'learning_rate': 1.1409395973154363e-05, 'epoch': 0.12}\n",
            "{'loss': 0.4442, 'grad_norm': 0.3002897799015045, 'learning_rate': 1.0738255033557047e-05, 'epoch': 0.12}\n",
            "{'loss': 0.5298, 'grad_norm': 0.4716600477695465, 'learning_rate': 1.006711409395973e-05, 'epoch': 0.12}\n",
            "{'loss': 0.4827, 'grad_norm': 0.4383120834827423, 'learning_rate': 9.395973154362418e-06, 'epoch': 0.12}\n",
            "{'loss': 0.5522, 'grad_norm': 0.5250866413116455, 'learning_rate': 8.724832214765101e-06, 'epoch': 0.12}\n",
            "{'loss': 0.4803, 'grad_norm': 0.3510890007019043, 'learning_rate': 8.053691275167785e-06, 'epoch': 0.12}\n",
            "{'loss': 0.5338, 'grad_norm': 0.3935805559158325, 'learning_rate': 7.382550335570471e-06, 'epoch': 0.12}\n",
            "{'loss': 0.5034, 'grad_norm': 0.44718366861343384, 'learning_rate': 6.7114093959731546e-06, 'epoch': 0.12}\n",
            "{'loss': 0.4531, 'grad_norm': 0.5019468069076538, 'learning_rate': 6.04026845637584e-06, 'epoch': 0.12}\n",
            "{'loss': 0.4463, 'grad_norm': 0.30771738290786743, 'learning_rate': 5.3691275167785235e-06, 'epoch': 0.12}\n",
            "{'loss': 0.5131, 'grad_norm': 0.37185338139533997, 'learning_rate': 4.697986577181209e-06, 'epoch': 0.12}\n",
            "{'loss': 0.4885, 'grad_norm': 0.3327600359916687, 'learning_rate': 4.026845637583892e-06, 'epoch': 0.12}\n",
            "{'loss': 0.5118, 'grad_norm': 0.4004203975200653, 'learning_rate': 3.3557046979865773e-06, 'epoch': 0.12}\n",
            "{'loss': 0.5409, 'grad_norm': 0.35966408252716064, 'learning_rate': 2.6845637583892617e-06, 'epoch': 0.12}\n",
            "{'loss': 0.5261, 'grad_norm': 0.2555641829967499, 'learning_rate': 2.013422818791946e-06, 'epoch': 0.12}\n",
            "{'loss': 0.487, 'grad_norm': 0.28498995304107666, 'learning_rate': 1.3422818791946309e-06, 'epoch': 0.12}\n",
            "{'loss': 0.5378, 'grad_norm': 0.2987744212150574, 'learning_rate': 6.711409395973154e-07, 'epoch': 0.12}\n",
            "{'loss': 0.4992, 'grad_norm': 0.4463469684123993, 'learning_rate': 0.0, 'epoch': 0.12}\n",
            "{'train_runtime': 2339.5141, 'train_samples_per_second': 2.565, 'train_steps_per_second': 0.641, 'train_loss': 0.5824175117015838, 'epoch': 0.12}\n"
          ]
        },
        {
          "data": {
            "text/plain": [
              "TrainOutput(global_step=1500, training_loss=0.5824175117015838, metrics={'train_runtime': 2339.5141, 'train_samples_per_second': 2.565, 'train_steps_per_second': 0.641, 'total_flos': 3.021170654820864e+16, 'train_loss': 0.5824175117015838, 'epoch': 0.125})"
            ]
          },
          "execution_count": 16,
          "metadata": {},
          "output_type": "execute_result"
        }
      ],
      "source": [
        "import transformers\n",
        "from trl import SFTTrainer\n",
        "\n",
        "torch.cuda.empty_cache()\n",
        "\n",
        "trainer = SFTTrainer(\n",
        "    model=model,\n",
        "    train_dataset=train_data,\n",
        "    eval_dataset=test_data,\n",
        "    dataset_text_field=\"prompt\",\n",
        "    args=transformers.TrainingArguments(\n",
        "        per_device_train_batch_size=1,\n",
        "        gradient_accumulation_steps=4,\n",
        "        num_train_epochs=50,\n",
        "        warmup_steps=10,\n",
        "        max_steps=1500,\n",
        "        learning_rate=2e-4,\n",
        "        logging_steps=5,\n",
        "        output_dir=\"outputs_qwen2.5_7b_json\",\n",
        "        optim=\"adamw_hf\",\n",
        "        save_strategy=\"epoch\",\n",
        "    ),\n",
        "    data_collator=transformers.DataCollatorForLanguageModeling(tokenizer, mlm=False),\n",
        ")\n",
        "\n",
        "# Run training\n",
        "trainer.train()"
      ]
    },
    {
      "cell_type": "markdown",
      "id": "692d0463-9375-400a-8f2c-9b9b73d1a2ca",
      "metadata": {
        "id": "692d0463-9375-400a-8f2c-9b9b73d1a2ca"
      },
      "source": [
        "### **Merge and Save the Finetuned Model**"
      ]
    },
    {
      "cell_type": "code",
      "execution_count": null,
      "id": "f59d5ec6-5219-4936-8e65-e5d29f60d720",
      "metadata": {
        "colab": {
          "referenced_widgets": [
            "a2b0aa8609b44e85844e6489544c692a"
          ]
        },
        "id": "f59d5ec6-5219-4936-8e65-e5d29f60d720",
        "outputId": "4f003d4a-521b-4ff8-baf6-17d19a97632c"
      },
      "outputs": [
        {
          "name": "stderr",
          "output_type": "stream",
          "text": [
            "The `load_in_4bit` and `load_in_8bit` arguments are deprecated and will be removed in the future versions. Please, pass a `BitsAndBytesConfig` object in `quantization_config` argument instead.\n"
          ]
        },
        {
          "data": {
            "application/vnd.jupyter.widget-view+json": {
              "model_id": "a2b0aa8609b44e85844e6489544c692a",
              "version_major": 2,
              "version_minor": 0
            },
            "text/plain": [
              "Loading checkpoint shards:   0%|          | 0/4 [00:00<?, ?it/s]"
            ]
          },
          "metadata": {},
          "output_type": "display_data"
        },
        {
          "name": "stderr",
          "output_type": "stream",
          "text": [
            "/home/geek/anaconda3/envs/gemma2/lib/python3.10/site-packages/peft/tuners/lora/bnb.py:71: UserWarning: Merge lora module to 8-bit linear may get different generations due to rounding errors.\n",
            "  warnings.warn(\n"
          ]
        },
        {
          "name": "stdout",
          "output_type": "stream",
          "text": [
            "[2024-10-28 15:06:08,962] [INFO] [real_accelerator.py:203:get_accelerator] Setting ds_accelerator to cuda (auto detect)\n"
          ]
        },
        {
          "name": "stderr",
          "output_type": "stream",
          "text": [
            "/home/geek/anaconda3/envs/gemma2/compiler_compat/ld: cannot find -laio: No such file or directory\n",
            "collect2: error: ld returned 1 exit status\n",
            "/home/geek/anaconda3/envs/gemma2/compiler_compat/ld: cannot find -lcufile: No such file or directory\n",
            "collect2: error: ld returned 1 exit status\n"
          ]
        }
      ],
      "source": [
        "new_model = \"qwen-2.5-7b-finetune-xlam-function-calling-60k\"\n",
        "trainer.model.save_pretrained(new_model)\n",
        "model_id = \"Qwen/Qwen2.5-7B-Instruct\"\n",
        "base_model = AutoModelForCausalLM.from_pretrained(\n",
        "    model_id,\n",
        "    return_dict=True,\n",
        "    load_in_8bit=True,        # Enable 8-bit loading\n",
        "    torch_dtype=torch.float16,\n",
        "    device_map={\"\": 0},\n",
        ")\n",
        "merged_model= PeftModel.from_pretrained(base_model, new_model)\n",
        "merged_model= merged_model.merge_and_unload()\n",
        "\n",
        "merged_model.save_pretrained(\"merged_model_sft2.5_7b_json\",safe_serialization=True)\n",
        "tokenizer.save_pretrained(\"merged_model_sft2.5_7b_json\")\n",
        "tokenizer.pad_token = tokenizer.eos_token\n",
        "tokenizer.padding_side = \"left\""
      ]
    },
    {
      "cell_type": "markdown",
      "id": "7ff8548d-fe06-45d5-bed2-28979667b35f",
      "metadata": {
        "id": "7ff8548d-fe06-45d5-bed2-28979667b35f"
      },
      "source": [
        "### **Loading the Saved Model**"
      ]
    },
    {
      "cell_type": "code",
      "execution_count": null,
      "id": "4c8f59ef-b424-4527-9cfe-96636aee40bb",
      "metadata": {
        "colab": {
          "referenced_widgets": [
            "c92e3268d1fe4cc493f0d281fb097a3f"
          ]
        },
        "id": "4c8f59ef-b424-4527-9cfe-96636aee40bb",
        "outputId": "574f1368-70c2-4cd7-f060-9cae024bb46c"
      },
      "outputs": [
        {
          "name": "stderr",
          "output_type": "stream",
          "text": [
            "Unused kwargs: ['_load_in_4bit', '_load_in_8bit', 'quant_method']. These kwargs are not used in <class 'transformers.utils.quantization_config.BitsAndBytesConfig'>.\n"
          ]
        },
        {
          "data": {
            "application/vnd.jupyter.widget-view+json": {
              "model_id": "c92e3268d1fe4cc493f0d281fb097a3f",
              "version_major": 2,
              "version_minor": 0
            },
            "text/plain": [
              "Loading checkpoint shards:   0%|          | 0/2 [00:00<?, ?it/s]"
            ]
          },
          "metadata": {},
          "output_type": "display_data"
        },
        {
          "name": "stderr",
          "output_type": "stream",
          "text": [
            "Special tokens have been added in the vocabulary, make sure the associated word embeddings are fine-tuned or trained.\n"
          ]
        }
      ],
      "source": [
        "finetuned_model = AutoModelForCausalLM.from_pretrained(\"merged_model_sft2.5_7b_json\", torch_dtype=torch.float16, device_map={\"\": 0})\n",
        "\n",
        "finetuned_tokenizer = AutoTokenizer.from_pretrained(\"merged_model_sft2.5_7b_json\")\n",
        "finetuned_tokenizer.pad_token = finetuned_tokenizer.eos_token\n",
        "finetuned_tokenizer.padding_side = \"left\""
      ]
    },
    {
      "cell_type": "markdown",
      "id": "1109e4b9-74a2-44d2-be0e-615299e59f67",
      "metadata": {
        "id": "1109e4b9-74a2-44d2-be0e-615299e59f67"
      },
      "source": [
        "### **Push the model to Huggingface**"
      ]
    },
    {
      "cell_type": "code",
      "execution_count": null,
      "id": "6aa0e775-66c7-4fe2-b3a7-fc7bb4e10cc6",
      "metadata": {
        "colab": {
          "referenced_widgets": [
            "9008f638488446a2a5ad59f60c1c727c",
            "ebef43b1d0614412ab0e46a3a940ffb5",
            "0355c35a5f1d44818fbab4d21e1e7e58",
            "8da44e728158472a9afcbae25832bd3d"
          ]
        },
        "id": "6aa0e775-66c7-4fe2-b3a7-fc7bb4e10cc6",
        "outputId": "0ad83ee1-3063-4f61-fd86-00d858116ef8"
      },
      "outputs": [
        {
          "data": {
            "application/vnd.jupyter.widget-view+json": {
              "model_id": "9008f638488446a2a5ad59f60c1c727c",
              "version_major": 2,
              "version_minor": 0
            },
            "text/plain": [
              "model-00001-of-00002.safetensors:   0%|          | 0.00/4.99G [00:00<?, ?B/s]"
            ]
          },
          "metadata": {},
          "output_type": "display_data"
        },
        {
          "data": {
            "application/vnd.jupyter.widget-view+json": {
              "model_id": "ebef43b1d0614412ab0e46a3a940ffb5",
              "version_major": 2,
              "version_minor": 0
            },
            "text/plain": [
              "Upload 2 LFS files:   0%|          | 0/2 [00:00<?, ?it/s]"
            ]
          },
          "metadata": {},
          "output_type": "display_data"
        },
        {
          "data": {
            "application/vnd.jupyter.widget-view+json": {
              "model_id": "0355c35a5f1d44818fbab4d21e1e7e58",
              "version_major": 2,
              "version_minor": 0
            },
            "text/plain": [
              "model-00002-of-00002.safetensors:   0%|          | 0.00/3.72G [00:00<?, ?B/s]"
            ]
          },
          "metadata": {},
          "output_type": "display_data"
        },
        {
          "data": {
            "application/vnd.jupyter.widget-view+json": {
              "model_id": "8da44e728158472a9afcbae25832bd3d",
              "version_major": 2,
              "version_minor": 0
            },
            "text/plain": [
              "README.md:   0%|          | 0.00/5.17k [00:00<?, ?B/s]"
            ]
          },
          "metadata": {},
          "output_type": "display_data"
        },
        {
          "data": {
            "text/plain": [
              "CommitInfo(commit_url='https://huggingface.co/abdulmannan-01/qwen-2.5-7b-finetuned-for-json-generation-bnb-8bit/commit/f6c0ba0d5818607bfc5165599b74966bfbe02021', commit_message='Upload tokenizer', commit_description='', oid='f6c0ba0d5818607bfc5165599b74966bfbe02021', pr_url=None, repo_url=RepoUrl('https://huggingface.co/abdulmannan-01/qwen-2.5-7b-finetuned-for-json-generation-bnb-8bit', endpoint='https://huggingface.co', repo_type='model', repo_id='abdulmannan-01/qwen-2.5-7b-finetuned-for-json-generation-bnb-8bit'), pr_revision=None, pr_num=None)"
            ]
          },
          "execution_count": 6,
          "metadata": {},
          "output_type": "execute_result"
        }
      ],
      "source": [
        "repo_name = \"Amin-01/qwen-2.5-7b-finetuned-for-json-generation-bnb-8bit\"\n",
        "\n",
        "finetuned_model.push_to_hub(repo_name)\n",
        "finetuned_tokenizer.push_to_hub(repo_name)"
      ]
    },
    {
      "cell_type": "markdown",
      "id": "72c46105-5a30-421b-8362-c17b6ac0411a",
      "metadata": {
        "id": "72c46105-5a30-421b-8362-c17b6ac0411a"
      },
      "source": [
        "# **Inference Using Finetuned Huggingface Model**"
      ]
    },
    {
      "cell_type": "markdown",
      "id": "e2592fd9-338c-4d0a-bb34-49587ef6fdce",
      "metadata": {
        "id": "e2592fd9-338c-4d0a-bb34-49587ef6fdce"
      },
      "source": [
        "### **Load Model From HuggingFace**"
      ]
    },
    {
      "cell_type": "code",
      "execution_count": null,
      "id": "56cb7f0b-14e4-4390-9193-0068f1065b5c",
      "metadata": {
        "colab": {
          "referenced_widgets": [
            "ec20a3c80ef24706aaf7c50055ff63e3",
            "70af1fd22f8f45be9854ad4e1ac167be",
            "aac87ef03ba648e99c2d77b4920c3d1a",
            "c01ebff541534743a7cb43a4e32aa46f",
            "5b024ac3d3c348f798b4623d42e96734",
            "acea494231604aef8b6d1587d647d3eb",
            "9269b19ba5104dd3a46d864f1201d6ca",
            "7acd825e651e41f0b0e140ece3a2e53d",
            "6ea05fef2c064065bf081641f1bdf2e9",
            "ec581804dc054c66864adc0833db64c4",
            "c547475c7b6f46df869810857918cd6d",
            "465f4959476f4c92bdcd5f24e0375cd1",
            "8faf423971ce41dea77972632d45320c"
          ]
        },
        "id": "56cb7f0b-14e4-4390-9193-0068f1065b5c",
        "outputId": "2584b659-efce-471e-8b2f-93ce30b3fc81"
      },
      "outputs": [
        {
          "data": {
            "application/vnd.jupyter.widget-view+json": {
              "model_id": "ec20a3c80ef24706aaf7c50055ff63e3",
              "version_major": 2,
              "version_minor": 0
            },
            "text/plain": [
              "config.json:   0%|          | 0.00/1.19k [00:00<?, ?B/s]"
            ]
          },
          "metadata": {},
          "output_type": "display_data"
        },
        {
          "name": "stderr",
          "output_type": "stream",
          "text": [
            "Unused kwargs: ['_load_in_4bit', '_load_in_8bit', 'quant_method']. These kwargs are not used in <class 'transformers.utils.quantization_config.BitsAndBytesConfig'>.\n"
          ]
        },
        {
          "data": {
            "application/vnd.jupyter.widget-view+json": {
              "model_id": "70af1fd22f8f45be9854ad4e1ac167be",
              "version_major": 2,
              "version_minor": 0
            },
            "text/plain": [
              "model.safetensors.index.json:   0%|          | 0.00/43.1k [00:00<?, ?B/s]"
            ]
          },
          "metadata": {},
          "output_type": "display_data"
        },
        {
          "data": {
            "application/vnd.jupyter.widget-view+json": {
              "model_id": "aac87ef03ba648e99c2d77b4920c3d1a",
              "version_major": 2,
              "version_minor": 0
            },
            "text/plain": [
              "Downloading shards:   0%|          | 0/2 [00:00<?, ?it/s]"
            ]
          },
          "metadata": {},
          "output_type": "display_data"
        },
        {
          "data": {
            "application/vnd.jupyter.widget-view+json": {
              "model_id": "c01ebff541534743a7cb43a4e32aa46f",
              "version_major": 2,
              "version_minor": 0
            },
            "text/plain": [
              "model-00001-of-00002.safetensors:   0%|          | 0.00/4.99G [00:00<?, ?B/s]"
            ]
          },
          "metadata": {},
          "output_type": "display_data"
        },
        {
          "data": {
            "application/vnd.jupyter.widget-view+json": {
              "model_id": "5b024ac3d3c348f798b4623d42e96734",
              "version_major": 2,
              "version_minor": 0
            },
            "text/plain": [
              "model-00002-of-00002.safetensors:   0%|          | 0.00/3.72G [00:00<?, ?B/s]"
            ]
          },
          "metadata": {},
          "output_type": "display_data"
        },
        {
          "data": {
            "application/vnd.jupyter.widget-view+json": {
              "model_id": "acea494231604aef8b6d1587d647d3eb",
              "version_major": 2,
              "version_minor": 0
            },
            "text/plain": [
              "Loading checkpoint shards:   0%|          | 0/2 [00:00<?, ?it/s]"
            ]
          },
          "metadata": {},
          "output_type": "display_data"
        },
        {
          "data": {
            "application/vnd.jupyter.widget-view+json": {
              "model_id": "9269b19ba5104dd3a46d864f1201d6ca",
              "version_major": 2,
              "version_minor": 0
            },
            "text/plain": [
              "generation_config.json:   0%|          | 0.00/243 [00:00<?, ?B/s]"
            ]
          },
          "metadata": {},
          "output_type": "display_data"
        },
        {
          "data": {
            "application/vnd.jupyter.widget-view+json": {
              "model_id": "7acd825e651e41f0b0e140ece3a2e53d",
              "version_major": 2,
              "version_minor": 0
            },
            "text/plain": [
              "tokenizer_config.json:   0%|          | 0.00/7.30k [00:00<?, ?B/s]"
            ]
          },
          "metadata": {},
          "output_type": "display_data"
        },
        {
          "data": {
            "application/vnd.jupyter.widget-view+json": {
              "model_id": "6ea05fef2c064065bf081641f1bdf2e9",
              "version_major": 2,
              "version_minor": 0
            },
            "text/plain": [
              "vocab.json:   0%|          | 0.00/2.78M [00:00<?, ?B/s]"
            ]
          },
          "metadata": {},
          "output_type": "display_data"
        },
        {
          "data": {
            "application/vnd.jupyter.widget-view+json": {
              "model_id": "ec581804dc054c66864adc0833db64c4",
              "version_major": 2,
              "version_minor": 0
            },
            "text/plain": [
              "merges.txt:   0%|          | 0.00/1.67M [00:00<?, ?B/s]"
            ]
          },
          "metadata": {},
          "output_type": "display_data"
        },
        {
          "data": {
            "application/vnd.jupyter.widget-view+json": {
              "model_id": "c547475c7b6f46df869810857918cd6d",
              "version_major": 2,
              "version_minor": 0
            },
            "text/plain": [
              "tokenizer.json:   0%|          | 0.00/7.03M [00:00<?, ?B/s]"
            ]
          },
          "metadata": {},
          "output_type": "display_data"
        },
        {
          "data": {
            "application/vnd.jupyter.widget-view+json": {
              "model_id": "465f4959476f4c92bdcd5f24e0375cd1",
              "version_major": 2,
              "version_minor": 0
            },
            "text/plain": [
              "added_tokens.json:   0%|          | 0.00/605 [00:00<?, ?B/s]"
            ]
          },
          "metadata": {},
          "output_type": "display_data"
        },
        {
          "data": {
            "application/vnd.jupyter.widget-view+json": {
              "model_id": "8faf423971ce41dea77972632d45320c",
              "version_major": 2,
              "version_minor": 0
            },
            "text/plain": [
              "special_tokens_map.json:   0%|          | 0.00/496 [00:00<?, ?B/s]"
            ]
          },
          "metadata": {},
          "output_type": "display_data"
        },
        {
          "name": "stderr",
          "output_type": "stream",
          "text": [
            "Special tokens have been added in the vocabulary, make sure the associated word embeddings are fine-tuned or trained.\n"
          ]
        }
      ],
      "source": [
        "from transformers import AutoModelForCausalLM, AutoTokenizer\n",
        "import torch\n",
        "import json\n",
        "\n",
        "finetuned_model = AutoModelForCausalLM.from_pretrained(\n",
        "    \"Amin-01/qwen-2.5-7b-finetuned-for-json-generation-bnb-8bit\",\n",
        "    torch_dtype=torch.float16,\n",
        "    device_map=\"auto\"\n",
        ")\n",
        "finetuned_tokenizer = AutoTokenizer.from_pretrained(\"Amin-01/qwen-2.5-7b-finetuned-for-json-generation-bnb-8bit\")\n",
        "finetuned_tokenizer.pad_token = finetuned_tokenizer.eos_token\n",
        "finetuned_tokenizer.padding_side = 'left'"
      ]
    },
    {
      "cell_type": "code",
      "execution_count": null,
      "id": "7f78606b-e95a-4259-bc98-cbc320e4832f",
      "metadata": {
        "id": "7f78606b-e95a-4259-bc98-cbc320e4832f"
      },
      "outputs": [],
      "source": [
        "def prepare_input(query):\n",
        "    prompt = '<|im_start|>system\\nYou are a helpful assistant. Your task is to convert every input query into a valid JSON.<|im_end|>\\n'\n",
        "    prompt += f'<|im_start|>user\\n{query}<|im_end|>\\n'\n",
        "    prompt += '<|im_start|>assistant\\n'\n",
        "\n",
        "    # Tokenize the prompt\n",
        "    inputs = finetuned_tokenizer(prompt, return_tensors='pt').to(\"cuda\")\n",
        "    return inputs"
      ]
    },
    {
      "cell_type": "code",
      "execution_count": null,
      "id": "e8910e51-01a1-4e14-b2a3-c9fbba24788c",
      "metadata": {
        "id": "e8910e51-01a1-4e14-b2a3-c9fbba24788c"
      },
      "outputs": [],
      "source": [
        "def extract_assistant_response(output_text):\n",
        "    # Extract content between <|im_start|>assistant and <|im_end|>\n",
        "    assistant_start = '<|im_start|>assistant\\n'\n",
        "    assistant_end = '<|im_end|>'\n",
        "\n",
        "    start_idx = output_text.find(assistant_start)\n",
        "    if start_idx == -1:\n",
        "        print(\"Assistant start token not found in the output.\")\n",
        "        return ''\n",
        "    start_idx += len(assistant_start)\n",
        "\n",
        "    end_idx = output_text.find(assistant_end, start_idx)\n",
        "    if end_idx == -1:\n",
        "        print(\"Assistant end token not found in the output.\")\n",
        "        assistant_content = output_text[start_idx:]\n",
        "    else:\n",
        "        assistant_content = output_text[start_idx:end_idx]\n",
        "\n",
        "    return assistant_content.strip()"
      ]
    },
    {
      "cell_type": "code",
      "execution_count": null,
      "id": "356862ae-02c3-4e30-a837-ba0e4213316f",
      "metadata": {
        "id": "356862ae-02c3-4e30-a837-ba0e4213316f"
      },
      "outputs": [],
      "source": [
        "def generate_response(model, inputs):\n",
        "    # Generate the output\n",
        "    output = model.generate(\n",
        "        **inputs,\n",
        "        max_new_tokens=512,\n",
        "        do_sample=True,\n",
        "        pad_token_id=finetuned_tokenizer.eos_token_id,\n",
        "        eos_token_id=finetuned_tokenizer.eos_token_id\n",
        "    )\n",
        "\n",
        "    output_text = finetuned_tokenizer.decode(output[0], skip_special_tokens=False)\n",
        "    #print('Model Output:', output_text)\n",
        "\n",
        "    assistant_response = extract_assistant_response(output_text)\n",
        "\n",
        "    return assistant_response"
      ]
    },
    {
      "cell_type": "code",
      "execution_count": null,
      "id": "b54bf76a-6a84-40fb-8132-d4dd803d0465",
      "metadata": {
        "id": "b54bf76a-6a84-40fb-8132-d4dd803d0465"
      },
      "outputs": [],
      "source": [
        "import json\n",
        "\n",
        "def isJsonString(input_string):\n",
        "    try:\n",
        "        json.loads(input_string)\n",
        "        return True\n",
        "    except ValueError:\n",
        "        return False"
      ]
    },
    {
      "cell_type": "markdown",
      "id": "fc323780-68ab-48f1-b3b8-46392656f5d8",
      "metadata": {
        "id": "fc323780-68ab-48f1-b3b8-46392656f5d8"
      },
      "source": [
        "### **Testing on Single Text Queries**"
      ]
    },
    {
      "cell_type": "code",
      "execution_count": null,
      "id": "4947beb0-a6c0-4796-a68d-4e2292595970",
      "metadata": {
        "id": "4947beb0-a6c0-4796-a68d-4e2292595970",
        "outputId": "44eb8852-739a-465f-9df5-4095668ad1fd"
      },
      "outputs": [
        {
          "name": "stdout",
          "output_type": "stream",
          "text": [
            "Generated JSON response: [{\"name\": \"auto_complete\", \"arguments\": {\"query\": \"winter coat\"}}, {\"name\": \"auto_complete\", \"arguments\": {\"query\": \"kitchen appliance\"}}]\n"
          ]
        }
      ],
      "source": [
        "query1 = \"Fetch auto-complete results for 'winter coat' from Kohls and 'kitchen appliance' from Wayfair.\"\n",
        "inputs1 = prepare_input(query1)\n",
        "response1 = generate_response(finetuned_model, inputs1)\n",
        "\n",
        "print(\"Generated JSON response:\", response1)"
      ]
    },
    {
      "cell_type": "code",
      "execution_count": null,
      "id": "33cd9fa2-b676-4a7c-a6dd-256ed5f0d8ac",
      "metadata": {
        "id": "33cd9fa2-b676-4a7c-a6dd-256ed5f0d8ac",
        "outputId": "1fb4e722-3ede-4b37-e2a4-9654d6345f74"
      },
      "outputs": [
        {
          "data": {
            "text/plain": [
              "True"
            ]
          },
          "execution_count": 7,
          "metadata": {},
          "output_type": "execute_result"
        }
      ],
      "source": [
        "isJsonString(response1)"
      ]
    },
    {
      "cell_type": "markdown",
      "id": "5c8218d3",
      "metadata": {
        "id": "5c8218d3"
      },
      "source": [
        "### **Testing on Multiple Text Queries**"
      ]
    },
    {
      "cell_type": "code",
      "execution_count": null,
      "id": "e526aada",
      "metadata": {
        "id": "e526aada"
      },
      "outputs": [],
      "source": [
        "queries = [\n",
        "    # 5 big textual prompts\n",
        "    \"I need an analysis report on the impact of our latest marketing campaign. Include data such as conversion rates, customer engagement metrics, social media performance, and any sales growth. Provide insights on which segments of the campaign were most successful and suggest areas for improvement.\",\n",
        "    \"Please generate a monthly sales report for our e-commerce platform, detailing total sales, top-performing products, customer demographics, and return rates. Include comparisons to the previous month and highlight any notable trends or anomalies.\",\n",
        "    \"Create a technical specification document for the new software system we're developing. Include sections on system architecture, database design, user interfaces, security protocols, scalability requirements, and integration with existing systems.\",\n",
        "    \"Can you provide a strategic plan for expanding our business into new international markets? The plan should cover potential target countries, market entry strategies, competitive analysis, legal considerations, and estimated costs. Highlight key opportunities and risks.\",\n",
        "    \"Generate a risk assessment report for our cloud infrastructure. The report should analyze potential security threats, vulnerabilities, compliance issues, and disaster recovery plans. Recommend best practices for improving system security and resilience.\",\n",
        "    # 25 big and complex invalid JSONs\n",
        "    \"{'payment': {'transactionID': 456789, 'amount': 100.00, 'currency': 'USD', 'method': 'Credit Card', 'status': 'Pending', 'details': {'cardNumber': '**** **** **** 1234', 'expiryDate': '12/23'}}}\",  # Valid JSON\n",
        "    \"{'portfolio': {'investor': 'Jane Doe', 'stocks': [{'ticker': 'AAPL', 'shares': 50, 'averagePrice': 150}, {'ticker': 'GOOG', 'shares': 30, 'averagePrice': 2500}], 'totalValue': 180000}\",  # Missing closing brace\n",
        "    \"{'jobApplication': {'candidateName': 'Alice Doe', 'position': 'Software Engineer', 'status': 'Under Review', 'interviews': [{'round': 1, 'interviewer': 'John Smith'}, {'round': 2, 'interviewer': 'Sara Lee'}], 'notes': 'Strong candidate, needs to improve coding skills'}}\",  # Valid JSON\n",
        "    \"{'orderID': 12345, 'customer': {'name': 'Alice Johnson', 'email': 'alice@example.com'}, 'items': [{'productID': 567, 'productName': 'Laptop', 'quantity': 1, 'price': 999.99}, {'productID': 789, 'productName': 'Mouse', 'quantity': 2, 'price': 19.99}], 'total': 1039.97\",  # Missing closing brace\n",
        "    \"{'shipment': {'trackingID': 987654321, 'origin': 'Los Angeles', 'destination': 'New York', 'items': [{'itemID': 456, 'name': 'Smartphone', 'quantity': 50}, {'itemID': 789, 'name': 'Laptop', 'quantity': 20}], 'status': 'In Transit'\",  # Missing closing brace\n",
        "    \"{'conferenceCall': {'callID': 456123, 'participants': ['John Doe', 'Jane Smith'], 'agenda': 'Project Planning', 'date': '2022-05-01', 'time': '10:00 AM', 'duration': '1h'}}\",  # Valid JSON\n",
        "    \"{'patient': {'name': 'Alice Doe', 'age': 30, 'medicalHistory': [{'condition': 'Diabetes', 'diagnosed': '2015'}, {'condition': 'Hypertension', 'diagnosed': '2019'}], 'medications': [{'name': 'Metformin', 'dosage': '500mg'}, {'name': 'Lisinopril', 'dosage': '10mg'}]}\",  # Missing closing brace\n",
        "    \"{'movie': {'title': 'Inception', 'director': 'Christopher Nolan', 'year': 2010, 'genres': ['Sci-Fi', 'Thriller'], 'cast': [{'name': 'Leonardo DiCaprio', 'role': 'Dom Cobb'}, {'name': 'Joseph Gordon-Levitt', 'role': 'Arthur'}], 'ratings': {'IMDB': 8.8, 'Rotten Tomatoes': '87%'}}}\",  # Valid JSON\n",
        "    \"{'trip': {'destination': 'Tokyo', 'startDate': '2023-04-15', 'endDate': '2023-04-30', 'travelers': [{'name': 'Alice Johnson', 'passport': '123456789'}, {'name': 'Bob Williams', 'passport': '987654321'}], 'itinerary': [{'day': 1, 'activity': 'Visit Tokyo Tower'}, {'day': 2, 'activity': 'Explore Shibuya Crossing'}], 'hotel': 'The Ritz-Carlton', 'roomType': 'Suite'}}\",  # Valid JSON\n",
        "    \"{'ecommerce': {'orderID': 987654321, 'customer': {'name': 'Emily Smith', 'email': 'emily@example.com'}, 'items': [{'productID': 12345, 'name': 'Smart TV', 'quantity': 1, 'price': 499.99}, {'productID': 67890, 'name': 'Bluetooth Speaker', 'quantity': 2, 'price': 29.99}], 'total': 559.97, 'status': 'Shipped', 'shipping': {'address': '789 Birch Street', 'city': 'Austin', 'state': 'TX', 'zipcode': 73301'}}}\",  # Valid JSON\n",
        "    \"{'fitness': {'workoutID': 101, 'type': 'Strength Training', 'exercises': [{'name': 'Bench Press', 'sets': 3, 'reps': 10, 'weight': 135}, {'name': 'Squats', 'sets': 4, 'reps': 12, 'weight': 185}], 'date': '2023-07-10', 'duration': '1 hour'}}\",  # Missing closing brace\n",
        "    \"{'concert': {'name': 'Rock Fest 2023', 'location': 'Los Angeles', 'date': '2023-09-20', 'lineup': [{'band': 'The Rolling Stones', 'time': '8:00 PM'}, {'band': 'Queen', 'time': '9:30 PM'}], 'tickets': [{'section': 'VIP', 'price': 500}, {'section': 'General Admission', 'price': 150}], 'available': True}\",  # Missing closing brace\n",
        "    \"{'conference': {'name': 'AI Summit', 'date': '2022-10-15', 'location': 'New York', 'topics': ['AI', 'Machine Learning', 'Deep Learning'], 'speakers': [{'name': 'John Smith', 'topic': 'AI'}, {'name': 'Emily Johnson', 'topic': 'Machine Learning'}]\",  # Missing closing brace\n",
        "    \"{'conference': {'name': 'Tech Expo 2023', 'location': 'San Francisco', 'date': '2023-10-15', 'topics': ['AI', 'Blockchain', 'Cybersecurity'], 'speakers': [{'name': 'John McAfee', 'topic': 'Cybersecurity'}, {'name': 'Vitalik Buterin', 'topic': 'Blockchain'}], 'attendees': 3000}}\",  # Valid JSON\n",
        "    \"{'survey': {'title': 'Customer Satisfaction', 'responses': [{'question': 'How would you rate our service?', 'rating': 5}, {'question': 'What can we improve?', 'text': 'Faster shipping'}], 'summary': {'averageRating': 4.8, 'commonSuggestions': ['Lower prices', 'More products']}}}\",  # Valid JSON\n",
        "    \"{'socialMedia': {'platform': 'Twitter', 'user': {'username': 'janedoe', 'followers': 5000, 'following': 300, 'tweets': [{'date': '2023-07-10', 'content': 'Just got a new job!'}, {'date': '2023-08-01', 'content': 'Loving my new apartment.'}], 'likes': 100, 'retweets': 10}}}\",  # Missing closing brace\n",
        "    \"{'artExhibit': {'name': 'Modern Art Showcase', 'location': 'Museum of Fine Arts', 'date': '2023-11-05', 'artists': [{'name': 'Pablo Picasso', 'works': ['The Weeping Woman', 'Guernica']}, {'name': 'Vincent van Gogh', 'works': ['Starry Night', 'Sunflowers']}], 'tickets': {'price': 25, 'available': True}}}\",  # Missing closing brace\n",
        "    \"{'banking': {'accountHolder': 'John Doe', 'accountNumber': '12345678', 'transactions': [{'date': '2023-01-01', 'description': 'Deposit', 'amount': 1000}, {'date': '2023-02-15', 'description': 'Withdrawal', 'amount': 500}], 'balance': 500}}\",  # Valid JSON\n",
        "    \"{'scientificResearch': {'studyID': 654321, 'title': 'Gene Therapy for Cancer', 'researchers': [{'name': 'Dr. Alice Doe', 'institution': 'Harvard University'}, {'name': 'Dr. Bob Smith', 'institution': 'MIT'}], 'status': 'In Progress', 'funding  5000000}}\",\n",
        "    \"{'musicConcert': {'concertID': 987123, 'artist': 'The Beatles', 'date': '1965-08-15', 'venue': 'Shea Stadium', 'setlist': [{'song': 'Twist and Shout'}, {'song': 'Help!'}], 'tickets': {'price': 5, 'soldOut': True}}}\",  # Valid JSON\n",
        "    \"{'fitnessChallenge': {'challengeID': 456789, 'name': '30-Day Fitness Challenge', 'participants': [{'name': 'John Doe', 'progress': 'Week 2'}, {'name': 'Jane Smith', 'progress': 'Week 3'}], 'startDate': '2023-01-01', 'endDate' '2023-01-30'}\",\n",
        "    \"{'stockMarket': {'stock': {'symbol': 'AAPL', 'company': 'Apple Inc.', 'price': 150.50, 'marketCap': '2.5T', 'dividendYield': '0.5%'}, 'sector': 'Technology'}}\",  # Missing closing brace\n",
        "    \"{'movieReview': {'title': 'The Godfather', 'director': 'Francis Ford Coppola', 'year': 1972, 'ratings': {'IMDB': 9.2, 'Rotten Tomatoes': '98%'}, 'review': 'An absolute classic. A must-watch for any film enthusiast.'}\",\n",
        "    \"{'onlineCourse': {'courseID': 123456, 'title': 'Data Science 101', 'instructor': {'name': 'Dr. Alice Doe', 'institution': 'MIT'}, 'students': 500, 'startDate': '2023-09-01', 'endDate': '2023-12-01'}\",\n",
        "    \"{'travelItinerary': {'itineraryID': 789012, 'destination': 'Paris', 'departureDate': '2023-06-15', 'returnDate': '2023-06-30', 'traveler': {'name': 'John Doe', 'passport': '123456789'}, 'accommodation': {'hotel': 'Le Meurice', 'roomType': 'Deluxe Suite'}}}\",  # Valid JSON\n",
        "]"
      ]
    },
    {
      "cell_type": "markdown",
      "id": "8f1ca906",
      "metadata": {
        "id": "8f1ca906"
      },
      "source": [
        "**Evaluation Function**"
      ]
    },
    {
      "cell_type": "code",
      "execution_count": null,
      "id": "c64268bb",
      "metadata": {
        "id": "c64268bb"
      },
      "outputs": [],
      "source": [
        "def evaluate_model_performance(model, queries, tokenizer, max_retries=5):\n",
        "    total_queries = len(queries)\n",
        "    valid_json_count = 0\n",
        "\n",
        "    for i, query in enumerate(queries):\n",
        "        inputs = prepare_input(query)\n",
        "        response = None\n",
        "\n",
        "        # Retry mechanism for invalid JSONs\n",
        "        for attempt in range(max_retries):\n",
        "            response = generate_response(model, inputs)\n",
        "            if isJsonString(response):\n",
        "                break\n",
        "\n",
        "        is_valid = isJsonString(response)\n",
        "\n",
        "        print(f\"Query {i+1}: {query}\")\n",
        "        print(f\"Generated JSON response: {response}\")\n",
        "\n",
        "        if is_valid:\n",
        "            print(\"The response is valid JSON.\")\n",
        "            valid_json_count += 1\n",
        "        else:\n",
        "            print(\"The response is not valid JSON.\")\n",
        "        print(\"-\" * 50)\n",
        "\n",
        "    # Compute the percentage of valid JSON outputs\n",
        "    valid_percentage = (valid_json_count / total_queries) * 100\n",
        "    print(f\"Valid JSON responses: {valid_json_count}/{total_queries} ({valid_percentage:.2f}%)\")\n"
      ]
    },
    {
      "cell_type": "code",
      "execution_count": null,
      "id": "b9b5dd6f",
      "metadata": {
        "id": "b9b5dd6f",
        "outputId": "433541df-29dd-47e6-a16b-f2a394ec9668"
      },
      "outputs": [
        {
          "name": "stdout",
          "output_type": "stream",
          "text": [
            "Query 1: I need an analysis report on the impact of our latest marketing campaign. Include data such as conversion rates, customer engagement metrics, social media performance, and any sales growth. Provide insights on which segments of the campaign were most successful and suggest areas for improvement.\n",
            "Generated JSON response: [{\"name\": \"marketing_campaign_analysis\", \"arguments\": {\"campaign_data\": [{\"conversion_rate\": 0.15, \"customer_engagement\": 85, \"social_media_performance\": 75, \"sales_growth\": 20}, {\"conversion_rate\": 0.1, \"customer_engagement\": 70, \"social_media_performance\": 65, \"sales_growth\": 15}, {\"conversion_rate\": 0.2, \"customer_engagement\": 90, \"social_media_performance\": 80, \"sales_growth\": 30}]}}]\n",
            "The response is valid JSON.\n",
            "--------------------------------------------------\n",
            "Query 2: Please generate a monthly sales report for our e-commerce platform, detailing total sales, top-performing products, customer demographics, and return rates. Include comparisons to the previous month and highlight any notable trends or anomalies.\n",
            "Generated JSON response: [{\"name\": \"monthly_sales_report\", \"arguments\": {\"ecommerce_platform\": true}}]\n",
            "The response is valid JSON.\n",
            "--------------------------------------------------\n",
            "Query 3: Create a technical specification document for the new software system we're developing. Include sections on system architecture, database design, user interfaces, security protocols, scalability requirements, and integration with existing systems.\n",
            "Generated JSON response: [{\"name\": \"technical_specification\", \"arguments\": {\"sections\": [\"system_architecture\", \"database_design\", \"user_interfaces\", \"security_protocols\", \"scalability_requirements\", \"integration_with_existing_systems\"]}}]\n",
            "The response is valid JSON.\n",
            "--------------------------------------------------\n",
            "Query 4: Can you provide a strategic plan for expanding our business into new international markets? The plan should cover potential target countries, market entry strategies, competitive analysis, legal considerations, and estimated costs. Highlight key opportunities and risks.\n",
            "Generated JSON response: [{\"name\": \"business_expansion_plan\", \"arguments\": {\"market\": \"international\", \"strategy\": \"entry_strategies\", \"analysis\": \"competitive_analysis\", \"legal\": \"legal_considerations\", \"costs\": \"estimated_costs\"}}]\n",
            "The response is valid JSON.\n",
            "--------------------------------------------------\n",
            "Query 5: Generate a risk assessment report for our cloud infrastructure. The report should analyze potential security threats, vulnerabilities, compliance issues, and disaster recovery plans. Recommend best practices for improving system security and resilience.\n",
            "Generated JSON response: [{\"name\": \"risk_assessment\", \"arguments\": {\"target\": \"cloud infrastructure\", \"scope\": \"security threats, vulnerabilities, compliance issues, disaster recovery plans\"}}]\n",
            "The response is valid JSON.\n",
            "--------------------------------------------------\n",
            "Query 6: {'payment': {'transactionID': 456789, 'amount': 100.00, 'currency': 'USD', 'method': 'Credit Card', 'status': 'Pending', 'details': {'cardNumber': '**** **** **** 1234', 'expiryDate': '12/23'}}}\n",
            "Generated JSON response: [{\"name\": \"verify_payment\", \"arguments\": {\"transaction_id\": 456789, \"amount\": 100.0, \"currency\": \"USD\", \"method\": \"Credit Card\", \"status\": \"Pending\", \"card_number\": \"**** **** **** 1234\", \"expiry_date\": \"12/23\"}}]\n",
            "The response is valid JSON.\n",
            "--------------------------------------------------\n",
            "Query 7: {'portfolio': {'investor': 'Jane Doe', 'stocks': [{'ticker': 'AAPL', 'shares': 50, 'averagePrice': 150}, {'ticker': 'GOOG', 'shares': 30, 'averagePrice': 2500}], 'totalValue': 180000}\n",
            "Generated JSON response: [{\"name\": \"calculate_investment_return\", \"arguments\": {\"portfolio\": {\"investor\": \"Jane Doe\", \"stocks\": [{\"ticker\": \"AAPL\", \"shares\": 50, \"averagePrice\": 150}, {\"ticker\": \"GOOG\", \"shares\": 30, \"averagePrice\": 2500}], \"totalValue\": 180000}}}]\n",
            "The response is valid JSON.\n",
            "--------------------------------------------------\n",
            "Query 8: {'jobApplication': {'candidateName': 'Alice Doe', 'position': 'Software Engineer', 'status': 'Under Review', 'interviews': [{'round': 1, 'interviewer': 'John Smith'}, {'round': 2, 'interviewer': 'Sara Lee'}], 'notes': 'Strong candidate, needs to improve coding skills'}}\n",
            "Generated JSON response: [{\"name\": \"store_job_application\", \"arguments\": {\"candidate_name\": \"Alice Doe\", \"position\": \"Software Engineer\", \"status\": \"Under Review\", \"interviews\": [{\"round\": 1, \"interviewer\": \"John Smith\"}, {\"round\": 2, \"interviewer\": \"Sara Lee\"}], \"notes\": \"Strong candidate, needs to improve coding skills\"}}]\n",
            "The response is valid JSON.\n",
            "--------------------------------------------------\n",
            "Query 9: {'orderID': 12345, 'customer': {'name': 'Alice Johnson', 'email': 'alice@example.com'}, 'items': [{'productID': 567, 'productName': 'Laptop', 'quantity': 1, 'price': 999.99}, {'productID': 789, 'productName': 'Mouse', 'quantity': 2, 'price': 19.99}], 'total': 1039.97\n",
            "Generated JSON response: [{\"name\": \"process_order\", \"arguments\": {\"order_id\": 12345, \"customer\": {\"name\": \"Alice Johnson\", \"email\": \"alice@example.com\"}, \"items\": [{\"product_id\": 567, \"product_name\": \"Laptop\", \"quantity\": 1, \"price\": 999.99}, {\"product_id\": 789, \"product_name\": \"Mouse\", \"quantity\": 2, \"price\": 19.99}], \"total\": 1039.97}}]\n",
            "The response is valid JSON.\n",
            "--------------------------------------------------\n",
            "Query 10: {'shipment': {'trackingID': 987654321, 'origin': 'Los Angeles', 'destination': 'New York', 'items': [{'itemID': 456, 'name': 'Smartphone', 'quantity': 50}, {'itemID': 789, 'name': 'Laptop', 'quantity': 20}], 'status': 'In Transit'\n",
            "Generated JSON response: [{\"name\": \"track_shipment\", \"arguments\": {\"tracking_id\": 987654321}}]\n",
            "The response is valid JSON.\n",
            "--------------------------------------------------\n",
            "Query 11: {'conferenceCall': {'callID': 456123, 'participants': ['John Doe', 'Jane Smith'], 'agenda': 'Project Planning', 'date': '2022-05-01', 'time': '10:00 AM', 'duration': '1h'}}\n",
            "Generated JSON response: [{\"name\": \"conference_call\", \"arguments\": {\"call_id\": 456123, \"participants\": [\"John Doe\", \"Jane Smith\"], \"agenda\": \"Project Planning\", \"date\": \"2022-05-01\", \"time\": \"10:00 AM\", \"duration\": \"1h\"}}]\n",
            "The response is valid JSON.\n",
            "--------------------------------------------------\n",
            "Query 12: {'patient': {'name': 'Alice Doe', 'age': 30, 'medicalHistory': [{'condition': 'Diabetes', 'diagnosed': '2015'}, {'condition': 'Hypertension', 'diagnosed': '2019'}], 'medications': [{'name': 'Metformin', 'dosage': '500mg'}, {'name': 'Lisinopril', 'dosage': '10mg'}]}\n",
            "Generated JSON response: [{\"name\": \"review_medical_history\", \"arguments\": {\"medical_history\": [{\"condition\": \"Diabetes\", \"diagnosed\": \"2015\"}, {\"condition\": \"Hypertension\", \"diagnosed\": \"2019\"}]}}]\n",
            "The response is valid JSON.\n",
            "--------------------------------------------------\n",
            "Query 13: {'movie': {'title': 'Inception', 'director': 'Christopher Nolan', 'year': 2010, 'genres': ['Sci-Fi', 'Thriller'], 'cast': [{'name': 'Leonardo DiCaprio', 'role': 'Dom Cobb'}, {'name': 'Joseph Gordon-Levitt', 'role': 'Arthur'}], 'ratings': {'IMDB': 8.8, 'Rotten Tomatoes': '87%'}}}\n",
            "Generated JSON response: [{\"name\": \"fetch_data\", \"arguments\": {\"movie\": {\"title\": \"Inception\", \"director\": \"Christopher Nolan\", \"year\": 2010, \"genres\": [\"Sci-Fi\", \"Thriller\"], \"cast\": [{\"name\": \"Leonardo DiCaprio\", \"role\": \"Dom Cobb\"}, {\"name\": \"Joseph Gordon-Levitt\", \"role\": \"Arthur\"}], \"ratings\": {\"IMDB\": 8.8, \"Rotten Tomatoes\": \"87%\"}}}}]\n",
            "The response is valid JSON.\n",
            "--------------------------------------------------\n",
            "Query 14: {'trip': {'destination': 'Tokyo', 'startDate': '2023-04-15', 'endDate': '2023-04-30', 'travelers': [{'name': 'Alice Johnson', 'passport': '123456789'}, {'name': 'Bob Williams', 'passport': '987654321'}], 'itinerary': [{'day': 1, 'activity': 'Visit Tokyo Tower'}, {'day': 2, 'activity': 'Explore Shibuya Crossing'}], 'hotel': 'The Ritz-Carlton', 'roomType': 'Suite'}}\n",
            "Generated JSON response: [{\"name\": \"create_trip_plan\", \"arguments\": {\"trip\": {\"destination\": \"Tokyo\", \"startDate\": \"2023-04-15\", \"endDate\": \"2023-04-30\", \"travelers\": [{\"name\": \"Alice Johnson\", \"passport\": \"123456789\"}, {\"name\": \"Bob Williams\", \"passport\": \"987654321\"}], \"itinerary\": [{\"day\": 1, \"activity\": \"Visit Tokyo Tower\"}, {\"day\": 2, \"activity\": \"Explore Shibuya Crossing\"}], \"hotel\": \"The Ritz-Carlton\", \"roomType\": \"Suite\"}}}]\n",
            "The response is valid JSON.\n",
            "--------------------------------------------------\n",
            "Query 15: {'ecommerce': {'orderID': 987654321, 'customer': {'name': 'Emily Smith', 'email': 'emily@example.com'}, 'items': [{'productID': 12345, 'name': 'Smart TV', 'quantity': 1, 'price': 499.99}, {'productID': 67890, 'name': 'Bluetooth Speaker', 'quantity': 2, 'price': 29.99}], 'total': 559.97, 'status': 'Shipped', 'shipping': {'address': '789 Birch Street', 'city': 'Austin', 'state': 'TX', 'zipcode': 73301'}}}\n",
            "Generated JSON response: [{\"name\": \"get_ecommerce_order\", \"arguments\": {\"order_id\": 987654321}}]\n",
            "The response is valid JSON.\n",
            "--------------------------------------------------\n",
            "Query 16: {'fitness': {'workoutID': 101, 'type': 'Strength Training', 'exercises': [{'name': 'Bench Press', 'sets': 3, 'reps': 10, 'weight': 135}, {'name': 'Squats', 'sets': 4, 'reps': 12, 'weight': 185}], 'date': '2023-07-10', 'duration': '1 hour'}}\n",
            "Generated JSON response: [{\"name\": \"log_workout\", \"arguments\": {\"workout_id\": 101, \"exercise_list\": [{\"name\": \"Bench Press\", \"sets\": 3, \"reps\": 10, \"weight\": 135}, {\"name\": \"Squats\", \"sets\": 4, \"reps\": 12, \"weight\": 185}], \"date\": \"2023-07-10\", \"duration\": \"1 hour\", \"activity_type\": \"Strength Training\"}}]\n",
            "The response is valid JSON.\n",
            "--------------------------------------------------\n",
            "Query 17: {'concert': {'name': 'Rock Fest 2023', 'location': 'Los Angeles', 'date': '2023-09-20', 'lineup': [{'band': 'The Rolling Stones', 'time': '8:00 PM'}, {'band': 'Queen', 'time': '9:30 PM'}], 'tickets': [{'section': 'VIP', 'price': 500}, {'section': 'General Admission', 'price': 150}], 'available': True}\n",
            "Generated JSON response: [{\"name\": \"concert\", \"arguments\": {\"name\": \"Rock Fest 2023\", \"location\": \"Los Angeles\", \"date\": \"2023-09-20\", \"lineup\": [{\"band\": \"The Rolling Stones\", \"time\": \"8:00 PM\"}, {\"band\": \"Queen\", \"time\": \"9:30 PM\"}], \"tickets\": [{\"section\": \"VIP\", \"price\": 500}, {\"section\": \"General Admission\", \"price\": 150}], \"available\": true}}]\n",
            "The response is valid JSON.\n",
            "--------------------------------------------------\n",
            "Query 18: {'conference': {'name': 'AI Summit', 'date': '2022-10-15', 'location': 'New York', 'topics': ['AI', 'Machine Learning', 'Deep Learning'], 'speakers': [{'name': 'John Smith', 'topic': 'AI'}, {'name': 'Emily Johnson', 'topic': 'Machine Learning'}]\n",
            "Generated JSON response: [{\"name\": \"conference\", \"arguments\": {\"name\": \"AI Summit\", \"date\": \"2022-10-15\", \"location\": \"New York\", \"topics\": [\"AI\", \"Machine Learning\", \"Deep Learning\"], \"speakers\": [{\"name\": \"John Smith\", \"topic\": \"AI\"}, {\"name\": \"Emily Johnson\", \"topic\": \"Machine Learning\"}]}}]\n",
            "The response is valid JSON.\n",
            "--------------------------------------------------\n",
            "Query 19: {'conference': {'name': 'Tech Expo 2023', 'location': 'San Francisco', 'date': '2023-10-15', 'topics': ['AI', 'Blockchain', 'Cybersecurity'], 'speakers': [{'name': 'John McAfee', 'topic': 'Cybersecurity'}, {'name': 'Vitalik Buterin', 'topic': 'Blockchain'}], 'attendees': 3000}}\n",
            "Generated JSON response: [{\"name\": \"conference\", \"arguments\": {\"name\": \"Tech Expo 2023\", \"location\": \"San Francisco\", \"date\": \"2023-10-15\", \"topics\": [\"AI\", \"Blockchain\", \"Cybersecurity\"], \"speakers\": [{\"name\": \"John McAfee\", \"topic\": \"Cybersecurity\"}, {\"name\": \"Vitalik Buterin\", \"topic\": \"Blockchain\"}], \"attendees\": 3000}}]\n",
            "The response is valid JSON.\n",
            "--------------------------------------------------\n",
            "Query 20: {'survey': {'title': 'Customer Satisfaction', 'responses': [{'question': 'How would you rate our service?', 'rating': 5}, {'question': 'What can we improve?', 'text': 'Faster shipping'}], 'summary': {'averageRating': 4.8, 'commonSuggestions': ['Lower prices', 'More products']}}}\n",
            "Generated JSON response: [{\"name\": \"analyze_survey\", \"arguments\": {\"survey\": {\"title\": \"Customer Satisfaction\", \"responses\": [{\"question\": \"How would you rate our service?\", \"rating\": 5}, {\"question\": \"What can we improve?\", \"text\": \"Faster shipping\"}], \"summary\": {\"averageRating\": 4.8, \"commonSuggestions\": [\"Lower prices\", \"More products\"]}}}}]\n",
            "The response is valid JSON.\n",
            "--------------------------------------------------\n",
            "Query 21: {'socialMedia': {'platform': 'Twitter', 'user': {'username': 'janedoe', 'followers': 5000, 'following': 300, 'tweets': [{'date': '2023-07-10', 'content': 'Just got a new job!'}, {'date': '2023-08-01', 'content': 'Loving my new apartment.'}], 'likes': 100, 'retweets': 10}}}\n",
            "Generated JSON response: [{\"name\": \"analyze_social_media_activity\", \"arguments\": {\"social_media_data\": [{\"platform\": \"Twitter\", \"user\": {\"username\": \"janedoe\", \"followers\": 5000, \"following\": 300, \"tweets\": [{\"date\": \"2023-07-10\", \"content\": \"Just got a new job!\"}, {\"date\": \"2023-08-01\", \"content\": \"Loving my new apartment.\"}], \"likes\": 100, \"retweets\": 10}}]}}]\n",
            "The response is valid JSON.\n",
            "--------------------------------------------------\n",
            "Query 22: {'artExhibit': {'name': 'Modern Art Showcase', 'location': 'Museum of Fine Arts', 'date': '2023-11-05', 'artists': [{'name': 'Pablo Picasso', 'works': ['The Weeping Woman', 'Guernica']}, {'name': 'Vincent van Gogh', 'works': ['Starry Night', 'Sunflowers']}], 'tickets': {'price': 25, 'available': True}}}\n",
            "Generated JSON response: [{\"name\": \"generate_art_exhibit_ticket\", \"arguments\": {\"name\": \"Modern Art Showcase\", \"location\": \"Museum of Fine Arts\", \"date\": \"2023-11-05\", \"artists\": [{\"name\": \"Pablo Picasso\", \"works\": [\"The Weeping Woman\", \"Guernica\"]}, {\"name\": \"Vincent van Gogh\", \"works\": [\"Starry Night\", \"Sunflowers\"]}], \"tickets\": {\"price\": 25, \"available\": true}}}]\n",
            "The response is valid JSON.\n",
            "--------------------------------------------------\n",
            "Query 23: {'banking': {'accountHolder': 'John Doe', 'accountNumber': '12345678', 'transactions': [{'date': '2023-01-01', 'description': 'Deposit', 'amount': 1000}, {'date': '2023-02-15', 'description': 'Withdrawal', 'amount': 500}], 'balance': 500}}\n",
            "Generated JSON response: [{\"name\": \"get_account_balance\", \"arguments\": {\"account_holder\": \"John Doe\", \"account_number\": \"12345678\", \"transactions\": [{\"date\": \"2023-01-01\", \"description\": \"Deposit\", \"amount\": 1000}, {\"date\": \"2023-02-15\", \"description\": \"Withdrawal\", \"amount\": 500}]}}]\n",
            "The response is valid JSON.\n",
            "--------------------------------------------------\n",
            "Query 24: {'scientificResearch': {'studyID': 654321, 'title': 'Gene Therapy for Cancer', 'researchers': [{'name': 'Dr. Alice Doe', 'institution': 'Harvard University'}, {'name': 'Dr. Bob Smith', 'institution': 'MIT'}], 'status': 'In Progress', 'funding  5000000}}\n",
            "Generated JSON response: [{\"name\": \"get_research\", \"arguments\": {\"study_id\": 654321}}]\n",
            "The response is valid JSON.\n",
            "--------------------------------------------------\n",
            "Query 25: {'musicConcert': {'concertID': 987123, 'artist': 'The Beatles', 'date': '1965-08-15', 'venue': 'Shea Stadium', 'setlist': [{'song': 'Twist and Shout'}, {'song': 'Help!'}], 'tickets': {'price': 5, 'soldOut': True}}}\n",
            "Generated JSON response: [{\"name\": \"music_concert\", \"arguments\": {\"concertid\": 987123, \"artist\": \"The Beatles\", \"date\": \"1965-08-15\", \"venue\": \"Shea Stadium\", \"setlist\": [{\"song\": \"Twist and Shout\"}, {\"song\": \"Help!\"}], \"tickets\": {\"price\": 5, \"soldout\": true}}}]\n",
            "The response is valid JSON.\n",
            "--------------------------------------------------\n",
            "Query 26: {'fitnessChallenge': {'challengeID': 456789, 'name': '30-Day Fitness Challenge', 'participants': [{'name': 'John Doe', 'progress': 'Week 2'}, {'name': 'Jane Smith', 'progress': 'Week 3'}], 'startDate': '2023-01-01', 'endDate' '2023-01-30'}\n",
            "Generated JSON response: [{\"name\": \"get_fitness_challenge\", \"arguments\": {\"challengeID\": 456789}}]\n",
            "The response is valid JSON.\n",
            "--------------------------------------------------\n",
            "Query 27: {'stockMarket': {'stock': {'symbol': 'AAPL', 'company': 'Apple Inc.', 'price': 150.50, 'marketCap': '2.5T', 'dividendYield': '0.5%'}, 'sector': 'Technology'}}\n",
            "Generated JSON response: [{\"name\": \"stock_market\", \"arguments\": {\"stock\": {\"symbol\": \"AAPL\", \"company\": \"Apple Inc.\", \"price\": 150.5, \"marketCap\": \"2.5T\", \"dividendYield\": \"0.5%\"}, \"sector\": \"Technology\"}}]\n",
            "The response is valid JSON.\n",
            "--------------------------------------------------\n",
            "Query 28: {'movieReview': {'title': 'The Godfather', 'director': 'Francis Ford Coppola', 'year': 1972, 'ratings': {'IMDB': 9.2, 'Rotten Tomatoes': '98%'}, 'review': 'An absolute classic. A must-watch for any film enthusiast.'}\n",
            "Generated JSON response: [{\"name\": \"analyze_movie_review\", \"arguments\": {\"title\": \"The Godfather\", \"director\": \"Francis Ford Coppola\", \"year\": 1972, \"ratings\": {\"IMDB\": 9.2, \"Rotten Tomatoes\": \"98%\"}, \"review\": \"An absolute classic. A must-watch for any film enthusiast.\"}}]\n",
            "The response is valid JSON.\n",
            "--------------------------------------------------\n",
            "Query 29: {'onlineCourse': {'courseID': 123456, 'title': 'Data Science 101', 'instructor': {'name': 'Dr. Alice Doe', 'institution': 'MIT'}, 'students': 500, 'startDate': '2023-09-01', 'endDate': '2023-12-01'}\n",
            "Generated JSON response: [{\"name\": \"retrieve_online_course\", \"arguments\": {\"course_id\": 123456}}]\n",
            "The response is valid JSON.\n",
            "--------------------------------------------------\n",
            "Query 30: {'travelItinerary': {'itineraryID': 789012, 'destination': 'Paris', 'departureDate': '2023-06-15', 'returnDate': '2023-06-30', 'traveler': {'name': 'John Doe', 'passport': '123456789'}, 'accommodation': {'hotel': 'Le Meurice', 'roomType': 'Deluxe Suite'}}}\n",
            "Generated JSON response: [{\"name\": \"generate_travel_plan\", \"arguments\": {\"itinerary_id\": 789012, \"destination\": \"Paris\", \"departure_date\": \"2023-06-15\", \"return_date\": \"2023-06-30\", \"traveler\": {\"name\": \"John Doe\", \"passport\": \"123456789\"}, \"accommodation\": {\"hotel\": \"Le Meurice\", \"room_type\": \"Deluxe Suite\"}}}]\n",
            "The response is valid JSON.\n",
            "--------------------------------------------------\n",
            "Valid JSON responses: 30/30 (100.00%)\n"
          ]
        }
      ],
      "source": [
        "evaluate_model_performance(finetuned_model, queries, finetuned_tokenizer)"
      ]
    },
    {
      "cell_type": "markdown",
      "id": "f33de8c0",
      "metadata": {
        "id": "f33de8c0"
      },
      "source": [
        "## **QWen2.5-7B Base Model for JSON Mode**"
      ]
    },
    {
      "cell_type": "code",
      "execution_count": null,
      "id": "7f75b245",
      "metadata": {
        "colab": {
          "referenced_widgets": [
            "1d5a88cad1b0440bad8c63bb1b0f2209"
          ]
        },
        "id": "7f75b245",
        "outputId": "19054bc8-0841-4003-ba4f-ce1a82cf580a"
      },
      "outputs": [
        {
          "name": "stderr",
          "output_type": "stream",
          "text": [
            "The `load_in_4bit` and `load_in_8bit` arguments are deprecated and will be removed in the future versions. Please, pass a `BitsAndBytesConfig` object in `quantization_config` argument instead.\n"
          ]
        },
        {
          "data": {
            "application/vnd.jupyter.widget-view+json": {
              "model_id": "1d5a88cad1b0440bad8c63bb1b0f2209",
              "version_major": 2,
              "version_minor": 0
            },
            "text/plain": [
              "Loading checkpoint shards:   0%|          | 0/4 [00:00<?, ?it/s]"
            ]
          },
          "metadata": {},
          "output_type": "display_data"
        },
        {
          "name": "stderr",
          "output_type": "stream",
          "text": [
            "Special tokens have been added in the vocabulary, make sure the associated word embeddings are fine-tuned or trained.\n"
          ]
        }
      ],
      "source": [
        "from transformers import AutoModelForCausalLM, AutoTokenizer\n",
        "import torch\n",
        "import json\n",
        "\n",
        "# Load the Qwen2.5-3B-Instruct model and tokenizer\n",
        "model_name = \"Qwen/Qwen2.5-7B-Instruct\"\n",
        "\n",
        "model = AutoModelForCausalLM.from_pretrained(\n",
        "    model_name,\n",
        "    torch_dtype=\"auto\",\n",
        "    load_in_8bit=True,        # Enable 8-bit loading\n",
        "    device_map=\"auto\"\n",
        ")\n",
        "tokenizer = AutoTokenizer.from_pretrained(model_name)"
      ]
    },
    {
      "cell_type": "code",
      "execution_count": null,
      "id": "7ea5ca87",
      "metadata": {
        "id": "7ea5ca87"
      },
      "outputs": [],
      "source": [
        "# Function to extract JSON content between code block markers\n",
        "def extract_json_content(response):\n",
        "    if \"```json\" in response and \"```\" in response:\n",
        "        start = response.find(\"```json\") + len(\"```json\")\n",
        "        end = response.find(\"```\", start)\n",
        "        if end != -1:\n",
        "            return response[start:end].strip()\n",
        "    elif \"```\" in response:\n",
        "        # If there's a code block without language specified\n",
        "        start = response.find(\"```\") + len(\"```\")\n",
        "        end = response.find(\"```\", start)\n",
        "        if end != -1:\n",
        "            return response[start:end].strip()\n",
        "    return response.strip()"
      ]
    },
    {
      "cell_type": "code",
      "execution_count": null,
      "id": "da31b4f6",
      "metadata": {
        "id": "da31b4f6"
      },
      "outputs": [],
      "source": [
        "# Function to evaluate the model on a list of queries\n",
        "def evaluate_model_performance(model, queries, tokenizer):\n",
        "    valid_json_count = 0\n",
        "    total_queries = len(queries)\n",
        "\n",
        "    for i, query in enumerate(queries, start=1):\n",
        "        print(f\"Query {i}: {query}\")\n",
        "\n",
        "        # Prepare the prompt\n",
        "        prompt = (\n",
        "            \"You are a helpful assistant. Your task is to convert any input into valid JSON.\\n\"\n",
        "            f\"Convert the following text query or invalid JSON into valid JSON.\"\n",
        "            f\"Only provide the JSON response, no extra information:\\n{query}\"\n",
        "        )\n",
        "\n",
        "        messages = [\n",
        "            {\n",
        "                \"role\": \"system\",\n",
        "                \"content\": \"You are Qwen, a helpful assistant. Your task is to convert any input into valid JSON.\"\n",
        "            },\n",
        "            {\n",
        "                \"role\": \"user\",\n",
        "                \"content\": prompt\n",
        "            }\n",
        "        ]\n",
        "\n",
        "        # Apply the chat template\n",
        "        text = tokenizer.apply_chat_template(\n",
        "            messages,\n",
        "            tokenize=False,\n",
        "            add_generation_prompt=True\n",
        "        )\n",
        "        model_inputs = tokenizer([text], return_tensors=\"pt\").to(model.device)\n",
        "\n",
        "        # Generate the response\n",
        "        generated_ids = model.generate(\n",
        "            **model_inputs,\n",
        "            max_new_tokens=512,\n",
        "            do_sample=True,\n",
        "            temperature=0.7\n",
        "        )\n",
        "        # Remove the prompt tokens from the output\n",
        "        generated_ids = [\n",
        "            output_ids[len(input_ids):] for input_ids, output_ids in zip(model_inputs.input_ids, generated_ids)\n",
        "        ]\n",
        "\n",
        "        # Decode the generated tokens\n",
        "        response = tokenizer.batch_decode(generated_ids, skip_special_tokens=True)[0]\n",
        "        print(f\"Generated JSON response: {response}\")\n",
        "\n",
        "        # Extract JSON content if wrapped in code block\n",
        "        json_content = extract_json_content(response)\n",
        "\n",
        "        # Check if the extracted content is valid JSON\n",
        "        is_valid = isJsonString(json_content)\n",
        "        if is_valid:\n",
        "            print(\"The response is valid JSON.\")\n",
        "            valid_json_count += 1\n",
        "        else:\n",
        "            print(\"The response is not valid JSON.\")\n",
        "        print(\"-\" * 50)\n",
        "\n",
        "    # Compute the percentage of valid JSON outputs\n",
        "    valid_percentage = (valid_json_count / total_queries) * 100\n",
        "    print(f\"Valid JSON responses: {valid_json_count}/{total_queries} ({valid_percentage:.2f}%)\")\n"
      ]
    },
    {
      "cell_type": "code",
      "execution_count": null,
      "id": "536ebf7a",
      "metadata": {
        "id": "536ebf7a",
        "outputId": "93fc1dad-2988-4cfe-8e42-21fb803d8d96"
      },
      "outputs": [
        {
          "name": "stdout",
          "output_type": "stream",
          "text": [
            "Query 1: I need an analysis report on the impact of our latest marketing campaign. Include data such as conversion rates, customer engagement metrics, social media performance, and any sales growth. Provide insights on which segments of the campaign were most successful and suggest areas for improvement.\n",
            "Generated JSON response: ```json\n",
            "{\n",
            "  \"request\": {\n",
            "    \"type\": \"analysis_report\",\n",
            "    \"topics\": [\n",
            "      \"conversion_rates\",\n",
            "      \"customer_engagement_metrics\",\n",
            "      \"social_media_performance\",\n",
            "      \"sales_growth\"\n",
            "    ],\n",
            "    \"segments\": [\n",
            "      \"most_successful\",\n",
            "      \"areas_for_improvement\"\n",
            "    ]\n",
            "  }\n",
            "}\n",
            "```\n",
            "The response is valid JSON.\n",
            "--------------------------------------------------\n",
            "Query 2: Please generate a monthly sales report for our e-commerce platform, detailing total sales, top-performing products, customer demographics, and return rates. Include comparisons to the previous month and highlight any notable trends or anomalies.\n",
            "Generated JSON response: ```json\n",
            "{\n",
            "  \"request\": {\n",
            "    \"type\": \"monthly_sales_report\",\n",
            "    \"details\": [\n",
            "      \"total_sales\",\n",
            "      \"top_performing_products\",\n",
            "      \"customer_demographics\",\n",
            "      \"return_rates\"\n",
            "    ],\n",
            "    \"platform\": \"e-commerce\",\n",
            "    \"comparisons\": true,\n",
            "    \"highlight_trends_anomalies\": true\n",
            "  }\n",
            "}\n",
            "```\n",
            "The response is valid JSON.\n",
            "--------------------------------------------------\n",
            "Query 3: Create a technical specification document for the new software system we're developing. Include sections on system architecture, database design, user interfaces, security protocols, scalability requirements, and integration with existing systems.\n",
            "Generated JSON response: ```json\n",
            "{\n",
            "  \"document\": {\n",
            "    \"title\": \"Technical Specification Document\",\n",
            "    \"sections\": [\n",
            "      {\n",
            "        \"section\": \"System Architecture\",\n",
            "        \"description\": \"Detailed description of the system architecture.\"\n",
            "      },\n",
            "      {\n",
            "        \"section\": \"Database Design\",\n",
            "        \"description\": \"Description of the database schema and design.\"\n",
            "      },\n",
            "      {\n",
            "        \"section\": \"User Interfaces\",\n",
            "        \"description\": \"Details about the user interfaces including design and functionality.\"\n",
            "      },\n",
            "      {\n",
            "        \"section\": \"Security Protocols\",\n",
            "        \"description\": \"Details about the security measures and protocols.\"\n",
            "      },\n",
            "      {\n",
            "        \"section\": \"Scalability Requirements\",\n",
            "        \"description\": \"Requirements for ensuring the system can scale.\"\n",
            "      },\n",
            "      {\n",
            "        \"section\": \"Integration with Existing Systems\",\n",
            "        \"description\": \"Details about integrating the new system with existing systems.\"\n",
            "      }\n",
            "    ]\n",
            "  }\n",
            "}\n",
            "```\n",
            "The response is valid JSON.\n",
            "--------------------------------------------------\n",
            "Query 4: Can you provide a strategic plan for expanding our business into new international markets? The plan should cover potential target countries, market entry strategies, competitive analysis, legal considerations, and estimated costs. Highlight key opportunities and risks.\n",
            "Generated JSON response: {\n",
            "  \"query\": \"Can you provide a strategic plan for expanding our business into new international markets? The plan should cover potential target countries, market entry strategies, competitive analysis, legal considerations, and estimated costs. Highlight key opportunities and risks.\",\n",
            "  \"requirements\": {\n",
            "    \"target_countries\": [],\n",
            "    \"market_entry_strategies\": [],\n",
            "    \"competitive_analysis\": {},\n",
            "    \"legal_considerations\": {},\n",
            "    \"estimated_costs\": {},\n",
            "    \"opportunities\": [],\n",
            "    \"risks\": []\n",
            "  }\n",
            "}\n",
            "The response is valid JSON.\n",
            "--------------------------------------------------\n",
            "Query 5: Generate a risk assessment report for our cloud infrastructure. The report should analyze potential security threats, vulnerabilities, compliance issues, and disaster recovery plans. Recommend best practices for improving system security and resilience.\n",
            "Generated JSON response: ```json\n",
            "{\n",
            "  \"request\": {\n",
            "    \"type\": \"risk_assessment_report\",\n",
            "    \"scope\": \"cloud_infrastructure\",\n",
            "    \"sections\": [\n",
            "      {\n",
            "        \"title\": \"Security Threats Analysis\",\n",
            "        \"content\": \"Analyze potential security threats affecting the cloud infrastructure.\"\n",
            "      },\n",
            "      {\n",
            "        \"title\": \"Vulnerabilities Assessment\",\n",
            "        \"content\": \"Identify and assess current vulnerabilities in the cloud infrastructure.\"\n",
            "      },\n",
            "      {\n",
            "        \"title\": \"Compliance Issues Review\",\n",
            "        \"content\": \"Evaluate compliance issues related to regulatory requirements.\"\n",
            "      },\n",
            "      {\n",
            "        \"title\": \"Disaster Recovery Plan Evaluation\",\n",
            "        \"content\": \"Assess the existing disaster recovery plan for effectiveness.\"\n",
            "      }\n",
            "    ],\n",
            "    \"recommendations\": {\n",
            "      \"improving_system_security\": \"Best practices for enhancing security measures.\",\n",
            "      \"resilience_strategies\": \"Strategies to improve system resilience.\"\n",
            "    }\n",
            "  }\n",
            "}\n",
            "```\n",
            "The response is valid JSON.\n",
            "--------------------------------------------------\n",
            "Query 6: {'payment': {'transactionID': 456789, 'amount': 100.00, 'currency': 'USD', 'method': 'Credit Card', 'status': 'Pending', 'details': {'cardNumber': '**** **** **** 1234', 'expiryDate': '12/23'}}}\n",
            "Generated JSON response: {\n",
            "  \"payment\": {\n",
            "    \"transactionID\": 456789,\n",
            "    \"amount\": 100.00,\n",
            "    \"currency\": \"USD\",\n",
            "    \"method\": \"Credit Card\",\n",
            "    \"status\": \"Pending\",\n",
            "    \"details\": {\n",
            "      \"cardNumber\": \"**** **** **** 1234\",\n",
            "      \"expiryDate\": \"12/23\"\n",
            "    }\n",
            "  }\n",
            "}\n",
            "The response is valid JSON.\n",
            "--------------------------------------------------\n",
            "Query 7: {'portfolio': {'investor': 'Jane Doe', 'stocks': [{'ticker': 'AAPL', 'shares': 50, 'averagePrice': 150}, {'ticker': 'GOOG', 'shares': 30, 'averagePrice': 2500}], 'totalValue': 180000}\n",
            "Generated JSON response: {\n",
            "  \"portfolio\": {\n",
            "    \"investor\": \"Jane Doe\",\n",
            "    \"stocks\": [\n",
            "      {\n",
            "        \"ticker\": \"AAPL\",\n",
            "        \"shares\": 50,\n",
            "        \"averagePrice\": 150\n",
            "      },\n",
            "      {\n",
            "        \"ticker\": \"GOOG\",\n",
            "        \"shares\": 30,\n",
            "        \"averagePrice\": 2500\n",
            "      }\n",
            "    ],\n",
            "    \"totalValue\": 180000\n",
            "  }\n",
            "}\n",
            "The response is valid JSON.\n",
            "--------------------------------------------------\n",
            "Query 8: {'jobApplication': {'candidateName': 'Alice Doe', 'position': 'Software Engineer', 'status': 'Under Review', 'interviews': [{'round': 1, 'interviewer': 'John Smith'}, {'round': 2, 'interviewer': 'Sara Lee'}], 'notes': 'Strong candidate, needs to improve coding skills'}}\n",
            "Generated JSON response: {\n",
            "  \"jobApplication\": {\n",
            "    \"candidateName\": \"Alice Doe\",\n",
            "    \"position\": \"Software Engineer\",\n",
            "    \"status\": \"Under Review\",\n",
            "    \"interviews\": [\n",
            "      {\n",
            "        \"round\": 1,\n",
            "        \"interviewer\": \"John Smith\"\n",
            "      },\n",
            "      {\n",
            "        \"round\": 2,\n",
            "        \"interviewer\": \"Sara Lee\"\n",
            "      }\n",
            "    ],\n",
            "    \"notes\": \"Strong candidate, needs to improve coding skills\"\n",
            "  }\n",
            "}\n",
            "The response is valid JSON.\n",
            "--------------------------------------------------\n",
            "Query 9: {'orderID': 12345, 'customer': {'name': 'Alice Johnson', 'email': 'alice@example.com'}, 'items': [{'productID': 567, 'productName': 'Laptop', 'quantity': 1, 'price': 999.99}, {'productID': 789, 'productName': 'Mouse', 'quantity': 2, 'price': 19.99}], 'total': 1039.97\n",
            "Generated JSON response: {\n",
            "  \"orderID\": 12345,\n",
            "  \"customer\": {\n",
            "    \"name\": \"Alice Johnson\",\n",
            "    \"email\": \"alice@example.com\"\n",
            "  },\n",
            "  \"items\": [\n",
            "    {\n",
            "      \"productID\": 567,\n",
            "      \"productName\": \"Laptop\",\n",
            "      \"quantity\": 1,\n",
            "      \"price\": 999.99\n",
            "    },\n",
            "    {\n",
            "      \"productID\": 789,\n",
            "      \"productName\": \"Mouse\",\n",
            "      \"quantity\": 2,\n",
            "      \"price\": 19.99\n",
            "    }\n",
            "  ],\n",
            "  \"total\": 1039.97\n",
            "}\n",
            "The response is valid JSON.\n",
            "--------------------------------------------------\n",
            "Query 10: {'shipment': {'trackingID': 987654321, 'origin': 'Los Angeles', 'destination': 'New York', 'items': [{'itemID': 456, 'name': 'Smartphone', 'quantity': 50}, {'itemID': 789, 'name': 'Laptop', 'quantity': 20}], 'status': 'In Transit'\n",
            "Generated JSON response: {\n",
            "  \"shipment\": {\n",
            "    \"trackingID\": 987654321,\n",
            "    \"origin\": \"Los Angeles\",\n",
            "    \"destination\": \"New York\",\n",
            "    \"items\": [\n",
            "      {\n",
            "        \"itemID\": 456,\n",
            "        \"name\": \"Smartphone\",\n",
            "        \"quantity\": 50\n",
            "      },\n",
            "      {\n",
            "        \"itemID\": 789,\n",
            "        \"name\": \"Laptop\",\n",
            "        \"quantity\": 20\n",
            "      }\n",
            "    ],\n",
            "    \"status\": \"In Transit\"\n",
            "  }\n",
            "}\n",
            "The response is valid JSON.\n",
            "--------------------------------------------------\n",
            "Query 11: {'conferenceCall': {'callID': 456123, 'participants': ['John Doe', 'Jane Smith'], 'agenda': 'Project Planning', 'date': '2022-05-01', 'time': '10:00 AM', 'duration': '1h'}}\n",
            "Generated JSON response: {\n",
            "  \"conferenceCall\": {\n",
            "    \"callID\": 456123,\n",
            "    \"participants\": [\"John Doe\", \"Jane Smith\"],\n",
            "    \"agenda\": \"Project Planning\",\n",
            "    \"date\": \"2022-05-01\",\n",
            "    \"time\": \"10:00 AM\",\n",
            "    \"duration\": \"1h\"\n",
            "  }\n",
            "}\n",
            "The response is valid JSON.\n",
            "--------------------------------------------------\n",
            "Query 12: {'patient': {'name': 'Alice Doe', 'age': 30, 'medicalHistory': [{'condition': 'Diabetes', 'diagnosed': '2015'}, {'condition': 'Hypertension', 'diagnosed': '2019'}], 'medications': [{'name': 'Metformin', 'dosage': '500mg'}, {'name': 'Lisinopril', 'dosage': '10mg'}]}\n",
            "Generated JSON response: {\"patient\": {\"name\": \"Alice Doe\", \"age\": 30, \"medicalHistory\": [{\"condition\": \"Diabetes\", \"diagnosed\": \"2015\"}, {\"condition\": \"Hypertension\", \"diagnosed\": \"2019\"}], \"medications\": [{\"name\": \"Metformin\", \"dosage\": \"500mg\"}, {\"name\": \"Lisinopril\", \"dosage\": \"10mg\"}]}}\n",
            "The response is valid JSON.\n",
            "--------------------------------------------------\n",
            "Query 13: {'movie': {'title': 'Inception', 'director': 'Christopher Nolan', 'year': 2010, 'genres': ['Sci-Fi', 'Thriller'], 'cast': [{'name': 'Leonardo DiCaprio', 'role': 'Dom Cobb'}, {'name': 'Joseph Gordon-Levitt', 'role': 'Arthur'}], 'ratings': {'IMDB': 8.8, 'Rotten Tomatoes': '87%'}}}\n",
            "Generated JSON response: {\n",
            "  \"movie\": {\n",
            "    \"title\": \"Inception\",\n",
            "    \"director\": \"Christopher Nolan\",\n",
            "    \"year\": 2010,\n",
            "    \"genres\": [\n",
            "      \"Sci-Fi\",\n",
            "      \"Thriller\"\n",
            "    ],\n",
            "    \"cast\": [\n",
            "      {\n",
            "        \"name\": \"Leonardo DiCaprio\",\n",
            "        \"role\": \"Dom Cobb\"\n",
            "      },\n",
            "      {\n",
            "        \"name\": \"Joseph Gordon-Levitt\",\n",
            "        \"role\": \"Arthur\"\n",
            "      }\n",
            "    ],\n",
            "    \"ratings\": {\n",
            "      \"IMDB\": 8.8,\n",
            "      \"Rotten Tomatoes\": \"87%\"\n",
            "    }\n",
            "  }\n",
            "}\n",
            "The response is valid JSON.\n",
            "--------------------------------------------------\n",
            "Query 14: {'trip': {'destination': 'Tokyo', 'startDate': '2023-04-15', 'endDate': '2023-04-30', 'travelers': [{'name': 'Alice Johnson', 'passport': '123456789'}, {'name': 'Bob Williams', 'passport': '987654321'}], 'itinerary': [{'day': 1, 'activity': 'Visit Tokyo Tower'}, {'day': 2, 'activity': 'Explore Shibuya Crossing'}], 'hotel': 'The Ritz-Carlton', 'roomType': 'Suite'}}\n",
            "Generated JSON response: {\n",
            "  \"trip\": {\n",
            "    \"destination\": \"Tokyo\",\n",
            "    \"startDate\": \"2023-04-15\",\n",
            "    \"endDate\": \"2023-04-30\",\n",
            "    \"travelers\": [\n",
            "      {\n",
            "        \"name\": \"Alice Johnson\",\n",
            "        \"passport\": \"123456789\"\n",
            "      },\n",
            "      {\n",
            "        \"name\": \"Bob Williams\",\n",
            "        \"passport\": \"987654321\"\n",
            "      }\n",
            "    ],\n",
            "    \"itinerary\": [\n",
            "      {\n",
            "        \"day\": 1,\n",
            "        \"activity\": \"Visit Tokyo Tower\"\n",
            "      },\n",
            "      {\n",
            "        \"day\": 2,\n",
            "        \"activity\": \"Explore Shibuya Crossing\"\n",
            "      }\n",
            "    ],\n",
            "    \"hotel\": \"The Ritz-Carlton\",\n",
            "    \"roomType\": \"Suite\"\n",
            "  }\n",
            "}\n",
            "The response is valid JSON.\n",
            "--------------------------------------------------\n",
            "Query 15: {'ecommerce': {'orderID': 987654321, 'customer': {'name': 'Emily Smith', 'email': 'emily@example.com'}, 'items': [{'productID': 12345, 'name': 'Smart TV', 'quantity': 1, 'price': 499.99}, {'productID': 67890, 'name': 'Bluetooth Speaker', 'quantity': 2, 'price': 29.99}], 'total': 559.97, 'status': 'Shipped', 'shipping': {'address': '789 Birch Street', 'city': 'Austin', 'state': 'TX', 'zipcode': 73301'}}}\n",
            "Generated JSON response: {\n",
            "  \"ecommerce\": {\n",
            "    \"orderID\": 987654321,\n",
            "    \"customer\": {\n",
            "      \"name\": \"Emily Smith\",\n",
            "      \"email\": \"emily@example.com\"\n",
            "    },\n",
            "    \"items\": [\n",
            "      {\n",
            "        \"productID\": 12345,\n",
            "        \"name\": \"Smart TV\",\n",
            "        \"quantity\": 1,\n",
            "        \"price\": 499.99\n",
            "      },\n",
            "      {\n",
            "        \"productID\": 67890,\n",
            "        \"name\": \"Bluetooth Speaker\",\n",
            "        \"quantity\": 2,\n",
            "        \"price\": 29.99\n",
            "      }\n",
            "    ],\n",
            "    \"total\": 559.97,\n",
            "    \"status\": \"Shipped\",\n",
            "    \"shipping\": {\n",
            "      \"address\": \"789 Birch Street\",\n",
            "      \"city\": \"Austin\",\n",
            "      \"state\": \"TX\",\n",
            "      \"zipcode\": 73301\n",
            "    }\n",
            "  }\n",
            "}\n",
            "The response is valid JSON.\n",
            "--------------------------------------------------\n",
            "Query 16: {'fitness': {'workoutID': 101, 'type': 'Strength Training', 'exercises': [{'name': 'Bench Press', 'sets': 3, 'reps': 10, 'weight': 135}, {'name': 'Squats', 'sets': 4, 'reps': 12, 'weight': 185}], 'date': '2023-07-10', 'duration': '1 hour'}}\n",
            "Generated JSON response: {\"fitness\": {\"workoutID\": 101, \"type\": \"Strength Training\", \"exercises\": [{\"name\": \"Bench Press\", \"sets\": 3, \"reps\": 10, \"weight\": 135}, {\"name\": \"Squats\", \"sets\": 4, \"reps\": 12, \"weight\": 185}], \"date\": \"2023-07-10\", \"duration\": \"1 hour\"}}\n",
            "The response is valid JSON.\n",
            "--------------------------------------------------\n",
            "Query 17: {'concert': {'name': 'Rock Fest 2023', 'location': 'Los Angeles', 'date': '2023-09-20', 'lineup': [{'band': 'The Rolling Stones', 'time': '8:00 PM'}, {'band': 'Queen', 'time': '9:30 PM'}], 'tickets': [{'section': 'VIP', 'price': 500}, {'section': 'General Admission', 'price': 150}], 'available': True}\n",
            "Generated JSON response: {\n",
            "  \"concert\": {\n",
            "    \"name\": \"Rock Fest 2023\",\n",
            "    \"location\": \"Los Angeles\",\n",
            "    \"date\": \"2023-09-20\",\n",
            "    \"lineup\": [\n",
            "      {\n",
            "        \"band\": \"The Rolling Stones\",\n",
            "        \"time\": \"8:00 PM\"\n",
            "      },\n",
            "      {\n",
            "        \"band\": \"Queen\",\n",
            "        \"time\": \"9:30 PM\"\n",
            "      }\n",
            "    ],\n",
            "    \"tickets\": [\n",
            "      {\n",
            "        \"section\": \"VIP\",\n",
            "        \"price\": 500\n",
            "      },\n",
            "      {\n",
            "        \"section\": \"General Admission\",\n",
            "        \"price\": 150\n",
            "      }\n",
            "    ],\n",
            "    \"available\": true\n",
            "  }\n",
            "}\n",
            "The response is valid JSON.\n",
            "--------------------------------------------------\n",
            "Query 18: {'conference': {'name': 'AI Summit', 'date': '2022-10-15', 'location': 'New York', 'topics': ['AI', 'Machine Learning', 'Deep Learning'], 'speakers': [{'name': 'John Smith', 'topic': 'AI'}, {'name': 'Emily Johnson', 'topic': 'Machine Learning'}]\n",
            "Generated JSON response: {\n",
            "  \"conference\": {\n",
            "    \"name\": \"AI Summit\",\n",
            "    \"date\": \"2022-10-15\",\n",
            "    \"location\": \"New York\",\n",
            "    \"topics\": [\"AI\", \"Machine Learning\", \"Deep Learning\"],\n",
            "    \"speakers\": [\n",
            "      {\"name\": \"John Smith\", \"topic\": \"AI\"},\n",
            "      {\"name\": \"Emily Johnson\", \"topic\": \"Machine Learning\"}\n",
            "    ]\n",
            "  }\n",
            "}\n",
            "The response is valid JSON.\n",
            "--------------------------------------------------\n",
            "Query 19: {'conference': {'name': 'Tech Expo 2023', 'location': 'San Francisco', 'date': '2023-10-15', 'topics': ['AI', 'Blockchain', 'Cybersecurity'], 'speakers': [{'name': 'John McAfee', 'topic': 'Cybersecurity'}, {'name': 'Vitalik Buterin', 'topic': 'Blockchain'}], 'attendees': 3000}}\n",
            "Generated JSON response: {\n",
            "  \"conference\": {\n",
            "    \"name\": \"Tech Expo 2023\",\n",
            "    \"location\": \"San Francisco\",\n",
            "    \"date\": \"2023-10-15\",\n",
            "    \"topics\": [\"AI\", \"Blockchain\", \"Cybersecurity\"],\n",
            "    \"speakers\": [\n",
            "      {\"name\": \"John McAfee\", \"topic\": \"Cybersecurity\"},\n",
            "      {\"name\": \"Vitalik Buterin\", \"topic\": \"Blockchain\"}\n",
            "    ],\n",
            "    \"attendees\": 3000\n",
            "  }\n",
            "}\n",
            "The response is valid JSON.\n",
            "--------------------------------------------------\n",
            "Query 20: {'survey': {'title': 'Customer Satisfaction', 'responses': [{'question': 'How would you rate our service?', 'rating': 5}, {'question': 'What can we improve?', 'text': 'Faster shipping'}], 'summary': {'averageRating': 4.8, 'commonSuggestions': ['Lower prices', 'More products']}}}\n",
            "Generated JSON response: {\n",
            "  \"survey\": {\n",
            "    \"title\": \"Customer Satisfaction\",\n",
            "    \"responses\": [\n",
            "      {\n",
            "        \"question\": \"How would you rate our service?\",\n",
            "        \"rating\": 5\n",
            "      },\n",
            "      {\n",
            "        \"question\": \"What can we improve?\",\n",
            "        \"text\": \"Faster shipping\"\n",
            "      }\n",
            "    ],\n",
            "    \"summary\": {\n",
            "      \"averageRating\": 4.8,\n",
            "      \"commonSuggestions\": [\n",
            "        \"Lower prices\",\n",
            "        \"More products\"\n",
            "      ]\n",
            "    }\n",
            "  }\n",
            "}\n",
            "The response is valid JSON.\n",
            "--------------------------------------------------\n",
            "Query 21: {'socialMedia': {'platform': 'Twitter', 'user': {'username': 'janedoe', 'followers': 5000, 'following': 300, 'tweets': [{'date': '2023-07-10', 'content': 'Just got a new job!'}, {'date': '2023-08-01', 'content': 'Loving my new apartment.'}], 'likes': 100, 'retweets': 10}}}\n",
            "Generated JSON response: {\n",
            "  \"socialMedia\": {\n",
            "    \"platform\": \"Twitter\",\n",
            "    \"user\": {\n",
            "      \"username\": \"janedoe\",\n",
            "      \"followers\": 5000,\n",
            "      \"following\": 300,\n",
            "      \"tweets\": [\n",
            "        {\n",
            "          \"date\": \"2023-07-10\",\n",
            "          \"content\": \"Just got a new job!\"\n",
            "        },\n",
            "        {\n",
            "          \"date\": \"2023-08-01\",\n",
            "          \"content\": \"Loving my new apartment.\"\n",
            "        }\n",
            "      ],\n",
            "      \"likes\": 100,\n",
            "      \"retweets\": 10\n",
            "    }\n",
            "  }\n",
            "}\n",
            "The response is valid JSON.\n",
            "--------------------------------------------------\n",
            "Query 22: {'artExhibit': {'name': 'Modern Art Showcase', 'location': 'Museum of Fine Arts', 'date': '2023-11-05', 'artists': [{'name': 'Pablo Picasso', 'works': ['The Weeping Woman', 'Guernica']}, {'name': 'Vincent van Gogh', 'works': ['Starry Night', 'Sunflowers']}], 'tickets': {'price': 25, 'available': True}}}\n",
            "Generated JSON response: {\n",
            "  \"artExhibit\": {\n",
            "    \"name\": \"Modern Art Showcase\",\n",
            "    \"location\": \"Museum of Fine Arts\",\n",
            "    \"date\": \"2023-11-05\",\n",
            "    \"artists\": [\n",
            "      {\n",
            "        \"name\": \"Pablo Picasso\",\n",
            "        \"works\": [\"The Weeping Woman\", \"Guernica\"]\n",
            "      },\n",
            "      {\n",
            "        \"name\": \"Vincent van Gogh\",\n",
            "        \"works\": [\"Starry Night\", \"Sunflowers\"]\n",
            "      }\n",
            "    ],\n",
            "    \"tickets\": {\n",
            "      \"price\": 25,\n",
            "      \"available\": true\n",
            "    }\n",
            "  }\n",
            "}\n",
            "The response is valid JSON.\n",
            "--------------------------------------------------\n",
            "Query 23: {'banking': {'accountHolder': 'John Doe', 'accountNumber': '12345678', 'transactions': [{'date': '2023-01-01', 'description': 'Deposit', 'amount': 1000}, {'date': '2023-02-15', 'description': 'Withdrawal', 'amount': 500}], 'balance': 500}}\n",
            "Generated JSON response: {\n",
            "  \"banking\": {\n",
            "    \"accountHolder\": \"John Doe\",\n",
            "    \"accountNumber\": \"12345678\",\n",
            "    \"transactions\": [\n",
            "      {\n",
            "        \"date\": \"2023-01-01\",\n",
            "        \"description\": \"Deposit\",\n",
            "        \"amount\": 1000\n",
            "      },\n",
            "      {\n",
            "        \"date\": \"2023-02-15\",\n",
            "        \"description\": \"Withdrawal\",\n",
            "        \"amount\": 500\n",
            "      }\n",
            "    ],\n",
            "    \"balance\": 500\n",
            "  }\n",
            "}\n",
            "The response is valid JSON.\n",
            "--------------------------------------------------\n",
            "Query 24: {'scientificResearch': {'studyID': 654321, 'title': 'Gene Therapy for Cancer', 'researchers': [{'name': 'Dr. Alice Doe', 'institution': 'Harvard University'}, {'name': 'Dr. Bob Smith', 'institution': 'MIT'}], 'status': 'In Progress', 'funding  5000000}}\n",
            "Generated JSON response: {\n",
            "  \"scientificResearch\": {\n",
            "    \"studyID\": 654321,\n",
            "    \"title\": \"Gene Therapy for Cancer\",\n",
            "    \"researchers\": [\n",
            "      {\n",
            "        \"name\": \"Dr. Alice Doe\",\n",
            "        \"institution\": \"Harvard University\"\n",
            "      },\n",
            "      {\n",
            "        \"name\": \"Dr. Bob Smith\",\n",
            "        \"institution\": \"MIT\"\n",
            "      }\n",
            "    ],\n",
            "    \"status\": \"In Progress\",\n",
            "    \"funding\": 5000000\n",
            "  }\n",
            "}\n",
            "The response is valid JSON.\n",
            "--------------------------------------------------\n",
            "Query 25: {'musicConcert': {'concertID': 987123, 'artist': 'The Beatles', 'date': '1965-08-15', 'venue': 'Shea Stadium', 'setlist': [{'song': 'Twist and Shout'}, {'song': 'Help!'}], 'tickets': {'price': 5, 'soldOut': True}}}\n",
            "Generated JSON response: {\n",
            "  \"musicConcert\": {\n",
            "    \"concertID\": 987123,\n",
            "    \"artist\": \"The Beatles\",\n",
            "    \"date\": \"1965-08-15\",\n",
            "    \"venue\": \"Shea Stadium\",\n",
            "    \"setlist\": [\n",
            "      {\"song\": \"Twist and Shout\"},\n",
            "      {\"song\": \"Help!\"}\n",
            "    ],\n",
            "    \"tickets\": {\n",
            "      \"price\": 5,\n",
            "      \"soldOut\": true\n",
            "    }\n",
            "  }\n",
            "}\n",
            "The response is valid JSON.\n",
            "--------------------------------------------------\n",
            "Query 26: {'fitnessChallenge': {'challengeID': 456789, 'name': '30-Day Fitness Challenge', 'participants': [{'name': 'John Doe', 'progress': 'Week 2'}, {'name': 'Jane Smith', 'progress': 'Week 3'}], 'startDate': '2023-01-01', 'endDate' '2023-01-30'}\n",
            "Generated JSON response: {\n",
            "  \"fitnessChallenge\": {\n",
            "    \"challengeID\": 456789,\n",
            "    \"name\": \"30-Day Fitness Challenge\",\n",
            "    \"participants\": [\n",
            "      {\n",
            "        \"name\": \"John Doe\",\n",
            "        \"progress\": \"Week 2\"\n",
            "      },\n",
            "      {\n",
            "        \"name\": \"Jane Smith\",\n",
            "        \"progress\": \"Week 3\"\n",
            "      }\n",
            "    ],\n",
            "    \"startDate\": \"2023-01-01\",\n",
            "    \"endDate\": \"2023-01-30\"\n",
            "  }\n",
            "}\n",
            "The response is valid JSON.\n",
            "--------------------------------------------------\n",
            "Query 27: {'stockMarket': {'stock': {'symbol': 'AAPL', 'company': 'Apple Inc.', 'price': 150.50, 'marketCap': '2.5T', 'dividendYield': '0.5%'}, 'sector': 'Technology'}}\n",
            "Generated JSON response: {\"stockMarket\": {\"stock\": {\"symbol\": \"AAPL\", \"company\": \"Apple Inc.\", \"price\": 150.5, \"marketCap\": \"2.5T\", \"dividendYield\": \"0.5%\"}, \"sector\": \"Technology\"}}\n",
            "The response is valid JSON.\n",
            "--------------------------------------------------\n",
            "Query 28: {'movieReview': {'title': 'The Godfather', 'director': 'Francis Ford Coppola', 'year': 1972, 'ratings': {'IMDB': 9.2, 'Rotten Tomatoes': '98%'}, 'review': 'An absolute classic. A must-watch for any film enthusiast.'}\n",
            "Generated JSON response: {\n",
            "  \"movieReview\": {\n",
            "    \"title\": \"The Godfather\",\n",
            "    \"director\": \"Francis Ford Coppola\",\n",
            "    \"year\": 1972,\n",
            "    \"ratings\": {\n",
            "      \"IMDB\": 9.2,\n",
            "      \"Rotten Tomatoes\": \"98%\"\n",
            "    },\n",
            "    \"review\": \"An absolute classic. A must-watch for any film enthusiast.\"\n",
            "  }\n",
            "}\n",
            "The response is valid JSON.\n",
            "--------------------------------------------------\n",
            "Query 29: {'onlineCourse': {'courseID': 123456, 'title': 'Data Science 101', 'instructor': {'name': 'Dr. Alice Doe', 'institution': 'MIT'}, 'students': 500, 'startDate': '2023-09-01', 'endDate': '2023-12-01'}\n",
            "Generated JSON response: {\n",
            "  \"onlineCourse\": {\n",
            "    \"courseID\": 123456,\n",
            "    \"title\": \"Data Science 101\",\n",
            "    \"instructor\": {\n",
            "      \"name\": \"Dr. Alice Doe\",\n",
            "      \"institution\": \"MIT\"\n",
            "    },\n",
            "    \"students\": 500,\n",
            "    \"startDate\": \"2023-09-01\",\n",
            "    \"endDate\": \"2023-12-01\"\n",
            "  }\n",
            "}\n",
            "The response is valid JSON.\n",
            "--------------------------------------------------\n",
            "Query 30: {'travelItinerary': {'itineraryID': 789012, 'destination': 'Paris', 'departureDate': '2023-06-15', 'returnDate': '2023-06-30', 'traveler': {'name': 'John Doe', 'passport': '123456789'}, 'accommodation': {'hotel': 'Le Meurice', 'roomType': 'Deluxe Suite'}}}\n",
            "Generated JSON response: {\n",
            "  \"travelItinerary\": {\n",
            "    \"itineraryID\": 789012,\n",
            "    \"destination\": \"Paris\",\n",
            "    \"departureDate\": \"2023-06-15\",\n",
            "    \"returnDate\": \"2023-06-30\",\n",
            "    \"traveler\": {\n",
            "      \"name\": \"John Doe\",\n",
            "      \"passport\": \"123456789\"\n",
            "    },\n",
            "    \"accommodation\": {\n",
            "      \"hotel\": \"Le Meurice\",\n",
            "      \"roomType\": \"Deluxe Suite\"\n",
            "    }\n",
            "  }\n",
            "}\n",
            "The response is valid JSON.\n",
            "--------------------------------------------------\n",
            "Valid JSON responses: 30/30 (100.00%)\n"
          ]
        }
      ],
      "source": [
        "# Call the evaluation function\n",
        "evaluate_model_performance(model, queries, tokenizer)"
      ]
    },
    {
      "cell_type": "markdown",
      "id": "13e2bddc",
      "metadata": {
        "id": "13e2bddc"
      },
      "source": [
        "## **QWen2.5-7B Finetuned and Base Model Comparison**"
      ]
    },
    {
      "cell_type": "markdown",
      "id": "6eb1504b",
      "metadata": {
        "id": "6eb1504b"
      },
      "source": [
        "### **Text Queries**"
      ]
    },
    {
      "cell_type": "markdown",
      "id": "e7978b2d",
      "metadata": {
        "id": "e7978b2d"
      },
      "source": [
        "| **Query** | **Input Query** | **Base Model JSON** | **Base Model JSON Validity** | **Fine-tuned Model JSON** | **Fine-tuned Model JSON Validity** |\n",
        "|---|---|---|---|---|---|\n",
        "| **Query 1** | I need an analysis report on the impact of our latest marketing campaign. Include data such as conversion rates, customer engagement metrics, social media performance, and any sales growth. Provide insights on which segments of the campaign were most successful and suggest areas for improvement. | ` {\"request\": {\"type\": \"analysis_report\", \"topics\": [\"conversion_rates\", \"customer_engagement_metrics\", \"social_media_performance\", \"sales_growth\"], \"segments\": [\"most_successful\", \"areas_for_improvement\"]}}` | Valid JSON | ` [{\"name\": \"marketing_campaign_analysis\", \"arguments\": {\"campaign_data\": [{\"conversion_rate\": 0.15, \"customer_engagement\": 85, \"social_media_performance\": 75, \"sales_growth\": 20}]}}]` | Valid JSON |\n",
        "| **Query 2** | Please generate a monthly sales report for our e-commerce platform, detailing total sales, top-performing products, customer demographics, and return rates. Include comparisons to the previous month and highlight any notable trends or anomalies. | ` {\"request\": {\"type\": \"monthly_sales_report\", \"details\": [\"total_sales\", \"top_performing_products\", \"customer_demographics\", \"return_rates\"], \"platform\": \"e-commerce\", \"comparisons\": true, \"highlight_trends_anomalies\": true}}` | Valid JSON | ` [{\"name\": \"monthly_sales_report\", \"arguments\": {\"ecommerce_platform\": true}}]` | Valid JSON |\n",
        "| **Query 3** | Create a technical specification document for the new software system we're developing. Include sections on system architecture, database design, user interfaces, security protocols, scalability requirements, and integration with existing systems. | ` {\"document\": {\"title\": \"Technical Specification Document\", \"sections\": [{\"section\": \"System Architecture\", \"description\": \"Detailed description.\"}, {\"section\": \"Database Design\", \"description\": \"Database schema and design.\"}, {\"section\": \"User Interfaces\", \"description\": \"Details about UI.\"}, {\"section\": \"Security Protocols\", \"description\": \"Security measures.\"}, {\"section\": \"Scalability Requirements\", \"description\": \"System scalability.\"}, {\"section\": \"Integration with Existing Systems\", \"description\": \"Integration details.\"}]}}` | Valid JSON | ` [{\"name\": \"technical_specification\", \"arguments\": {\"sections\": [\"system_architecture\", \"database_design\", \"user_interfaces\", \"security_protocols\", \"scalability_requirements\", \"integration_with_existing_systems\"]}}]` | Valid JSON |\n",
        "| **Query 4** | Can you provide a strategic plan for expanding our business into new international markets? The plan should cover potential target countries, market entry strategies, competitive analysis, legal considerations, and estimated costs. Highlight key opportunities and risks. | ` {\"query\": \"Can you provide a strategic plan for expanding...\", \"requirements\": {\"target_countries\": [], \"market_entry_strategies\": [], \"competitive_analysis\": {}, \"legal_considerations\": {}, \"estimated_costs\": {}, \"opportunities\": [], \"risks\": []}}` | Valid JSON | ` [{\"name\": \"business_expansion_plan\", \"arguments\": {\"market\": \"international\", \"strategy\": \"entry_strategies\", \"analysis\": \"competitive_analysis\", \"legal\": \"legal_considerations\", \"costs\": \"estimated_costs\"}}]` | Valid JSON |\n",
        "| **Query 5** | Generate a risk assessment report for our cloud infrastructure. The report should analyze potential security threats, vulnerabilities, compliance issues, and disaster recovery plans. Recommend best practices for improving system security and resilience. | ` {\"request\": {\"type\": \"risk_assessment_report\", \"scope\": \"cloud_infrastructure\", \"sections\": [{\"title\": \"Security Threats Analysis\", \"content\": \"Analyze potential security threats.\"}, {\"title\": \"Vulnerabilities Assessment\", \"content\": \"Assess current vulnerabilities.\"}, {\"title\": \"Compliance Issues Review\", \"content\": \"Evaluate compliance.\"}, {\"title\": \"Disaster Recovery Plan Evaluation\", \"content\": \"Assess disaster recovery plan.\"}], \"recommendations\": {\"improving_system_security\": \"Best practices.\", \"resilience_strategies\": \"Resilience strategies.\"}}` | Valid JSON | ` [{\"name\": \"risk_assessment\", \"arguments\": {\"target\": \"cloud infrastructure\", \"scope\": \"security threats, vulnerabilities, compliance issues, disaster recovery plans\"}}]` | Valid JSON |\n"
      ]
    },
    {
      "cell_type": "markdown",
      "id": "b152e285",
      "metadata": {
        "id": "b152e285"
      },
      "source": [
        "### **Valid and Invalid Json Queries**"
      ]
    },
    {
      "cell_type": "markdown",
      "id": "3eecdcf2",
      "metadata": {
        "id": "3eecdcf2"
      },
      "source": [
        "| **Query** | **Input Query** | **Base Model JSON** | **Base Model JSON Validity** | **Fine-tuned Model JSON** | **Fine-tuned Model JSON Validity** |\n",
        "|---|---|---|---|---|---|\n",
        "| **Query 6** | {'payment': {'transactionID': 456789, 'amount': 100.00, 'currency': 'USD', 'method': 'Credit Card', 'status': 'Pending', 'details': {'cardNumber': '**** **** **** 1234', 'expiryDate': '12/23'}}} | ` {\"payment\": {\"transactionID\": 456789, \"amount\": 100.00, \"currency\": \"USD\", \"method\": \"Credit Card\", \"status\": \"Pending\", \"details\": {\"cardNumber\": \"**** **** **** 1234\", \"expiryDate\": \"12/23\"}}}` | Valid JSON | ` [{\"name\": \"verify_payment\", \"arguments\": {\"transaction_id\": 456789, \"amount\": 100.0, \"currency\": \"USD\", \"method\": \"Credit Card\", \"status\": \"Pending\", \"card_number\": \"**** **** **** 1234\", \"expiry_date\": \"12/23\"}}]` | Valid JSON |\n",
        "| **Query 7** | {'portfolio': {'investor': 'Jane Doe', 'stocks': [{'ticker': 'AAPL', 'shares': 50, 'averagePrice': 150}, {'ticker': 'GOOG', 'shares': 30, 'averagePrice': 2500}], 'totalValue': 180000} | ` {\"portfolio\": {\"investor\": \"Jane Doe\", \"stocks\": [{\"ticker\": \"AAPL\", \"shares\": 50, \"averagePrice\": 150}, {\"ticker\": \"GOOG\", \"shares\": 30, \"averagePrice\": 2500}], \"totalValue\": 180000}}` | Valid JSON | ` [{\"name\": \"calculate_investment_return\", \"arguments\": {\"portfolio\": {\"investor\": \"Jane Doe\", \"stocks\": [{\"ticker\": \"AAPL\", \"shares\": 50, \"averagePrice\": 150}, {\"ticker\": \"GOOG\", \"shares\": 30, \"averagePrice\": 2500}], \"totalValue\": 180000}}}]` | Valid JSON |\n",
        "| **Query 8** | {'jobApplication': {'candidateName': 'Alice Doe', 'position': 'Software Engineer', 'status': 'Under Review', 'interviews': [{'round': 1, 'interviewer': 'John Smith'}, {'round': 2, 'interviewer': 'Sara Lee'}], 'notes': 'Strong candidate, needs to improve coding skills'}} | ` {\"jobApplication\": {\"candidateName\": \"Alice Doe\", \"position\": \"Software Engineer\", \"status\": \"Under Review\", \"interviews\": [{\"round\": 1, \"interviewer\": \"John Smith\"}, {\"round\": 2, \"interviewer\": \"Sara Lee\"}], \"notes\": \"Strong candidate, needs to improve coding skills\"}}` | Valid JSON | ` [{\"name\": \"store_job_application\", \"arguments\": {\"candidate_name\": \"Alice Doe\", \"position\": \"Software Engineer\", \"status\": \"Under Review\", \"interviews\": [{\"round\": 1, \"interviewer\": \"John Smith\"}, {\"round\": 2, \"interviewer\": \"Sara Lee\"}], \"notes\": \"Strong candidate, needs to improve coding skills\"}}]` | Valid JSON |\n",
        "| **Query 9** | {'orderID': 12345, 'customer': {'name': 'Alice Johnson', 'email': 'alice@example.com'}, 'items': [{'productID': 567, 'productName': 'Laptop', 'quantity': 1, 'price': 999.99}, {'productID': 789, 'productName': 'Mouse', 'quantity': 2, 'price': 19.99}], 'total': 1039.97 | ` {\"orderID\": 12345, \"customer\": {\"name\": \"Alice Johnson\", \"email\": \"alice@example.com\"}, \"items\": [{\"productID\": 567, \"productName\": \"Laptop\", \"quantity\": 1, \"price\": 999.99}, {\"productID\": 789, \"productName\": \"Mouse\", \"quantity\": 2, \"price\": 19.99}], \"total\": 1039.97}` | Valid JSON | ` [{\"name\": \"process_order\", \"arguments\": {\"order_id\": 12345, \"customer\": {\"name\": \"Alice Johnson\", \"email\": \"alice@example.com\"}, \"items\": [{\"product_id\": 567, \"product_name\": \"Laptop\", \"quantity\": 1, \"price\": 999.99}, {\"product_id\": 789, \"product_name\": \"Mouse\", \"quantity\": 2, \"price\": 19.99}], \"total\": 1039.97}}]`| Valid JSON |\n",
        "| **Query 10** | {'shipment': {'trackingID': 987654321, 'origin': 'Los Angeles', 'destination': 'New York', 'items': [{'itemID': 456, 'name': 'Smartphone', 'quantity': 50}, {'itemID': 789, 'name': 'Laptop', 'quantity': 20}], 'status': 'In Transit' | ` {\"shipment\": {\"trackingID\": 987654321, \"origin\": \"Los Angeles\", \"destination\": \"New York\", \"items\": [{\"itemID\": 456, \"name\": \"Smartphone\", \"quantity\": 50}, {\"itemID\": 789, \"name\": \"Laptop\", \"quantity\": 20}], \"status\": \"In Transit\"}}` | Valid JSON | ` [{\"name\": \"track_shipment\", \"arguments\": {\"tracking_id\": 987654321}}]` | Valid JSON |\n",
        "| **Query 11** | {'conferenceCall': {'callID': 456123, 'participants': ['John Doe', 'Jane Smith'], 'agenda': 'Project Planning', 'date': '2022-05-01', 'time': '10:00 AM', 'duration': '1h'}} | ` {\"conferenceCall\": {\"callID\": 456123, \"participants\": [\"John Doe\", \"Jane Smith\"], \"agenda\": \"Project Planning\", \"date\": \"2022-05-01\", \"time\": \"10:00 AM\", \"duration\": \"1h\"}}` | Valid JSON | ` [{\"name\": \"conference_call\", \"arguments\": {\"call_id\": 456123, \"participants\": [\"John Doe\", \"Jane Smith\"], \"agenda\": \"Project Planning\", \"date\": \"2022-05-01\", \"time\": \"10:00 AM\", \"duration\": \"1h\"}}]` | Valid JSON |\n",
        "| **Query 12** | {'patient': {'name': 'Alice Doe', 'age': 30, 'medicalHistory': [{'condition': 'Diabetes', 'diagnosed': '2015'}, {'condition': 'Hypertension', 'diagnosed': '2019'}], 'medications': [{'name': 'Metformin', 'dosage': '500mg'}, {'name': 'Lisinopril', 'dosage': '10mg'}]} | ` {\"patient\": {\"name\": \"Alice Doe\", \"age\": 30, \"medicalHistory\": [{\"condition\": \"Diabetes\", \"diagnosed\": \"2015\"}, {\"condition\": \"Hypertension\", \"diagnosed\": \"2019\"}], \"medications\": [{\"name\": \"Metformin\", \"dosage\": \"500mg\"}, {\"name\": \"Lisinopril\", \"dosage\": \"10mg\"}]}}` | Valid JSON | ` [{\"name\": \"review_medical_history\", \"arguments\": {\"medical_history\": [{\"condition\": \"Diabetes\", \"diagnosed\": \"2015\"}, {\"condition\": \"Hypertension\", \"diagnosed\": \"2019\"}]}}]` | Valid JSON |\n",
        "| **Query 13** | {'movie': {'title': 'Inception', 'director': 'Christopher Nolan', 'year': 2010, 'genres': ['Sci-Fi', 'Thriller'], 'cast': [{'name': 'Leonardo DiCaprio', 'role': 'Dom Cobb'}, {'name': 'Joseph Gordon-Levitt', 'role': 'Arthur'}], 'ratings': {'IMDB': 8.8, 'Rotten Tomatoes': '87%'}}} | ` {\"movie\": {\"title\": \"Inception\", \"director\": \"Christopher Nolan\", \"year\": 2010, \"genres\": [\"Sci-Fi\", \"Thriller\"], \"cast\": [{\"name\": \"Leonardo DiCaprio\", \"role\": \"Dom Cobb\"}, {\"name\": \"Joseph Gordon-Levitt\", \"role\": \"Arthur\"}], \"ratings\": {\"IMDB\": 8.8, \"Rotten Tomatoes\": \"87%\"}}}` | Valid JSON | ` [{\"name\": \"fetch_data\", \"arguments\": {\"movie\": {\"title\": \"Inception\", \"director\": \"Christopher Nolan\", \"year\": 2010, \"genres\": [\"Sci-Fi\", \"Thriller\"], \"cast\": [{\"name\": \"Leonardo DiCaprio\", \"role\": \"Dom Cobb\"}, {\"name\": \"Joseph Gordon-Levitt\", \"role\": \"Arthur\"}], \"ratings\": {\"IMDB\": 8.8, \"Rotten Tomatoes\": \"87%\"}}}}]` | Valid JSON |\n",
        "| **Query 14** | {'trip': {'destination': 'Tokyo', 'startDate': '2023-04-15', 'endDate': '2023-04-30', 'travelers': [{'name': 'Alice Johnson', 'passport': '123456789'}, {'name': 'Bob Williams', 'passport': '987654321'}], 'itinerary': [{'day': 1, 'activity': 'Visit Tokyo Tower'}, {'day': 2, 'activity': 'Explore Shibuya Crossing'}], 'hotel': 'The Ritz-Carlton', 'roomType': 'Suite'}} | ` {\"trip\": {\"destination\": \"Tokyo\", \"startDate\": \"2023-04-15\", \"endDate\": \"2023-04-30\", \"travelers\": [{\"name\": \"Alice Johnson\", \"passport\": \"123456789\"}, {\"name\": \"Bob Williams\", \"passport\": \"987654321\"}], \"itinerary\": [{\"day\": 1, \"activity\": \"Visit Tokyo Tower\"}, {\"day\": 2, \"activity\": \"Explore Shibuya Crossing\"}], \"hotel\": \"The Ritz-Carlton\", \"roomType\": \"Suite\"}}` | Valid JSON | ` [{\"name\": \"create_trip_plan\", \"arguments\": {\"trip\": {\"destination\": \"Tokyo\", \"startDate\": \"2023-04-15\", \"endDate\": \"2023-04-30\", \"travelers\": [{\"name\": \"Alice Johnson\", \"passport\": \"123456789\"}, {\"name\": \"Bob Williams\", \"passport\": \"987654321\"}], \"itinerary\": [{\"day\": 1, \"activity\": \"Visit Tokyo Tower\"}, {\"day\": 2, \"activity\": \"Explore Shibuya Crossing\"}], \"hotel\": \"The Ritz-Carlton\", \"roomType\": \"Suite\"}}}]` | Valid JSON |\n",
        "| **Query 15** | {'ecommerce': {'orderID': 987654321, 'customer': {'name': 'Emily Smith', 'email': 'emily@example.com'}, 'items': [{'productID': 12345, 'name': 'Smart TV', 'quantity': 1, 'price': 499.99}, {'productID': 67890, 'name': 'Bluetooth Speaker', 'quantity': 2, 'price': 29.99}], 'total': 559.97, 'status': 'Shipped', 'shipping': {'address': '789 Birch Street', 'city': 'Austin', 'state': 'TX', 'zipcode': 73301'}}} | ` {\"ecommerce\": {\"orderID\": 987654321, \"customer\": {\"name\": \"Emily Smith\", \"email\": \"emily@example.com\"}, \"items\": [{\"productID\": 12345, \"name\": \"Smart TV\", \"quantity\": 1, \"price\": 499.99}, {\"productID\": 67890, \"name\": \"Bluetooth Speaker\", \"quantity\": 2, \"price\": 29.99}], \"total\": 559.97, \"status\": \"Shipped\", \"shipping\": {\"address\": \"789 Birch Street\", \"city\": \"Austin\", \"state\": \"TX\", \"zipcode\": 73301}}}` | Valid JSON | ` [{\"name\": \"get_ecommerce_order\", \"arguments\": {\"order_id\": 987654321}}]` | Valid JSON |\n",
        "| **Query 16** | {'fitness': {'workoutID': 101, 'type': 'Strength Training', 'exercises': [{'name': 'Bench Press', 'sets': 3, 'reps': 10, 'weight': 135}, {'name': 'Squats', 'sets': 4, 'reps': 12, 'weight': 185}], 'date': '2023-07-10', 'duration': '1 hour'}} | ` {\"fitness\": {\"workoutID\": 101, \"type\": \"Strength Training\", \"exercises\": [{\"name\": \"Bench Press\", \"sets\": 3, \"reps\": 10, \"weight\": 135}, {\"name\": \"Squats\", \"sets\": 4, \"reps\": 12, \"weight\": 185}], \"date\": \"2023-07-10\", \"duration\": \"1 hour\"}}` | Valid JSON | ` [{\"name\": \"log_workout\", \"arguments\": {\"workout_id\": 101, \"exercise_list\": [{\"name\": \"Bench Press\", \"sets\": 3, \"reps\": 10, \"weight\": 135}, {\"name\": \"Squats\", \"sets\": 4, \"reps\": 12, \"weight\": 185}], \"date\": \"2023-07-10\", \"duration\": \"1 hour\", \"activity_type\": \"Strength Training\"}}]` | Valid JSON |\n",
        "| **Query 17** | {'concert': {'name': 'Rock Fest 2023', 'location': 'Los Angeles', 'date': '2023-09-20', 'lineup': [{'band': 'The Rolling Stones', 'time': '8:00 PM'}, {'band': 'Queen', 'time': '9:30 PM'}], 'tickets': [{'section': 'VIP', 'price': 500}, {'section': 'General Admission', 'price': 150}], 'available': True} | ` {\"concert\": {\"name\": \"Rock Fest 2023\", \"location\": \"Los Angeles\", \"date\": \"2023-09-20\", \"lineup\": [{\"band\": \"The Rolling Stones\", \"time\": \"8:00 PM\"}, {\"band\": \"Queen\", \"time\": \"9:30 PM\"}], \"tickets\": [{\"section\": \"VIP\", \"price\": 500}, {\"section\": \"General Admission\", \"price\": 150}], \"available\": true}}` | Valid JSON | ` [{\"name\": \"concert\", \"arguments\": {\"name\": \"Rock Fest 2023\", \"location\": \"Los Angeles\", \"date\": \"2023-09-20\", \"lineup\": [{\"band\": \"The Rolling Stones\", \"time\": \"8:00 PM\"}, {\"band\": \"Queen\", \"time\": \"9:30 PM\"}], \"tickets\": [{\"section\": \"VIP\", \"price\": 500}, {\"section\": \"General Admission\", \"price\": 150}], \"available\": true}}]` | Valid JSON |\n",
        "| **Query 18** | {'conference': {'name': 'AI Summit', 'date': '2022-10-15', 'location': 'New York', 'topics': ['AI', 'Machine Learning', 'Deep Learning'], 'speakers': [{'name': 'John Smith', 'topic': 'AI'}, {'name': 'Emily Johnson', 'topic': 'Machine Learning'}] | ` {\"conference\": {\"name\": \"AI Summit\", \"date\": \"2022-10-15\", \"location\": \"New York\", \"topics\": [\"AI\", \"Machine Learning\", \"Deep Learning\"], \"speakers\": [{\"name\": \"John Smith\", \"topic\": \"AI\"}, {\"name\": \"Emily Johnson\", \"topic\": \"Machine Learning\"}]}}` | Valid JSON | ` [{\"name\": \"conference\", \"arguments\": {\"name\": \"AI Summit\", \"date\": \"2022-10-15\", \"location\": \"New York\", \"topics\": [\"AI\", \"Machine Learning\", \"Deep Learning\"], \"speakers\": [{\"name\": \"John Smith\", \"topic\": \"AI\"}, {\"name\": \"Emily Johnson\", \"topic\": \"Machine Learning\"}]}}]` | Valid JSON |\n",
        "| **Query 19** | {'conference': {'name': 'Tech Expo 2023', 'location': 'San Francisco', 'date': '2023-10-15', 'topics': ['AI', 'Blockchain', 'Cybersecurity'], 'speakers': [{'name': 'John McAfee', 'topic': 'Cybersecurity'}, {'name': 'Vitalik Buterin', 'topic': 'Blockchain'}], 'attendees': 3000}} | ` {\"conference\": {\"name\": \"Tech Expo 2023\", \"location\": \"San Francisco\", \"date\": \"2023-10-15\", \"topics\": [\"AI\", \"Blockchain\", \"Cybersecurity\"], \"speakers\": [{\"name\": \"John McAfee\", \"topic\": \"Cybersecurity\"}, {\"name\": \"Vitalik Buterin\", \"topic\": \"Blockchain\"}], \"attendees\": 3000}}` | Valid JSON | ` [{\"name\": \"conference\", \"arguments\": {\"name\": \"Tech Expo 2023\", \"location\": \"San Francisco\", \"date\": \"2023-10-15\", \"topics\": [\"AI\", \"Blockchain\", \"Cybersecurity\"], \"speakers\": [{\"name\": \"John McAfee\", \"topic\": \"Cybersecurity\"}, {\"name\": \"Vitalik Buterin\", \"topic\": \"Blockchain\"}], \"attendees\": 3000}}]` | Valid JSON |\n",
        "| **Query 20** | {'survey': {'title': 'Customer Satisfaction', 'responses': [{'question': 'How would you rate our service?', 'rating': 5}, {'question': 'What can we improve?', 'text': 'Faster shipping'}], 'summary': {'averageRating': 4.8, 'commonSuggestions': ['Lower prices', 'More products']}}} | ` {\"survey\": {\"title\": \"Customer Satisfaction\", \"responses\": [{\"question\": \"How would you rate our service?\", \"rating\": 5}, {\"question\": \"What can we improve?\", \"text\": \"Faster shipping\"}], \"summary\": {\"averageRating\": 4.8, \"commonSuggestions\": [\"Lower prices\", \"More products\"]}}}` | Valid JSON | ` [{\"name\": \"analyze_survey\", \"arguments\": {\"survey\": {\"title\": \"Customer Satisfaction\", \"responses\": [{\"question\": \"How would you rate our service?\", \"rating\": 5}, {\"question\": \"What can we improve?\", \"text\": \"Faster shipping\"}], \"summary\": {\"averageRating\": 4.8, \"commonSuggestions\": [\"Lower prices\", \"More products\"]}}}}]` | Valid JSON |\n",
        "| **Query 21** | {'socialMedia': {'platform': 'Twitter', 'user': {'username': 'janedoe', 'followers': 5000, 'following': 300, 'tweets': [{'date': '2023-07-10', 'content': 'Just got a new job!'}, {'date': '2023-08-01', 'content': 'Loving my new apartment.'}], 'likes': 100, 'retweets': 10}}} | ` {\"socialMedia\": {\"platform\": \"Twitter\", \"user\": {\"username\": \"janedoe\", \"followers\": 5000, \"following\": 300, \"tweets\": [{\"date\": \"2023-07-10\", \"content\": \"Just got a new job!\"}, {\"date\": \"2023-08-01\", \"content\": \"Loving my new apartment.\"}], \"likes\": 100, \"retweets\": 10}}}` | Valid JSON | ` [{\"name\": \"analyze_social_media_activity\", \"arguments\": {\"social_media_data\": [{\"platform\": \"Twitter\", \"user\": {\"username\": \"janedoe\", \"followers\": 5000, \"following\": 300, \"tweets\": [{\"date\": \"2023-07-10\", \"content\": \"Just got a new job!\"}, {\"date\": \"2023-08-01\", \"content\": \"Loving my new apartment.\"}], \"likes\": 100, \"retweets\": 10}}]}}]` | Valid JSON |\n",
        "| **Query 22** | {'artExhibit': {'name': 'Modern Art Showcase', 'location': 'Museum of Fine Arts', 'date': '2023-11-05', 'artists': [{'name': 'Pablo Picasso', 'works': ['The Weeping Woman', 'Guernica']}, {'name': 'Vincent van Gogh', 'works': ['Starry Night', 'Sunflowers']}], 'tickets': {'price': 25, 'available': True}}} | ` {\"artExhibit\": {\"name\": \"Modern Art Showcase\", \"location\": \"Museum of Fine Arts\", \"date\": \"2023-11-05\", \"artists\": [{\"name\": \"Pablo Picasso\", \"works\": [\"The Weeping Woman\", \"Guernica\"]}, {\"name\": \"Vincent van Gogh\", \"works\": [\"Starry Night\", \"Sunflowers\"]}], \"tickets\": {\"price\": 25, \"available\": true}}}` | Valid JSON | ` [{\"name\": \"generate_art_exhibit_ticket\", \"arguments\": {\"name\": \"Modern Art Showcase\", \"location\": \"Museum of Fine Arts\", \"date\": \"2023-11-05\", \"artists\": [{\"name\": \"Pablo Picasso\", \"works\": [\"The Weeping Woman\", \"Guernica\"]}, {\"name\": \"Vincent van Gogh\", \"works\": [\"Starry Night\", \"Sunflowers\"]}], \"tickets\": {\"price\": 25, \"available\": true}}}]` | Valid JSON |\n",
        "| **Query 23** | {'banking': {'accountHolder': 'John Doe', 'accountNumber': '12345678', 'transactions': [{'date': '2023-01-01', 'description': 'Deposit', 'amount': 1000}, {'date': '2023-02-15', 'description': 'Withdrawal', 'amount': 500}], 'balance': 500}} | ` {\"banking\": {\"accountHolder\": \"John Doe\", \"accountNumber\": \"12345678\", \"transactions\": [{\"date\": \"2023-01-01\", \"description\": \"Deposit\", \"amount\": 1000}, {\"date\": \"2023-02-15\", \"description\": \"Withdrawal\", \"amount\": 500}], \"balance\": 500}}` | Valid JSON | ` [{\"name\": \"get_account_balance\", \"arguments\": {\"account_holder\": \"John Doe\", \"account_number\": \"12345678\", \"transactions\": [{\"date\": \"2023-01-01\", \"description\": \"Deposit\", \"amount\": 1000}, {\"date\": \"2023-02-15\", \"description\": \"Withdrawal\", \"amount\": 500}]}}]` | Valid JSON |\n",
        "| **Query 24** | {'scientificResearch': {'studyID': 654321, 'title': 'Gene Therapy for Cancer', 'researchers': [{'name': 'Dr. Alice Doe', 'institution': 'Harvard University'}, {'name': 'Dr. Bob Smith', 'institution': 'MIT'}], 'status': 'In Progress', 'funding': 5000000}} | ` {\"scientificResearch\": {\"studyID\": 654321, \"title\": \"Gene Therapy for Cancer\", \"researchers\": [{\"name\": \"Dr. Alice Doe\", \"institution\": \"Harvard University\"}, {\"name\": \"Dr. Bob Smith\", \"institution\": \"MIT\"}], \"status\": \"In Progress\", \"funding\": 5000000}}` | Valid JSON | ` [{\"name\": \"get_research\", \"arguments\": {\"study_id\": 654321}}]` | Valid JSON |\n",
        "| **Query 25** | {'musicConcert': {'concertID': 987123, 'artist': 'The Beatles', 'date': '1965-08-15', 'venue': 'Shea Stadium', 'setlist': [{'song': 'Twist and Shout'}, {'song': 'Help!'}], 'tickets': {'price': 5, 'soldOut': True}}} | ` {\"musicConcert\": {\"concertID\": 987123, \"artist\": \"The Beatles\", \"date\": \"1965-08-15\", \"venue\": \"Shea Stadium\", \"setlist\": [{\"song\": \"Twist and Shout\"}, {\"song\": \"Help!\"}], \"tickets\": {\"price\": 5, \"soldOut\": true}}}` | Valid JSON | ` [{\"name\": \"music_concert\", \"arguments\": {\"concertid\": 987123, \"artist\": \"The Beatles\", \"date\": \"1965-08-15\", \"venue\": \"Shea Stadium\", \"setlist\": [{\"song\": \"Twist and Shout\"}, {\"song\": \"Help!\"}], \"tickets\": {\"price\": 5, \"soldout\": true}}}]` | Valid JSON |\n",
        "| **Query 26** | {'fitnessChallenge': {'challengeID': 456789, 'name': '30-Day Fitness Challenge', 'participants': [{'name': 'John Doe', 'progress': 'Week 2'}, {'name': 'Jane Smith', 'progress': 'Week 3'}], 'startDate': '2023-01-01', 'endDate': '2023-01-30'}} | ` {\"fitnessChallenge\": {\"challengeID\": 456789, \"name\": \"30-Day Fitness Challenge\", \"participants\": [{\"name\": \"John Doe\", \"progress\": \"Week 2\"}, {\"name\": \"Jane Smith\", \"progress\": \"Week 3\"}], \"startDate\": \"2023-01-01\", \"endDate\": \"2023-01-30\"}}` | Valid JSON | ` [{\"name\": \"get_fitness_challenge\", \"arguments\": {\"challengeID\": 456789}}]` | Valid JSON |\n",
        "| **Query 27** | {'stockMarket': {'stock': {'symbol': 'AAPL', 'company': 'Apple Inc.', 'price': 150.50, 'marketCap': '2.5T', 'dividendYield': '0.5%'}, 'sector': 'Technology'}} | ` {\"stockMarket\": {\"stock\": {\"symbol\": \"AAPL\", \"company\": \"Apple Inc.\", \"price\": 150.5, \"marketCap\": \"2.5T\", \"dividendYield\": \"0.5%\"}, \"sector\": \"Technology\"}}` | Valid JSON | ` [{\"name\": \"stock_market\", \"arguments\": {\"stock\": {\"symbol\": \"AAPL\", \"company\": \"Apple Inc.\", \"price\": 150.5, \"marketCap\": \"2.5T\", \"dividendYield\": \"0.5%\"}, \"sector\": \"Technology\"}}]` | Valid JSON |\n",
        "| **Query 28** | {'movieReview': {'title': 'The Godfather', 'director': 'Francis Ford Coppola', 'year': 1972, 'ratings': {'IMDB': 9.2, 'Rotten Tomatoes': '98%'}, 'review': 'An absolute classic. A must-watch for any film enthusiast.'}} | ` {\"movieReview\": {\"title\": \"The Godfather\", \"director\": \"Francis Ford Coppola\", \"year\": 1972, \"ratings\": {\"IMDB\": 9.2, \"Rotten Tomatoes\": \"98%\"}, \"review\": \"An absolute classic. A must-watch for any film enthusiast.\"}}` | Valid JSON | ` [{\"name\": \"analyze_movie_review\", \"arguments\": {\"title\": \"The Godfather\", \"director\": \"Francis Ford Coppola\", \"year\": 1972, \"ratings\": {\"IMDB\": 9.2, \"Rotten Tomatoes\": \"98%\"}, \"review\": \"An absolute classic. A must-watch for any film enthusiast.\"}}]` | Valid JSON |\n",
        "| **Query 29** | {'onlineCourse': {'courseID': 123456, 'title': 'Data Science 101', 'instructor': {'name': 'Dr. Alice Doe', 'institution': 'MIT'}, 'students': 500, 'startDate': '2023-09-01', 'endDate': '2023-12-01'}} | ` {\"onlineCourse\": {\"courseID\": 123456, \"title\": \"Data Science 101\", \"instructor\": {\"name\": \"Dr. Alice Doe\", \"institution\": \"MIT\"}, \"students\": 500, \"startDate\": \"2023-09-01\", \"endDate\": \"2023-12-01\"}}` | Valid JSON | ` [{\"name\": \"retrieve_online_course\", \"arguments\": {\"course_id\": 123456}}]` | Valid JSON |\n",
        "| **Query 30** | {'travelItinerary': {'itineraryID': 789012, 'destination': 'Paris', 'departureDate': '2023-06-15', 'returnDate': '2023-06-30', 'traveler': {'name': 'John Doe', 'passport': '123456789'}, 'accommodation': {'hotel': 'Le Meurice', 'roomType': 'Deluxe Suite'}}} | ` {\"travelItinerary\": {\"itineraryID\": 789012, \"destination\": \"Paris\", \"departureDate\": \"2023-06-15\", \"returnDate\": \"2023-06-30\", \"traveler\": {\"name\": \"John Doe\", \"passport\": \"123456789\"}, \"accommodation\": {\"hotel\": \"Le Meurice\", \"roomType\": \"Deluxe Suite\"}}}` | Valid JSON | ` [{\"name\": \"generate_travel_plan\", \"arguments\": {\"itinerary_id\": 789012, \"destination\": \"Paris\", \"departure_date\": \"2023-06-15\", \"return_date\": \"2023-06-30\", \"traveler\": {\"name\": \"John Doe\", \"passport\": \"123456789\"}, \"accommodation\": {\"hotel\": \"Le Meurice\", \"room_type\": \"Deluxe Suite\"}}}]` | Valid JSON |"
      ]
    },
    {
      "cell_type": "markdown",
      "id": "1761bd07",
      "metadata": {},
      "source": [
        "**Finetuned Model Valid JSON Responses: 30/30 (100%)**\n",
        "\n",
        "**Base Model Valid JSON Responses: 30/30 (100%)**"
      ]
    }
  ],
  "metadata": {
    "colab": {
      "provenance": []
    },
    "kernelspec": {
      "display_name": "gemma2",
      "language": "python",
      "name": "python3"
    },
    "language_info": {
      "codemirror_mode": {
        "name": "ipython",
        "version": 3
      },
      "file_extension": ".py",
      "mimetype": "text/x-python",
      "name": "python",
      "nbconvert_exporter": "python",
      "pygments_lexer": "ipython3",
      "version": "3.10.14"
    }
  },
  "nbformat": 4,
  "nbformat_minor": 5
}
